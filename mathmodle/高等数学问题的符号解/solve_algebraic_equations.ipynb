{
 "cells": [
  {
   "cell_type": "markdown",
   "id": "61248742",
   "metadata": {},
   "source": [
    "求解代数方程(方程组)的符号解\n",
    "solve(equations, variables, **flags)\n",
    "    equations: 单个方程或方程组（列表形式）  # 方程需写成 f(x)=0 形式\n",
    "    variables: 待求解的变量（单个变量或列表）\n",
    "    flags: 可选参数（如 dict=True 返回字典形式的解）"
   ]
  },
  {
   "cell_type": "code",
   "execution_count": null,
   "id": "9f608a4f",
   "metadata": {},
   "outputs": [
    {
     "name": "stdout",
     "output_type": "stream",
     "text": [
      "[1, -1/2 - sqrt(3)*I/2, -1/2 + sqrt(3)*I/2]\n",
      "[1, 2]\n",
      "{2: 2, 1: 3}\n"
     ]
    }
   ],
   "source": [
    "from sympy import *\n",
    "\n",
    "x,y = symbols('x y')\n",
    "solve_1 = solve(x**3-1,x)  # 方程需写成 f(x)=0 形式\n",
    "print(solve_1)\n",
    "solve_2 = solve((x-2)**2*(x-1)**3,x)\n",
    "print(solve_2)\n",
    "ro = roots((x-2)**2*(x-1)**3,x)  #roots可以得到根的重根信息\n",
    "print(ro)"
   ]
  },
  {
   "cell_type": "markdown",
   "id": "dd19eaeb",
   "metadata": {},
   "source": [
    "求解方程组\n",
    "x^2+y^2=1\n",
    "x-y=0"
   ]
  },
  {
   "cell_type": "code",
   "execution_count": null,
   "id": "eaf80e4c",
   "metadata": {},
   "outputs": [
    {
     "name": "stdout",
     "output_type": "stream",
     "text": [
      "方程组的解为： [(-sqrt(2)/2, -sqrt(2)/2), (sqrt(2)/2, sqrt(2)/2)]\n"
     ]
    }
   ],
   "source": [
    "from sympy.abc import x,y  #从SymPy的abc模块导入符号变量x和y,这相当于执行了x = symbols('x')和y = symbols('y')\n",
    "from sympy import solve  #这个函数用于求解代数方程（组）\n",
    "\n",
    "s = solve([x**2+y**2-1, x-y], [x,y])\n",
    "print('方程组的解为：',s)"
   ]
  },
  {
   "cell_type": "markdown",
   "id": "a68c1709",
   "metadata": {},
   "source": [
    "求函数f(x) = 2x^3-5x^2+x 的驻点，并求函数在[0,1]上的最大值"
   ]
  },
  {
   "cell_type": "code",
   "execution_count": 5,
   "id": "0b4adfd5",
   "metadata": {},
   "outputs": [
    {
     "name": "stdout",
     "output_type": "stream",
     "text": [
      "驻点为: [5/6 - sqrt(19)/6, sqrt(19)/6 + 5/6]\n",
      "[0.106850176076554, 1.55981649059011]\n",
      "边界值和驻点的函数值为: [0, -2, 0.0522051838383851]\n"
     ]
    }
   ],
   "source": [
    "from sympy import *\n",
    "\n",
    "x = symbols('x')\n",
    "y = 2*x**3-5*x**2+x\n",
    "x0 = solve(diff(y,x),x)  #通过一阶导求驻点\n",
    "print('驻点为:',x0)\n",
    "float_x0 = [x0[i].n() for i in range(len(x0))]   #.n()是SymPy的求值方法，将符号表达式转换为浮点数近似值\n",
    "print(float_x0)\n",
    "y0 = [y.subs(x,0), y.subs(x,1), y.subs(x,x0[0]).n()]\n",
    "print('边界值和驻点的函数值为:', y0)"
   ]
  }
 ],
 "metadata": {
  "kernelspec": {
   "display_name": "Python 3",
   "language": "python",
   "name": "python3"
  },
  "language_info": {
   "codemirror_mode": {
    "name": "ipython",
    "version": 3
   },
   "file_extension": ".py",
   "mimetype": "text/x-python",
   "name": "python",
   "nbconvert_exporter": "python",
   "pygments_lexer": "ipython3",
   "version": "3.11.9"
  }
 },
 "nbformat": 4,
 "nbformat_minor": 5
}
