{
 "cells": [
  {
   "cell_type": "markdown",
   "id": "cc1deca5",
   "metadata": {},
   "source": [
    "# 级数求和\n",
    "sympy.summation(f, *symbols, **kwargs)\n",
    "    f：求和表达式\n",
    "    *symbols：求和变量及范围，格式 (变量, 下限, 上限)\n",
    "    ****kwargs**：可选参数（如求极限时使用）"
   ]
  },
  {
   "cell_type": "code",
   "execution_count": 1,
   "id": "616ad2f3",
   "metadata": {},
   "outputs": [
    {
     "name": "stdout",
     "output_type": "stream",
     "text": [
      "n**3/3 + n**2/2 + n/6\n",
      "n*(n + 1)*(2*n + 1)/6\n",
      "pi**2/6\n"
     ]
    }
   ],
   "source": [
    "from sympy import *\n",
    "\n",
    "k,n = symbols('k n')\n",
    "sum1 = summation(k**2,(k,1,n))\n",
    "print(sum1)\n",
    "fac = factor(sum1)  #把计算结果因式分解\n",
    "print(fac)\n",
    "sum2 = summation(1/k**2,(k,1,oo))\n",
    "print(sum2)"
   ]
  },
  {
   "cell_type": "markdown",
   "id": "03f889b1",
   "metadata": {},
   "source": [
    "# 单重求和"
   ]
  },
  {
   "cell_type": "code",
   "execution_count": 2,
   "id": "38ebe428",
   "metadata": {},
   "outputs": [
    {
     "name": "stdout",
     "output_type": "stream",
     "text": [
      "n**2/2 + n/2\n"
     ]
    }
   ],
   "source": [
    "from sympy import symbols, summation\n",
    "k, n = symbols('k n')\n",
    "# 计算 ∑k (k从1到n)\n",
    "sum1 = summation(k, (k, 1, n))  # 输出: n²/2 + n/2\n",
    "print(sum1)"
   ]
  },
  {
   "cell_type": "markdown",
   "id": "78ecb304",
   "metadata": {},
   "source": [
    "# 多重求和"
   ]
  },
  {
   "cell_type": "code",
   "execution_count": 3,
   "id": "db9c6a1e",
   "metadata": {},
   "outputs": [
    {
     "name": "stdout",
     "output_type": "stream",
     "text": [
      "m*(n**2/2 + n/2) + n*(m**2/2 + m/2)\n"
     ]
    }
   ],
   "source": [
    "from sympy import symbols, summation\n",
    "# 计算 ∑∑(i+j) (i从1到m, j从1到n)\n",
    "i, j, m = symbols('i j m')\n",
    "sum2 = summation(i + j, (i, 1, m), (j, 1, n))\n",
    "print(sum2)"
   ]
  },
  {
   "cell_type": "markdown",
   "id": "ae0ae43d",
   "metadata": {},
   "source": [
    "# 含参数求和"
   ]
  },
  {
   "cell_type": "code",
   "execution_count": 4,
   "id": "5d7c2c0c",
   "metadata": {},
   "outputs": [
    {
     "name": "stdout",
     "output_type": "stream",
     "text": [
      "a*(n**2/2 + n/2)\n"
     ]
    }
   ],
   "source": [
    "from sympy import symbols, summation\n",
    "a = symbols('a')\n",
    "sum3 = summation(a*k, (k, 1, n))  # 输出: a*(n²/2 + n/2)\n",
    "print(sum3)"
   ]
  },
  {
   "cell_type": "markdown",
   "id": "963ecbad",
   "metadata": {},
   "source": [
    "# 特殊功能\n",
    "(1) 无限级数"
   ]
  },
  {
   "cell_type": "code",
   "execution_count": 5,
   "id": "071dc65f",
   "metadata": {},
   "outputs": [
    {
     "name": "stdout",
     "output_type": "stream",
     "text": [
      "1\n"
     ]
    }
   ],
   "source": [
    "from sympy import oo\n",
    "sum_inf = summation(1/2**k, (k, 1, oo))  # 输出: 1\n",
    "print(sum_inf)"
   ]
  },
  {
   "cell_type": "markdown",
   "id": "80b31e15",
   "metadata": {},
   "source": [
    "(2) 条件收敛判断"
   ]
  },
  {
   "cell_type": "code",
   "execution_count": 8,
   "id": "97e5b932",
   "metadata": {},
   "outputs": [
    {
     "name": "stdout",
     "output_type": "stream",
     "text": [
      "True\n"
     ]
    }
   ],
   "source": [
    "from sympy import Sum, symbols, oo\n",
    "k = symbols('k')\n",
    "s = Sum((-1)**k/k, (k, 1, oo))\n",
    "print(s.is_convergent())  # 输出: True"
   ]
  }
 ],
 "metadata": {
  "kernelspec": {
   "display_name": "Python 3",
   "language": "python",
   "name": "python3"
  },
  "language_info": {
   "codemirror_mode": {
    "name": "ipython",
    "version": 3
   },
   "file_extension": ".py",
   "mimetype": "text/x-python",
   "name": "python",
   "nbconvert_exporter": "python",
   "pygments_lexer": "ipython3",
   "version": "3.11.9"
  }
 },
 "nbformat": 4,
 "nbformat_minor": 5
}
