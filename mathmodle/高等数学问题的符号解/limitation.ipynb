{
 "cells": [
  {
   "cell_type": "markdown",
   "id": "a59b44e7",
   "metadata": {},
   "source": [
    "求极限"
   ]
  },
  {
   "cell_type": "code",
   "execution_count": null,
   "id": "81d12c91",
   "metadata": {},
   "outputs": [
    {
     "name": "stdout",
     "output_type": "stream",
     "text": [
      "1\n",
      "E\n"
     ]
    }
   ],
   "source": [
    "from sympy import *\n",
    "\n",
    "x = symbols('x')  #symbols('x')：定义符号变量 x\n",
    "print(limit(sin(x)/x, x,0))  #记算sin(x)/x在x→0时的极限\n",
    "print(limit(pow(1+1/x, x), x,oo))  #记算(1+1/x)^x在x→∞ 时的极限。 这里时两个小'o'表示∞\n",
    "\"\"\"\n",
    "pow() 是 Python 的内置函数，用于计算幂运算（即求一个数的多少次方）\n",
    "1. 基本形式：pow(base, exp)\n",
    "2. 带模运算的形式：pow(base, exp, mod)\n",
    "\"\"\""
   ]
  }
 ],
 "metadata": {
  "kernelspec": {
   "display_name": "Python 3",
   "language": "python",
   "name": "python3"
  },
  "language_info": {
   "codemirror_mode": {
    "name": "ipython",
    "version": 3
   },
   "file_extension": ".py",
   "mimetype": "text/x-python",
   "name": "python",
   "nbconvert_exporter": "python",
   "pygments_lexer": "ipython3",
   "version": "3.11.9"
  }
 },
 "nbformat": 4,
 "nbformat_minor": 5
}
