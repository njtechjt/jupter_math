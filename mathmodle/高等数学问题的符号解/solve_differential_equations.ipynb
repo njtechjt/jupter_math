{
 "cells": [
  {
   "cell_type": "markdown",
   "id": "b1cb09b2",
   "metadata": {},
   "source": [
    "求微分方程(方程组)的符号解\n",
    "Sympy库提供了dsolve函数求常微分方程的符号解\n",
    "在声明时可以用Function()函数\n",
    ">>>y = Function('y')\n",
    "或者\n",
    ">>>y = symbols('y',cls=Function)\n",
    "将符号变量声明为函数类型\n",
    "\n",
    "dsolve() 是 SymPy 中用于求解常微分方程（ODE）和微分方程组的核心函数，支持解析求解（符号解）。\n",
    "    dsolve(eq, func=None, hint='default', simplify=True, ics=None, ...)\n",
    "        eq: 微分方程（或方程组）\n",
    "        func: 待求解的函数（如 y(x)）\n",
    "        hint: 指定解法（如 'separable', 'linear' 等）\n",
    "            常见的 dsolve hints（适用于一阶ODE）\n",
    "            Hint 名称\t                适用方程类型\n",
    "            '1st_linear'\t        一阶线性微分方程（标准形式）\n",
    "            'separable'\t            可分离变量的微分方程\n",
    "            'exact'\t                恰当方程（Exact ODE）\n",
    "            'Bernoulli'\t            伯努利方程\n",
    "        ics: 初始条件（Initial Conditions），形式为 {y(0): 1, y(x).diff(x).subs(x, 0): 0}"
   ]
  },
  {
   "cell_type": "markdown",
   "id": "7c98ae74",
   "metadata": {},
   "source": [
    "求下列微分方程的通解\n",
    "1. 齐次方程: y\"-5y'+6y = 0\n",
    "2. 非齐次方程: y\"-5y'+6y = x*e^2x"
   ]
  },
  {
   "cell_type": "code",
   "execution_count": 2,
   "id": "49b4fcd3",
   "metadata": {},
   "outputs": [
    {
     "name": "stdout",
     "output_type": "stream",
     "text": [
      "齐次方程的通解为: Eq(y(x), (C1 + C2*exp(x))*exp(2*x))\n",
      "非齐次方程的通解为: Eq(y(x), (C1 + C2*exp(x) - x**2/2 - x)*exp(2*x))\n"
     ]
    }
   ],
   "source": [
    "from sympy import *\n",
    "\n",
    "x = symbols('x')\n",
    "y = Function('y')  #或者y = symbols('y',cls=Function)\n",
    "eq1 = diff(y(x),x,2) - 5*diff(y(x),x) + 6*y(x)\n",
    "ds1 = dsolve(eq1,y(x))\n",
    "print('齐次方程的通解为:', ds1)\n",
    "eq2 = diff(y(x),x,2) - 5*diff(y(x),x) + 6*y(x) - x*exp(2*x)\n",
    "ds2 = dsolve(eq2,y(x))\n",
    "print('非齐次方程的通解为:', ds2) "
   ]
  },
  {
   "cell_type": "markdown",
   "id": "a9019b56",
   "metadata": {},
   "source": [
    "求下列微分方程的解\n",
    "1. 初值问题：齐次方程: y\"-5y'+6y = 0，y(0)=1, y'(0)=0\n",
    "2. 初值问题：非齐次方程: y\"-5y'+6y = x*e^2x，y(0)=1,y(2)=0"
   ]
  },
  {
   "cell_type": "code",
   "execution_count": null,
   "id": "d5d8d107",
   "metadata": {},
   "outputs": [
    {
     "name": "stdout",
     "output_type": "stream",
     "text": [
      "初值问题的齐次方程的解为: Eq(y(x), (3 - 2*exp(x))*exp(2*x))\n",
      "初值问题的非齐次方程的解为: Eq(y(x), (-x**2/2 - x + (2 + 3*exp(4))*exp(x)/(-exp(4) + exp(6)) + (-4*exp(4) - 2 + exp(6))/(-exp(4) + exp(6)))*exp(2*x))\n"
     ]
    }
   ],
   "source": [
    "from sympy import *\n",
    "\n",
    "x = symbols('x')\n",
    "y = Function('y')  #或者y = symbols('y',cls=Function)\n",
    "eq1 = diff(y(x),x,2) - 5*diff(y(x),x) + 6*y(x)\n",
    "ds1 = dsolve(eq1,y(x),ics={y(0):1, diff(y(x),x).subs(x,0):0})  #.subs(x, 0) 是 符号替换 的核心方法，用于将表达式中的变量替换为特定值或其他表达式。\n",
    "print('初值问题的齐次方程的解为:', ds1)\n",
    "eq2 = diff(y(x),x,2) - 5*diff(y(x),x) + 6*y(x) - x*exp(2*x)\n",
    "ds2 = dsolve(eq2,y(x),ics={y(0):1, y(2):2})\n",
    "print('初值问题的非齐次方程的解为:', ds2) "
   ]
  },
  {
   "cell_type": "markdown",
   "id": "528e8a42",
   "metadata": {},
   "source": [
    "# 求解一阶常微分方程\n",
    "在 SymPy 中，Derivative() 是用于表示和计算导数（微分）的核心函数，既可以表示未计算的导数符号，也可以实际计算导数。\n",
    "    Derivative(expr, var1, [var2, ...], evaluate=False)\n",
    "        expr: 要求导的表达式\n",
    "        var1, var2, ...: 对哪些变量求导（支持多元高阶导数）\n",
    "        evaluate:\n",
    "            False（默认）：仅保持导数形式不计算\n",
    "            True：立即计算导数      \n",
    "示例1：可分离变量方程\n",
    "dy/dx = y"
   ]
  },
  {
   "cell_type": "code",
   "execution_count": 5,
   "id": "3eb00145",
   "metadata": {},
   "outputs": [
    {
     "name": "stdout",
     "output_type": "stream",
     "text": [
      "Eq(y(x), C1*exp(x))\n"
     ]
    }
   ],
   "source": [
    "from sympy import symbols, Function, dsolve, Derivative\n",
    "\n",
    "x = symbols('x')\n",
    "y = Function('y')(x)\n",
    "ode = Derivative(y, x) - y  # dy/dx - y = 0\n",
    "solution = dsolve(ode, y)\n",
    "print(solution)  # 输出: y(x) = C₁⋅eˣ"
   ]
  },
  {
   "cell_type": "markdown",
   "id": "c200ddef",
   "metadata": {},
   "source": [
    "示例2：线性方程\n",
    "dy/dx+2xy=x"
   ]
  },
  {
   "cell_type": "code",
   "execution_count": 8,
   "id": "1b0db802",
   "metadata": {},
   "outputs": [
    {
     "name": "stdout",
     "output_type": "stream",
     "text": [
      "Eq(y(x), C1*exp(-x**2) + 1/2)\n"
     ]
    }
   ],
   "source": [
    "from sympy import symbols, Function, dsolve, Derivative\n",
    "\n",
    "x = symbols('x')\n",
    "y = Function('y')(x)\n",
    "ode = Derivative(y, x) + 2*x*y - x\n",
    "solution = dsolve(ode, y)\n",
    "print(solution)  # 输出: y(x) = C₁⋅e⁻ˣ² + 1/2"
   ]
  },
  {
   "cell_type": "markdown",
   "id": "a96ea04d",
   "metadata": {},
   "source": [
    "# 求解高阶常微分方程\n",
    "示例3：二阶齐次方程\n",
    "d²y/dx² + y = 0"
   ]
  },
  {
   "cell_type": "code",
   "execution_count": 9,
   "id": "143839b7",
   "metadata": {},
   "outputs": [
    {
     "name": "stdout",
     "output_type": "stream",
     "text": [
      "Eq(y(x), C1*sin(x) + C2*cos(x))\n"
     ]
    }
   ],
   "source": [
    "from sympy import symbols, Function, dsolve, Derivative\n",
    "\n",
    "x = symbols('x')\n",
    "y = Function('y')(x)\n",
    "ode = Derivative(y, x, 2) + y  # d²y/dx² + y = 0\n",
    "solution = dsolve(ode, y)\n",
    "print(solution)  # 输出: y(x) = C₁⋅sin(x) + C₂⋅cos(x)"
   ]
  },
  {
   "cell_type": "markdown",
   "id": "9226bdcb",
   "metadata": {},
   "source": [
    "示例4：带初始条件的二阶方程"
   ]
  },
  {
   "cell_type": "code",
   "execution_count": 10,
   "id": "335b48aa",
   "metadata": {},
   "outputs": [
    {
     "name": "stdout",
     "output_type": "stream",
     "text": [
      "Eq(y(x), cos(x))\n"
     ]
    }
   ],
   "source": [
    "from sympy import symbols, Function, dsolve, Derivative\n",
    "\n",
    "x = symbols('x')\n",
    "y = Function('y')(x)\n",
    "ics = {y.subs(x, 0): 1, y.diff(x).subs(x, 0): 0}\n",
    "solution = dsolve(ode, y, ics=ics)\n",
    "print(solution)  # 输出: y(x) = cosh(x)"
   ]
  },
  {
   "cell_type": "markdown",
   "id": "d1026eae",
   "metadata": {},
   "source": [
    "# 求解微分方程组\n",
    "示例5：耦合线性方程组"
   ]
  },
  {
   "cell_type": "code",
   "execution_count": 11,
   "id": "606adcd4",
   "metadata": {},
   "outputs": [
    {
     "name": "stdout",
     "output_type": "stream",
     "text": [
      "[Eq(x(t), -C1*exp(-t) + C2*exp(t)), Eq(y(t), C1*exp(-t) + C2*exp(t))]\n"
     ]
    }
   ],
   "source": [
    "from sympy import symbols, Function, dsolve, Derivative\n",
    "\n",
    "x = symbols('x')\n",
    "y = Function('y')(x)\n",
    "t = symbols('t')\n",
    "x, y = [Function(var)(t) for var in ['x', 'y']]\n",
    "eq1 = Derivative(x, t) - y  # dx/dt = y\n",
    "eq2 = Derivative(y, t) - x  # dy/dt = x\n",
    "\n",
    "solution = dsolve([eq1, eq2], [x, y])\n",
    "print(solution)\n",
    "# 输出: \n",
    "# [x(t) = -C₁⋅e⁻ᵗ + C₂⋅eᵗ, \n",
    "#  y(t) = C₁⋅e⁻ᵗ + C₂⋅eᵗ]"
   ]
  }
 ],
 "metadata": {
  "kernelspec": {
   "display_name": "Python 3",
   "language": "python",
   "name": "python3"
  },
  "language_info": {
   "codemirror_mode": {
    "name": "ipython",
    "version": 3
   },
   "file_extension": ".py",
   "mimetype": "text/x-python",
   "name": "python",
   "nbconvert_exporter": "python",
   "pygments_lexer": "ipython3",
   "version": "3.11.9"
  }
 },
 "nbformat": 4,
 "nbformat_minor": 5
}
