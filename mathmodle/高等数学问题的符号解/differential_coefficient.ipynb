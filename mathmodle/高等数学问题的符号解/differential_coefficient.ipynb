{
 "cells": [
  {
   "cell_type": "markdown",
   "id": "63858f98",
   "metadata": {},
   "source": [
    "求导数\n",
    "\n",
    "已知z = sinx+x^2·e^y,求z对x 的二阶导和z对y的已一阶导\n",
    "\n",
    "# 基本用法\n",
    "diff(expr, var[, n][, *vars])\n",
    "    expr: 待求导的符号表达式\n",
    "    var: 对哪个变量求导（可多个）\n",
    "    n (可选): 求导阶数（默认为1）\n",
    "    *vars (可选): 用于混合偏导的变量序列"
   ]
  },
  {
   "cell_type": "code",
   "execution_count": null,
   "id": "de81a8c5",
   "metadata": {},
   "outputs": [
    {
     "name": "stdout",
     "output_type": "stream",
     "text": [
      "2*exp(y) - sin(x)\n",
      "x**2*exp(y)\n"
     ]
    }
   ],
   "source": [
    "from sympy import *\n",
    "\n",
    "x, y = symbols('x y')  #定义两个符号变量\n",
    "z = sin(x)+x**2*exp(y)  #构造符号表达\n",
    "dz_x_2 = diff(z, x, 2)  #计算函数 z 对变量 x 的二阶偏导数（即 ∂²z/∂x²）\n",
    "dz_y_1 = diff(z, y)  #计算函数 z 对变量 y 的一阶偏导数（即 ∂z/∂y）\n",
    "print(dz_x_2)\n",
    "print(dz_y_1)"
   ]
  },
  {
   "cell_type": "markdown",
   "id": "83566fde",
   "metadata": {},
   "source": [
    "# 单变量求导"
   ]
  },
  {
   "cell_type": "code",
   "execution_count": 5,
   "id": "1b4f4330",
   "metadata": {},
   "outputs": [
    {
     "name": "stdout",
     "output_type": "stream",
     "text": [
      "3*x**2 + 2*cos(x)\n",
      "2*(3 - cos(x))\n"
     ]
    }
   ],
   "source": [
    "from sympy import *\n",
    "\n",
    "x = symbols('x')\n",
    "f = x**3 + 2*sin(x)\n",
    "# 一阶导\n",
    "df = diff(f, x)  # 3*x**2 + 2*cos(x)\n",
    "print(df)\n",
    "# 三阶导\n",
    "d3f = diff(f, x, 3)  # 6 - 2*sin(x)\n",
    "print(d3f)"
   ]
  },
  {
   "cell_type": "markdown",
   "id": "60870e12",
   "metadata": {},
   "source": [
    "# 多变量偏导"
   ]
  },
  {
   "cell_type": "code",
   "execution_count": 6,
   "id": "1bd672ae",
   "metadata": {},
   "outputs": [
    {
     "name": "stdout",
     "output_type": "stream",
     "text": [
      "2*x*y\n",
      "6*y\n"
     ]
    }
   ],
   "source": [
    "from sympy import symbols, diff\n",
    "x, y = symbols('x y')\n",
    "f = x**2 * y + y**3\n",
    "# 对x的一阶偏导\n",
    "df_dx = diff(f, x)  # 2*x*y\n",
    "print(df_dx)\n",
    "# 对y的二阶偏导\n",
    "df_dy2 = diff(f, y, 2)  # 6*y\n",
    "print(df_dy2)"
   ]
  },
  {
   "cell_type": "markdown",
   "id": "74f2d948",
   "metadata": {},
   "source": [
    "# 混合偏导"
   ]
  },
  {
   "cell_type": "code",
   "execution_count": 9,
   "id": "37358244",
   "metadata": {},
   "outputs": [
    {
     "name": "stdout",
     "output_type": "stream",
     "text": [
      "2*x\n",
      "2*x\n"
     ]
    }
   ],
   "source": [
    "from sympy import symbols, diff\n",
    "x, y = symbols('x y')\n",
    "f = x**2 * y + y**3\n",
    "# 先对x求导，再对y求导\n",
    "d2f_dxdy = diff(f, x, y)  # 2*x\n",
    "print(d2f_dxdy)\n",
    "# 等价写法\n",
    "d2f_dxdy = diff(diff(f, x), y)\n",
    "print(d2f_dxdy)"
   ]
  },
  {
   "cell_type": "markdown",
   "id": "2bad86e1",
   "metadata": {},
   "source": [
    "# 特殊函数支持"
   ]
  },
  {
   "cell_type": "code",
   "execution_count": 10,
   "id": "7115a8e8",
   "metadata": {},
   "outputs": [
    {
     "name": "stdout",
     "output_type": "stream",
     "text": [
      "(tan(x)**2 + 1)*exp(x)*log(x) + exp(x)*log(x)*tan(x) + exp(x)*tan(x)/x\n"
     ]
    }
   ],
   "source": [
    "from sympy import exp, log, tan\n",
    "\n",
    "f = exp(x)*log(x)*tan(x)\n",
    "df = diff(f, x) \n",
    "# 输出: exp(x)*log(x)*tan(x)**2 + exp(x)*log(x) + exp(x)*tan(x)/x\n",
    "print(df)"
   ]
  },
  {
   "cell_type": "markdown",
   "id": "adb4d5c9",
   "metadata": {},
   "source": [
    "# 矩阵/向量求导\n",
    "支持对矩阵表达式的符号微分："
   ]
  },
  {
   "cell_type": "code",
   "execution_count": null,
   "id": "a2db3034",
   "metadata": {},
   "outputs": [
    {
     "name": "stdout",
     "output_type": "stream",
     "text": [
      "ArrayAdd(PermuteDims(ArrayTensorProduct(X, I), (1 2 3)), PermuteDims(ArrayTensorProduct(X, I), (3)(1 2)))\n"
     ]
    }
   ],
   "source": [
    "from sympy import MatrixSymbol, diff\n",
    "\n",
    "X = MatrixSymbol('X', 3, 3)  #创建一个 3×3 的矩阵符号（而非具体数值矩阵）\n",
    "f = X.T * X  # 矩阵转置乘法\n",
    "df = diff(f, X)  # 输出矩阵导数形式\n",
    "print(df)"
   ]
  }
 ],
 "metadata": {
  "kernelspec": {
   "display_name": "Python 3",
   "language": "python",
   "name": "python3"
  },
  "language_info": {
   "codemirror_mode": {
    "name": "ipython",
    "version": 3
   },
   "file_extension": ".py",
   "mimetype": "text/x-python",
   "name": "python",
   "nbconvert_exporter": "python",
   "pygments_lexer": "ipython3",
   "version": "3.11.9"
  }
 },
 "nbformat": 4,
 "nbformat_minor": 5
}
