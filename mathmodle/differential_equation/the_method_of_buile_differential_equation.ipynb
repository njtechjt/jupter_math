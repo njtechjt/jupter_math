{
 "cells": [
  {
   "cell_type": "markdown",
   "id": "90ae0df0",
   "metadata": {},
   "source": [
    "# 微分方程建模方法\n",
    "## 步骤：\n",
    "1. 根据实际要求确定研究的量(自变量、未知函数、必要的参数等)，并确定坐标系\n",
    "2. 找出这些量所满足的基本规律\n",
    "3. 运用这些规律列出方程和定解条件"
   ]
  },
  {
   "cell_type": "markdown",
   "id": "d7cd2fbe",
   "metadata": {},
   "source": [
    "## 1. 按规律直接列方程\n",
    "建立物体冷却过程的数学模型\n",
    "\n",
    "$\\frac{du}{dt} = -k(u-u_{空气})$\n",
    "\n",
    "$u_{空气} = 24$\n",
    "\n",
    "$t = 0$时$u_0 = 150$\n",
    "\n",
    "$10min$后的温度为$u_1 = 100$\n",
    "\n",
    "建立温度$u$和时间$t$的关系，并计算$20min$后的温度"
   ]
  },
  {
   "cell_type": "code",
   "execution_count": 5,
   "id": "28586e3b",
   "metadata": {},
   "outputs": [
    {
     "name": "stdout",
     "output_type": "stream",
     "text": [
      "Eq(u(t), 24 + 126*exp(-k*t))\n",
      "[log(126/(u(t) - 24))/t]\n",
      "0.0505548566665147\n",
      "24 + 126*exp(-k*t)\n",
      "20分钟后的温度为: 69.8412698412698\n"
     ]
    }
   ],
   "source": [
    "import sympy as sp\n",
    "\n",
    "t, k = sp.var('t,k')  #定义符号变量t, k\n",
    "u = sp.var('u',cls=sp.Function)  #定义符号函数\n",
    "eq = sp.diff(u(t),t)+k*(u(t)-24)  #定义方程\n",
    "uu = sp.dsolve(eq,ics={u(0):150})  #求微分方程的符号解\n",
    "print(uu)  #结果 uu 通常是一个 Eq（等式）对象。\n",
    "\n",
    "kk = sp.solve(uu,k)  #求解方程（或方程组）uu 关于变量 k 的解析解  可能有多个解\n",
    "print(kk)\n",
    "k0 = kk[0].subs({t:10.0,u(t):100.0})  #取第一个解再，用subs() 方法 对符号表达式进行 变量替换，将符号变量 t 和函数 u(t) 替换为具体数值（t=10.0，u(t)=100.0），从而计算表达式 kk[0] 的数值结果。\n",
    "print(k0)\n",
    "u1 = uu.args[1]\n",
    "print(u1)\n",
    "\"\"\"\n",
    "SymPy 中的 Eq 对象（等式）有两个主要部分(称为 args):左边(args[0])和右边(args[1])。例如，如果解是 u(t) = 150*exp(-kt)，那么 uu.args[0] 就是 u(t)，而 uu.args[1] 就是 150*exp(-kt)。\n",
    "uu.args[1] 这行代码的作用就是提取出解的右边部分，也就是函数 u 关于自变量(如 t 或 x)的具体表达式。\n",
    "\"\"\"\n",
    "u0 = u1.subs({t:20, k:k0})  #带入参数和时间\n",
    "print('20分钟后的温度为:', u0)"
   ]
  },
  {
   "cell_type": "markdown",
   "id": "d9e1df03",
   "metadata": {},
   "source": [
    "## 2.微元分析法\n",
    "\n",
    "通过分析研究对象的有关变量在一个很短时间内的变化规律，寻找一些微元之间的关系式"
   ]
  },
  {
   "cell_type": "markdown",
   "id": "4e00a136",
   "metadata": {},
   "source": [
    "有高为$1m$的半球形容器，水从他的底部小孔流出。小孔横截面积为$1cm^2$。开始时容器内盛满了水，求水从小孔流出过程中容器里水面的高度$h$(水面与孔口中心的距离)随时间$t$变化的规律。"
   ]
  },
  {
   "cell_type": "markdown",
   "id": "b2009dc9",
   "metadata": {},
   "source": [
    "$Q = \\frac{dV}{dt} = 0.62S\\sqrt{2gh}$，0.62为流量系数，S为孔口横截面积\n",
    "\n",
    "$dV = 0.000062\\sqrt{2gh}dt$\n",
    "\n",
    "在微小时间间隔$[t,t+dt]$内，水面高度由$h$降到$h+dh$(dh<0)，容器中水的体积改变量近似为：$dV = -\\pi r^2dh$\n",
    "\n",
    "$r^2 = [1^2-(1-h)^2] = 2h-h^2$\n",
    "\n",
    "由此可得\n",
    "\n",
    "$0.000062\\sqrt{2gh}dt = \\pi (h^2-2h)dh$\n",
    "\n",
    "得到微分方程\n",
    "\n",
    "$\\frac{dt}{dh} = \\frac{10000\\pi}{0.62\\sqrt{2g}}(h^{\\frac{3}{2}}-2h^{\\frac{1}{2}})$， $t(1) = 0$"
   ]
  },
  {
   "cell_type": "code",
   "execution_count": null,
   "id": "66a3fc17",
   "metadata": {},
   "outputs": [
    {
     "name": "stdout",
     "output_type": "stream",
     "text": [
      "Eq(t(h), 4578.15127456044*h**(5/2) - 15260.5042485347*h**(3/2) + 10682.3529739743)\n",
      "-15260.5042*h**1.5 + 4578.15127*h**2.5 + 10682.353\n"
     ]
    }
   ],
   "source": [
    "import sympy as sp\n",
    "\n",
    "h = sp.var('h')  #定义符号变量\n",
    "t = sp.Function('t')  #定义符号函数\n",
    "g = 9.8\n",
    "eq = sp.diff(t(h),h)-10000*sp.pi/0.62/sp.sqrt(2*g)*(h**(3/2)-2*h**(1/2))  #定义方程\n",
    "t = sp.dsolve(eq,ics={t(1):0})  #求微分方程的符号解\n",
    "t = sp.simplify(t)  #对符号表达式 t 进行代数化简，使其形式更简洁。\n",
    "print(t)\n",
    "print(t.args[1].n(9))  #.n(9)将符号表达式转换为数值，保留9位有效数字（等价于 evalf(9)）。"
   ]
  },
  {
   "cell_type": "markdown",
   "id": "0e5710dc",
   "metadata": {},
   "source": [
    "## 3.模拟近似法\n",
    "\n",
    "在不同的假设下模拟实际的现象，即建立模拟近似的微分方程，从数学上求解或分析解的性质，再去和实际情况作对比，观察这个模型能否模拟、近似某些实际的现象"
   ]
  },
  {
   "cell_type": "markdown",
   "id": "e4a4ad44",
   "metadata": {},
   "source": [
    "### 交通管理问题\n",
    "黄灯亮多长时间最为合理\n",
    "\n",
    "$v_o$是法定速度，$I$是交通路口的长度，$L$是典型的车身长度，则车通过路口的时间为:$\\frac{I+L}{v_0}$\n",
    "\n",
    "$W$为汽车重量，$\\mu$是摩擦系数，摩擦力为$\\mu W$\n",
    "\n",
    "$\\frac{d^2x}{dt^2} = -\\mu g$"
   ]
  },
  {
   "cell_type": "code",
   "execution_count": 21,
   "id": "41c57a4b",
   "metadata": {},
   "outputs": [
    {
     "name": "stdout",
     "output_type": "stream",
     "text": [
      "Eq(x(t), -g*k*t**2/2 + t*v0)\n",
      "-g*k*t**2/2 + t*v0\n",
      "-g*k*t + v0\n",
      "[v0/(g*k)]\n",
      "x(t) 的方程: Eq(-g*k*t**2/2 + t*v0, v0**2/(2*g*k))\n",
      "v0**2/(2*g*k)\n",
      "T0 + (I + L)/v0 + v0/(2*g*k)\n",
      "\n",
      "所有结果:\n",
      "v0=45 = 4.57988338192420\n",
      "v0=65 = 5.94530163713837\n",
      "v0=80 = 6.99965379008746\n"
     ]
    }
   ],
   "source": [
    "import sympy as sp\n",
    "\n",
    "t,k,g,v0,T,I,L,T0 = sp.symbols('t k g v0 T I L T0')\n",
    "x = sp.Function('x')\n",
    "eq = sp.diff(x(t),t,2)+k*g\n",
    "sol = sp.dsolve(eq, x(t), ics={x(0): 0, sp.diff(x(t), t).subs(t, 0): v0})\n",
    "print(sol)\n",
    "sol = sol.args[1]\n",
    "print(sol)\n",
    "# ans_sol = sol.subs(g,9.8).subs(k,0.7)  #替换数值\n",
    "# print(ans_sol)\n",
    "\n",
    "diff_ans = sp.diff(sol,t)\n",
    "print(diff_ans)\n",
    "tt = sp.solve(diff_ans,t)\n",
    "print(tt)\n",
    "\n",
    "# 代入 t 的解（假设 tt = [v0/(g*k)]）\n",
    "if isinstance(tt, list):\n",
    "    for t_val in tt:\n",
    "        xt = sol.subs(t, t_val)\n",
    "        equation = sp.Eq(sol, xt)  # x(t) = substituted_value\n",
    "        print(\"x(t) 的方程:\", equation)\n",
    "else:\n",
    "    xt = sol.subs(t, tt)\n",
    "    equation = sp.Eq(sol, xt)\n",
    "    print(\"x(t) 的方程:\", equation)\n",
    "ans_xt = equation.args[1]\n",
    "print(ans_xt)\n",
    "\n",
    "eqT = sp.Eq(T, v0/(2*k*g)+(I+L)/v0+T0).args[1]\n",
    "print(eqT)\n",
    "# 如果要代入多个 v0 值，需遍历列表\n",
    "v0_values = [45, 65, 80]\n",
    "results = {}\n",
    "for v in v0_values:\n",
    "    results[f\"v0={v}\"] = eqT.subs({T0: 1, L: 4.5, I: 9, k: 0.7, g: 9.8, v0: v})\n",
    "\n",
    "print(\"\\n所有结果:\")\n",
    "for key, val in results.items():\n",
    "    print(key, \"=\", val)"
   ]
  }
 ],
 "metadata": {
  "kernelspec": {
   "display_name": "Python 3",
   "language": "python",
   "name": "python3"
  },
  "language_info": {
   "codemirror_mode": {
    "name": "ipython",
    "version": 3
   },
   "file_extension": ".py",
   "mimetype": "text/x-python",
   "name": "python",
   "nbconvert_exporter": "python",
   "pygments_lexer": "ipython3",
   "version": "3.11.9"
  }
 },
 "nbformat": 4,
 "nbformat_minor": 5
}
