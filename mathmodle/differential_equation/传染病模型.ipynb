{
 "cells": [
  {
   "cell_type": "markdown",
   "id": "40436925",
   "metadata": {},
   "source": [
    "# 传染病模型\n",
    "\n",
    "以阈值模型为例说明传染病动力学数学模型的建模过程\n",
    "\n",
    "## 1. 模型假设\n",
    "1. 被研究的人群是封闭的，总人数为$n$。$s(t),i(t)$和$r(t)$分别表示$t$时刻人群中易感染着、感染者(病人)和免疫者的人数。起始条件为$s_0$个易感染者，$i_0$个感染者，免疫者$n-s_0-i_0$\n",
    "2. 易感人数的变化率与当时的易感人数和感染人数之积成正比，比例系数为$\\lambda$\n",
    "3. 免疫者人数的变化率与当时的感染者人数成正比，比例系数为$\\mu$\n",
    "4. 三类人总的变化率代数和为零\n",
    "\n",
    "## 2.模型建立(Kermack-Mckendrick方程)\n",
    "$\\frac{ds}{dt} = -\\lambda s_i$\n",
    "\n",
    "$\\frac{di}{dt} = \\lambda s_i-\\mu i$\n",
    "\n",
    "$\\frac{dr}{dt} = \\mu i$\n",
    "\n",
    "$s(t)+i(t)+r(t) = n$\n",
    "\n",
    "## 3.模型求解与分析\n",
    "上述模型无法直接求出三者的解析解，转到平面$s-i$上来讨论解的性质，方程中的前两个方程消去$dt$得\n",
    "\n",
    "$\\frac{di}{ds} = \\frac{1}{\\sigma}-1$\n",
    "\n",
    "$i|_{s=s_0} = i_0$\n",
    "\n",
    "其中$\\sigma = \\frac{\\lambda}{\\mu}$，是一个传染期内每个患者有效接触的平均人数，称为接触数"
   ]
  },
  {
   "cell_type": "code",
   "execution_count": 43,
   "id": "d5ceb246",
   "metadata": {},
   "outputs": [
    {
     "name": "stdout",
     "output_type": "stream",
     "text": [
      "Eq(i(s), i0 - s + s0 + log(s)/n - log(s0)/n)\n"
     ]
    },
    {
     "data": {
      "image/png": "[encoded data removed]",
      "text/plain": [
       "<Figure size 800x500 with 1 Axes>"
      ]
     },
     "metadata": {},
     "output_type": "display_data"
    }
   ],
   "source": [
    "import sympy as sp\n",
    "import matplotlib.pyplot as plt\n",
    "import numpy as np\n",
    "\n",
    "s, n, i0, s0 = sp.symbols('s n i0 s0')\n",
    "i = sp.Function('i')\n",
    "eq = sp.diff(i(s),s) - 1/(n*s)+1\n",
    "res_is = sp.dsolve(eq=eq, ics={i(s0):i0})\n",
    "res = res_is.args[1]\n",
    "print(res_is)\n",
    "\n",
    "# #绘图\n",
    "plt.rc('text',usetex=True)\n",
    "# x = np.linspace(1, 100, 100)\n",
    "# y = np.array([float(res.subs(s0,10).subs(i0,5).subs(n,4).subs(s,j)) for j in x])\n",
    "# print(y)\n",
    "# plt.plot(x,y)\n",
    "# plt.show()\n",
    "\n",
    "# 定义数值函数\n",
    "res_numeric = sp.lambdify(   #用于将 符号表达式 转换为 数值计算函数\n",
    "    (s, n, i0, s0),  # 变量\n",
    "    res,             # 表达式\n",
    "    modules='numpy'  # 使用 NumPy 计算\n",
    ")\n",
    "\n",
    "# 设定参数并计算\n",
    "n_val = 0.5\n",
    "i0_val = 1\n",
    "s0_val = 5\n",
    "s_vals = np.linspace(0.1, 5, 10000)  # 避免 s=0\n",
    "i_vals = res_numeric(s_vals, n_val, i0_val, s0_val)  #数值计算函数,输入变量顺序必须与 (s, n, i0, s0) 严格一致。\n",
    "\n",
    "# 绘图\n",
    "plt.figure(figsize=(8, 5))\n",
    "plt.plot(s_vals, i_vals)\n",
    "plt.xlabel('$s$')\n",
    "plt.ylabel('$i(s)$',rotation=0)\n",
    "# plt.title('Solution of the ODE: $\\frac{di}{ds} - \\frac{1}{n s} + 1 = 0$')\n",
    "# plt.legend()\n",
    "plt.grid(True)\n",
    "plt.show()"
   ]
  },
  {
   "cell_type": "markdown",
   "id": "f25c3de4",
   "metadata": {},
   "source": [
    "## 4.参数估计\n",
    "估计$\\sigma$的值：记$s_{\\infty},i_{\\infty}$分别为传染病流行结束后的健康人数和患者人数。当流行结束后，患者都将转换为免疫者。所以$i_{\\infty} = 0$，由此可得\n",
    "\n",
    "$i_{\\infty} = 0 = s_0+i_0-s_{\\infty}+\\frac{1}{\\sigma}ln\\frac{s_{\\infty}}{s_0}$\n",
    "\n",
    "解的$\\sigma$为\n",
    "\n",
    "$\\sigma = \\frac{lns_0-lns_{\\infty}}{s_0+i_0-s_{\\infty}}$"
   ]
  },
  {
   "cell_type": "code",
   "execution_count": 4,
   "id": "e3e8a6e9",
   "metadata": {},
   "outputs": [
    {
     "name": "stdout",
     "output_type": "stream",
     "text": [
      "sigma= 0.009886255778095274\n",
      "所求的解为:\n",
      " [ 1.          1.6863383   5.97953014 11.67676321]\n"
     ]
    }
   ],
   "source": [
    "import numpy as np\n",
    "\n",
    "s0 = 155.0\n",
    "i0 = 1.0\n",
    "s_inf = 60.0\n",
    "sigma = (np.log(s0)-np.log(s_inf))/(s0+i0-s_inf)\n",
    "print('sigma=', sigma)\n",
    "S = np.array([155,153,139,101])\n",
    "I = (s0+i0)-S+1/sigma*np.log(S/s0)\n",
    "print('所求的解为:\\n', I)"
   ]
  }
 ],
 "metadata": {
  "kernelspec": {
   "display_name": "Python 3",
   "language": "python",
   "name": "python3"
  },
  "language_info": {
   "codemirror_mode": {
    "name": "ipython",
    "version": 3
   },
   "file_extension": ".py",
   "mimetype": "text/x-python",
   "name": "python",
   "nbconvert_exporter": "python",
   "pygments_lexer": "ipython3",
   "version": "3.11.9"
  }
 },
 "nbformat": 4,
 "nbformat_minor": 5
}
