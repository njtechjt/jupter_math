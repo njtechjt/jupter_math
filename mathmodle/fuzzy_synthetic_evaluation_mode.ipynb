{
 "cells": [
  {
   "cell_type": "markdown",
   "id": "c94f9f77",
   "metadata": {},
   "source": [
    "模糊综合评价模型"
   ]
  },
  {
   "cell_type": "code",
   "execution_count": null,
   "id": "17fd9d7c",
   "metadata": {},
   "outputs": [
    {
     "data": {
      "text/plain": [
       "array([0.191 , 0.1565, 0.1595, 0.1465, 0.1505, 0.196 ])"
      ]
     },
     "execution_count": 5,
     "metadata": {},
     "output_type": "execute_result"
    }
   ],
   "source": [
    "import numpy as np\n",
    "\n",
    "#1、一级模糊综合评判\n",
    "#影响运行费用的各因素的单因素评价矩阵为：\n",
    "R23 = np.array([\n",
    "       [0.18,0.14,0.18,0.14,0.13,0.23],\n",
    "       [0.15,0.20,0.15,0.25,0.10,0.15],\n",
    "       [0.25,0.12,0.13,0.12,0.18,0.20],\n",
    "       [0.16,0.15,0.21,0.11,0.20,0.17],\n",
    "       [0.23,0.18,0.17,0.16,0.15,0.11],\n",
    "       [0.19,0.13,0.12,0.12,0.11,0.33],\n",
    "       [0.17,0.16,0.15,0.08,0.25,0.19]])\n",
    "#权重分配为：\n",
    "A23 = np.array([0.20,0.15,0.10,0.10,0.20,0.15,0.10])\n",
    "#评价结果\n",
    "#np.dot()是用于记算两个数组的点积，对于一维数组它计算的是两个数组的内积\n",
    "#对于二维数组（矩阵），计算的是矩阵乘法\n",
    "B23 = np.dot(A23,R23)\n",
    "B23"
   ]
  },
  {
   "cell_type": "code",
   "execution_count": 10,
   "id": "5770dcc1",
   "metadata": {},
   "outputs": [
    {
     "data": {
      "text/plain": [
       "array([0.141 , 0.1375, 0.1655, 0.2215, 0.1545, 0.18  ])"
      ]
     },
     "execution_count": 10,
     "metadata": {},
     "output_type": "execute_result"
    }
   ],
   "source": [
    "# 2、二级模糊综合评判\n",
    "# 产品情况的二级评判如下：\n",
    "R1 = np.array([\n",
    "    [0.12, 0.18, 0.17, 0.23, 0.13, 0.17],\n",
    "    [0.15, 0.13, 0.18, 0.25, 0.12, 0.17],\n",
    "    [0.14, 0.13, 0.16, 0.18, 0.20, 0.19],\n",
    "    [0.12, 0.14, 0.15, 0.17, 0.19, 0.23],\n",
    "    [0.16, 0.12, 0.13, 0.25, 0.18, 0.16]])\n",
    "A1 = np.array([0.15, 0.40, 0.25, 0.10, 0.10])\n",
    "B1 = np.dot(A1,R1)\n",
    "B1"
   ]
  },
  {
   "cell_type": "code",
   "execution_count": 12,
   "id": "daaf4f21",
   "metadata": {},
   "outputs": [
    {
     "data": {
      "text/plain": [
       "array([0.15075 , 0.148125, 0.147375, 0.163625, 0.170125, 0.222   ])"
      ]
     },
     "execution_count": 12,
     "metadata": {},
     "output_type": "execute_result"
    }
   ],
   "source": [
    "#销售能力二级评判如下：\n",
    "R2 = np.array([\n",
    "    [0.13, 0.15, 0.14, 0.18, 0.16, 0.25],\n",
    "    [0.12, 0.16, 0.13, 0.17, 0.19, 0.23],\n",
    "    B23,                                     #数组可以直接放在矩阵里面\n",
    "    [0.14, 0.13, 0.15, 0.16, 0.18, 0.24],\n",
    "    [0.16, 0.15, 0.15, 0.17, 0.18, 0.19]])\n",
    "A2 = np.array([0.2, 0.15, 0.25, 0.25, 0.15])\n",
    "B2 = np.dot(A2,R2)\n",
    "B2"
   ]
  },
  {
   "cell_type": "code",
   "execution_count": 13,
   "id": "ffeb217d",
   "metadata": {},
   "outputs": [
    {
     "data": {
      "text/plain": [
       "array([0.1545, 0.1445, 0.1525, 0.162 , 0.149 , 0.2375])"
      ]
     },
     "execution_count": 13,
     "metadata": {},
     "output_type": "execute_result"
    }
   ],
   "source": [
    "#市场欲求二级评判\n",
    "R3 = np.array([\n",
    "    [0.15, 0.14, 0.13, 0.18, 0.14, 0.26],\n",
    "    [0.16, 0.15, 0.18, 0.14, 0.16, 0.21]])\n",
    "A3 = np.array([0.55, 0.45])\n",
    "B3 = np.dot(A3,R3)\n",
    "B3"
   ]
  },
  {
   "cell_type": "code",
   "execution_count": 16,
   "id": "f9741282",
   "metadata": {},
   "outputs": [
    {
     "data": {
      "text/plain": [
       "array([0.147975 , 0.1427875, 0.1561625, 0.1862875, 0.1575375, 0.20985  ])"
      ]
     },
     "execution_count": 16,
     "metadata": {},
     "output_type": "execute_result"
    }
   ],
   "source": [
    "#3、三级模糊综合评判\n",
    "R = np.array([B1,B2,B3])\n",
    "A = np.array([0.4, 0.3 ,0.3])\n",
    "B = np.dot(A,R)\n",
    "B"
   ]
  }
 ],
 "metadata": {
  "kernelspec": {
   "display_name": "Python 3",
   "language": "python",
   "name": "python3"
  },
  "language_info": {
   "codemirror_mode": {
    "name": "ipython",
    "version": 3
   },
   "file_extension": ".py",
   "mimetype": "text/x-python",
   "name": "python",
   "nbconvert_exporter": "python",
   "pygments_lexer": "ipython3",
   "version": "3.11.9"
  }
 },
 "nbformat": 4,
 "nbformat_minor": 5
}
