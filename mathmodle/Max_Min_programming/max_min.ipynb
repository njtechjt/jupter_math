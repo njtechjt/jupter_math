{
 "cells": [
  {
   "cell_type": "markdown",
   "id": "5fb2677c",
   "metadata": {},
   "source": [
    "最大最小化规划模型\n",
    "\n",
    "使用minimize()函数，需要设置辅助变量或者辅助函数"
   ]
  },
  {
   "cell_type": "code",
   "execution_count": 1,
   "id": "0113ef9d",
   "metadata": {},
   "outputs": [
    {
     "name": "stdout",
     "output_type": "stream",
     "text": [
      "优化后的坐标点为：\n",
      "[7.75000019 8.75000039]\n",
      "对应的各个目标函数值fval为：\n",
      "[13.50000058  4.9999998   5.50000058 11.9999998   9.0000002   9.0000002\n",
      "  5.50000058 13.49999942 10.0000002   0.49999942]\n",
      "最小的最大距离为：\n",
      "13.500000579039686\n"
     ]
    }
   ],
   "source": [
    "import numpy as np\n",
    "from scipy.optimize import minimize\n",
    "\n",
    "#目标函数\n",
    "def fun(x):\n",
    "    a = np.array([1,4,3,5,9,12,6,20,17,8])\n",
    "    b = np.array([2,10,8,18,1,4,5,10,8,9])\n",
    "    f = np.zeros(10)\n",
    "    for i in range(10):\n",
    "        f[i] = np.abs(x[0]-a[i]) + np.abs(x[1]-b[i])\n",
    "    return f\n",
    "#总的目标函数，取目标函数值数据中的最大值\n",
    "def overall_objective(x):\n",
    "    return np.max(fun(x))\n",
    "\n",
    "#初始值，对应Matlab中的x0\n",
    "x0 = np.array([6,6])\n",
    "#定义决策变量的下界\n",
    "lb = np.array([3,4])\n",
    "#定义决策变量的上界\n",
    "ub = np.array([8,10])\n",
    "#约束条件，这里定义变量的边界约束\n",
    "bound = [(lb[0], ub[0]), (lb[1], ub[1])]\n",
    "\n",
    "result = minimize(overall_objective, x0, method='SLSQP', bounds=bound)\n",
    "\n",
    "x = result.x\n",
    "fval = fun(x)\n",
    "print('优化后的坐标点为：')\n",
    "print(x)\n",
    "print('对应的各个目标函数值fval为：')\n",
    "print(fval)\n",
    "print('最小的最大距离为：')\n",
    "print(np.max(fval))"
   ]
  }
 ],
 "metadata": {
  "kernelspec": {
   "display_name": "Python 3",
   "language": "python",
   "name": "python3"
  },
  "language_info": {
   "codemirror_mode": {
    "name": "ipython",
    "version": 3
   },
   "file_extension": ".py",
   "mimetype": "text/x-python",
   "name": "python",
   "nbconvert_exporter": "python",
   "pygments_lexer": "ipython3",
   "version": "3.11.9"
  }
 },
 "nbformat": 4,
 "nbformat_minor": 5
}
