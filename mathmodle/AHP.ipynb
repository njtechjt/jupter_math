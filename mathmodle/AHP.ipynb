{
 "cells": [
  {
   "cell_type": "code",
   "execution_count": null,
   "id": "0696b915",
   "metadata": {},
   "outputs": [
    {
     "name": "stdout",
     "output_type": "stream",
     "text": [
      "一致性指标CI= (0.03761001273071566+0j)\n",
      "一致性指标CR= (0.04225844127046704+0j)\n",
      "因为CR<0.10，所以该判断矩阵A的一致性检验可以接受!\n"
     ]
    }
   ],
   "source": [
    "#层次分析法\n",
    "\n",
    "#1.一致性检验\n",
    "import numpy as np\n",
    "#定义矩阵A\n",
    "#np.array()是Numpy库中的一个函数，用于创建数组，他将输入的对象(如，列表，元组，其他数组等)转化为Numpy数组。\n",
    "A = np.array([[1, 2, 3, 5], [1/2, 1, 1/2, 2], [1/3, 2, 1, 2], [1/5, 1/2, 1/2, 1]])\n",
    "# print(A)\n",
    "n = A.shape[0]  #获取A的行，将0换为1则是获取A的列，shape是获取形状信息\n",
    "eig_val, eig_vec = np.linalg.eig(A)  #eig_val是特征值，eig_vec是特征向量\n",
    "Max_eig = max(eig_val)  #求特征值的最大值\n",
    "\n",
    "CI = (Max_eig - n)/(n-1)\n",
    "RI = [0, 0.001, 0.52, 0.89, 1.12, 1.26, 1.36, 1.41, 1.46, 1.49, 1.52, 1.54, 1.56, 1.58, 1.59]\n",
    "CR = CI / RI[n-1]\n",
    "\n",
    "print('一致性指标CI=', CI)\n",
    "print('一致性指标CR=', CR)\n",
    "\n",
    "if CR < 0.10:\n",
    "    print('因为CR<0.10，所以该判断矩阵A的一致性检验可以接受!')\n",
    "else:\n",
    "    print('因为CR>0.10，所以该判断矩阵A需要进行修改!')"
   ]
  },
  {
   "cell_type": "markdown",
   "id": "a9a61fb1",
   "metadata": {},
   "source": [
    "算术平均法求权重"
   ]
  },
  {
   "cell_type": "code",
   "execution_count": 213,
   "id": "12f5835d",
   "metadata": {},
   "outputs": [
    {
     "name": "stdout",
     "output_type": "stream",
     "text": [
      "[0.48885991 0.18192996 0.2318927  0.09731744]\n"
     ]
    }
   ],
   "source": [
    "import numpy as np\n",
    "\n",
    "#定义判断矩阵A\n",
    "A = np.array([[1, 2, 3, 5], [1/2, 1, 1/2, 2], [1/3, 2, 1, 2], [1/5, 1/2, 1/2, 1]])\n",
    "#记算每列的和\n",
    "#np.sum()可以记算一维数组中所有元素之和\n",
    "#还可以通过指定 axis 参数来记算多维数组的某个维度上的元素总和，axis = 0 表示按列计算和，axis = 1 表示按行计算和\n",
    "Asum = np.sum(A, axis=0)\n",
    "#获取A的行和列\n",
    "n = A.shape[0]\n",
    "#归一化，二维数组除以一维数组会自动将一维数组扩展为与二维数组相同的形状，然后再进行逐元素的除法运算\n",
    "Stand_A = A / Asum\n",
    "#各列相加到同一行\n",
    "Asumr = np.sum(Stand_A, axis=1)\n",
    "#记算权重向量\n",
    "w = Asumr / n\n",
    "print(w)"
   ]
  },
  {
   "cell_type": "markdown",
   "id": "33af77f7",
   "metadata": {},
   "source": [
    "几何平均法求权重"
   ]
  },
  {
   "cell_type": "code",
   "execution_count": 214,
   "id": "beafa708",
   "metadata": {},
   "outputs": [
    {
     "name": "stdout",
     "output_type": "stream",
     "text": [
      "[0.49492567 0.17782883 0.22724501 0.1000005 ]\n"
     ]
    }
   ],
   "source": [
    "import numpy as np\n",
    "\n",
    "#定义判断矩阵A\n",
    "A = np.array([[1, 2, 3, 5], [1/2, 1, 1/2, 2], [1/3, 2, 1, 2], [1/5, 1/2, 1/2, 1]])\n",
    "#获取A的行和列\n",
    "n = A.shape[0]\n",
    "#将A中的每一行元素相乘得到列向量\n",
    "#np.prod()可以记算一维数组中所有元素的乘积\n",
    "#还可以通过指定 axis 参数来记算多维数组的某个维度上的元素总和，axis = 0 表示按列计算乘积，axis = 1 表示按行计算乘积\n",
    "prod_A = np.prod(A, axis=1)\n",
    "#将新的向量的每个分量开n次方等价求1/n次方\n",
    "#np.power()是库函数中用于对数组中的元素进行幂运算\n",
    "#np.power(a, b) 对数组a中的每个元素都按照b指数进行运算\n",
    "prod_n_A = np.power(prod_A, 1/n)\n",
    "#归一化处理\n",
    "restand_prod_n_A = prod_n_A / np.sum(prod_n_A)\n",
    "print(restand_prod_n_A)"
   ]
  },
  {
   "cell_type": "markdown",
   "id": "f1c28e0a",
   "metadata": {},
   "source": [
    "特征值法求权重"
   ]
  },
  {
   "cell_type": "code",
   "execution_count": null,
   "id": "291eb057",
   "metadata": {},
   "outputs": [
    {
     "name": "stdout",
     "output_type": "stream",
     "text": [
      "[0.4933895 +0.j 0.17884562+0.j 0.230339  +0.j 0.09742588+0.j]\n"
     ]
    }
   ],
   "source": [
    "import numpy as np\n",
    "\n",
    "#定义判断矩阵A\n",
    "A = np.array([[1, 2, 3, 5], [1/2, 1, 1/2, 2], [1/3, 2, 1, 2], [1/5, 1/2, 1/2, 1]])\n",
    "#获取A的行和列\n",
    "n = A.shape[0]\n",
    "#求出特征值以及对应的特征向量\n",
    "eig_values, eig_vectors = np.linalg.eig(A)\n",
    "#找出最大特征值的索引，np.argmax 是用于返回数组中最大值的索引\n",
    "max_index = np.argmax(eig_values)\n",
    "#找出对应的特征向量\n",
    "max_vector = eig_vectors[:, max_index]\n",
    "#对特征向量进行归一化，得到权重\n",
    "w = max_vector / np.sum(max_vector)\n",
    "print(w)"
   ]
  }
 ],
 "metadata": {
  "kernelspec": {
   "display_name": "Python 3",
   "language": "python",
   "name": "python3"
  },
  "language_info": {
   "codemirror_mode": {
    "name": "ipython",
    "version": 3
   },
   "file_extension": ".py",
   "mimetype": "text/x-python",
   "name": "python",
   "nbconvert_exporter": "python",
   "pygments_lexer": "ipython3",
   "version": "3.11.9"
  }
 },
 "nbformat": 4,
 "nbformat_minor": 5
}
