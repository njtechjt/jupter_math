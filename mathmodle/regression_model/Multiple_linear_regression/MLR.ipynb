{
 "cells": [
  {
   "cell_type": "markdown",
   "id": "d267785f",
   "metadata": {},
   "source": [
    "多元线性回归分析\n",
    "\n",
    "# 步骤\n",
    "1. 由观测值确定参数(回归系数)[β]的估计值\n",
    "2. 对线性关系、自变量的显著性进行统计检验\n",
    "3. 利用回归方程进行预测\n",
    "在 statsmodels 中使用 predict() 方法进行预测时，需要注意输入数据的格式必须与训练数据一致（包括常数项/截距项）。\n",
    "\n",
    "在Python中进行多元线性回归分析，可以使用多个库（如statsmodels、scikit-learn）\n",
    "\n",
    "# 使用 statsmodels（推荐：输出统计推断结果）\n",
    "优势：提供详细的统计结果（如p值、R²、系数置信区间），适合统计分析。\n",
    "# 输出结果解析：\n",
    "1. coef：回归系数（const为截距）\n",
    "2. std err：系数标准误差\n",
    "3. P>|t|：p值（<0.05表示显著）\n",
    "4. R-squared：拟合优度\n",
    "5. Adj. R-squared：调整后的R²\n",
    "\n",
    "# 使用 scikit-learn（推荐：预测和机器学习流程）\n",
    "优势：适合预测任务，支持管道（Pipeline）和交叉验证。"
   ]
  },
  {
   "cell_type": "markdown",
   "id": "1c8834b8",
   "metadata": {},
   "source": [
    "statsmodels基于数组求解"
   ]
  },
  {
   "cell_type": "code",
   "execution_count": 14,
   "id": "fcc7258b",
   "metadata": {},
   "outputs": [
    {
     "name": "stdout",
     "output_type": "stream",
     "text": [
      "                            OLS Regression Results                            \n",
      "==============================================================================\n",
      "Dep. Variable:                      y   R-squared:                       0.980\n",
      "Model:                            OLS   Adj. R-squared:                  0.974\n",
      "Method:                 Least Squares   F-statistic:                     150.0\n",
      "Date:                Fri, 25 Jul 2025   Prob (F-statistic):            0.00117\n",
      "Time:                        20:46:37   Log-Likelihood:                -2.5132\n",
      "No. Observations:                   5   AIC:                             9.026\n",
      "Df Residuals:                       3   BIC:                             8.245\n",
      "Df Model:                           1                                         \n",
      "Covariance Type:            nonrobust                                         \n",
      "==============================================================================\n",
      "                 coef    std err          t      P>|t|      [0.025      0.975]\n",
      "------------------------------------------------------------------------------\n",
      "const         -0.8333      0.501     -1.663      0.195      -2.428       0.761\n",
      "x1             0.7333      0.231      3.175      0.050      -0.002       1.468\n",
      "x2             0.6333      0.047     13.435      0.001       0.483       0.783\n",
      "==============================================================================\n",
      "Omnibus:                          nan   Durbin-Watson:                   2.500\n",
      "Prob(Omnibus):                    nan   Jarque-Bera (JB):                1.888\n",
      "Skew:                          -1.500   Prob(JB):                        0.389\n",
      "Kurtosis:                       3.250   Cond. No.                     5.12e+16\n",
      "==============================================================================\n",
      "\n",
      "Notes:\n",
      "[1] Standard Errors assume that the covariance matrix of the errors is correctly specified.\n",
      "[2] The smallest eigenvalue is 1.31e-31. This might indicate that there are\n",
      "strong multicollinearity problems or that the design matrix is singular.\n"
     ]
    },
    {
     "name": "stderr",
     "output_type": "stream",
     "text": [
      "d:\\python\\download\\Lib\\site-packages\\statsmodels\\stats\\stattools.py:74: ValueWarning: omni_normtest is not valid with less than 8 observations; 5 samples were given.\n",
      "  warn(\"omni_normtest is not valid with less than 8 observations; %i \"\n"
     ]
    }
   ],
   "source": [
    "#例一\n",
    "import statsmodels.api as sm\n",
    "import pandas as pd\n",
    "import numpy as np\n",
    "\n",
    "# 准备数据\n",
    "# data = pd.DataFrame({\n",
    "#     'X1': [1, 2, 3, 4, 5],\n",
    "#     'X2': [3, 5, 7, 9, 11],\n",
    "#     'Y': [2, 4, 5, 8, 10]\n",
    "# })\n",
    "# X = data[['X1', 'X2']]\n",
    "# # print(X)\n",
    "# y = data['Y']\n",
    "x1 = np.array([1, 2, 3, 4, 5]).reshape((5,1))\n",
    "x2 = np.array([3, 5, 7, 9, 11]).reshape((5,1))\n",
    "Y = np.array([2, 4, 5, 8, 10])\n",
    "X = np.hstack([x1,x2])\n",
    "# 添加截距项（必须显式添加）\n",
    "X = sm.add_constant(X)  # 新增一列常数1，代表截距\n",
    "# 拟合模型\n",
    "model = sm.OLS(Y, X).fit()  # OLS：普通最小二乘法\n",
    "# 查看完整统计结果\n",
    "print(model.summary())"
   ]
  },
  {
   "cell_type": "code",
   "execution_count": 35,
   "id": "be61ea2d",
   "metadata": {},
   "outputs": [
    {
     "name": "stdout",
     "output_type": "stream",
     "text": [
      "                            OLS Regression Results                            \n",
      "==============================================================================\n",
      "Dep. Variable:                      y   R-squared:                       0.979\n",
      "Model:                            OLS   Adj. R-squared:                  0.974\n",
      "Method:                 Least Squares   F-statistic:                     229.5\n",
      "Date:                Fri, 25 Jul 2025   Prob (F-statistic):           4.41e-09\n",
      "Time:                        22:03:42   Log-Likelihood:                -28.156\n",
      "No. Observations:                  13   AIC:                             62.31\n",
      "Df Residuals:                      10   BIC:                             64.01\n",
      "Df Model:                           2                                         \n",
      "Covariance Type:            nonrobust                                         \n",
      "==============================================================================\n",
      "                 coef    std err          t      P>|t|      [0.025      0.975]\n",
      "------------------------------------------------------------------------------\n",
      "const         52.5773      2.286     22.998      0.000      47.483      57.671\n",
      "x1             1.4683      0.121     12.105      0.000       1.198       1.739\n",
      "x2             0.6623      0.046     14.442      0.000       0.560       0.764\n",
      "==============================================================================\n",
      "Omnibus:                        1.509   Durbin-Watson:                   1.922\n",
      "Prob(Omnibus):                  0.470   Jarque-Bera (JB):                1.104\n",
      "Skew:                           0.503   Prob(JB):                        0.576\n",
      "Kurtosis:                       1.987   Cond. No.                         175.\n",
      "==============================================================================\n",
      "\n",
      "Notes:\n",
      "[1] Standard Errors assume that the covariance matrix of the errors is correctly specified. \n",
      "-------------------------------------------\n",
      "\n",
      "y=1.4683057422155523*x1+0.6622504912746434*x2+52.57734888208955\n",
      "[104.951911]\n"
     ]
    }
   ],
   "source": [
    "#例二\n",
    "import numpy as np\n",
    "import statsmodels.api as sm\n",
    "\n",
    "a = np.loadtxt('Pdata12_1.txt')\n",
    "#加载表中的x1,x2,y的数据\n",
    "X = sm.add_constant(a[:,:2])  #增加第一列全部元素为1得到增广矩阵\n",
    "# print(X)\n",
    "md = sm.OLS(a[:,2],X).fit()  #构建并拟合模型\n",
    "print(md.summary(),'\\n-------------------------------------------\\n')\n",
    "print('y={}*x1+{}*x2+{}'.format(\n",
    "    md.params[1],  # 第一个系数\n",
    "    md.params[2],  # 第二个系数\n",
    "    md.params[0]   # 截距项\n",
    "))\n",
    "y = md.predict([1,5,68])  # 第一个1是截距项！\n",
    "print(y)"
   ]
  },
  {
   "cell_type": "markdown",
   "id": "86763f69",
   "metadata": {},
   "source": [
    "statsmodels基于公式求解"
   ]
  },
  {
   "cell_type": "code",
   "execution_count": 32,
   "id": "91fa202f",
   "metadata": {},
   "outputs": [
    {
     "name": "stdout",
     "output_type": "stream",
     "text": [
      "                            OLS Regression Results                            \n",
      "==============================================================================\n",
      "Dep. Variable:                      y   R-squared:                       0.979\n",
      "Model:                            OLS   Adj. R-squared:                  0.974\n",
      "Method:                 Least Squares   F-statistic:                     229.5\n",
      "Date:                Fri, 25 Jul 2025   Prob (F-statistic):           4.41e-09\n",
      "Time:                        22:00:40   Log-Likelihood:                -28.156\n",
      "No. Observations:                  13   AIC:                             62.31\n",
      "Df Residuals:                      10   BIC:                             64.01\n",
      "Df Model:                           2                                         \n",
      "Covariance Type:            nonrobust                                         \n",
      "==============================================================================\n",
      "                 coef    std err          t      P>|t|      [0.025      0.975]\n",
      "------------------------------------------------------------------------------\n",
      "Intercept     52.5773      2.286     22.998      0.000      47.483      57.671\n",
      "x1             1.4683      0.121     12.105      0.000       1.198       1.739\n",
      "x2             0.6623      0.046     14.442      0.000       0.560       0.764\n",
      "==============================================================================\n",
      "Omnibus:                        1.509   Durbin-Watson:                   1.922\n",
      "Prob(Omnibus):                  0.470   Jarque-Bera (JB):                1.104\n",
      "Skew:                           0.503   Prob(JB):                        0.576\n",
      "Kurtosis:                       1.987   Cond. No.                         175.\n",
      "==============================================================================\n",
      "\n",
      "Notes:\n",
      "[1] Standard Errors assume that the covariance matrix of the errors is correctly specified. \n",
      "------------\n",
      "\n",
      "y=1.4683057422155523*x1+0.6622504912746434*x2+52.57734888208955\n",
      "0    104.951911\n",
      "dtype: float64\n"
     ]
    }
   ],
   "source": [
    "import numpy as np\n",
    "import statsmodels.api as sm\n",
    "\n",
    "a = np.loadtxt('Pdata12_1.txt')\n",
    "# print(a)\n",
    "#加载表中的x1,x2,y的数据\n",
    "d = {'x1': a[:,0], 'x2': a[:,1], 'y': a[:,2]}\n",
    "md = sm.formula.ols('y~x1+x2',d).fit()  #构建并拟合模型\n",
    "print(md.summary(),'\\n------------\\n')\n",
    "print('y={}*x1+{}*x2+{}'.format(\n",
    "    md.params.iloc[1],  # 第一个系数\n",
    "    md.params.iloc[2],  # 第二个系数\n",
    "    md.params.iloc[0]   # 截距项\n",
    "))\n",
    "\"\"\"\n",
    "如果知道参数名称(如 x1, x2, const),更推荐按名称访问：\n",
    "print('y={}*x1+{}*x2+{}'.format(\n",
    "    md.params['x1'],    # 变量x1的系数\n",
    "    md.params['x2'],    # 变量x2的系数\n",
    "    md.params.iloc[0]  # 截距项\n",
    "))\n",
    "\"\"\"\n",
    "ypred = md.predict({'x1':5,'x2': 68})\n",
    "print(ypred)"
   ]
  },
  {
   "cell_type": "markdown",
   "id": "a870504a",
   "metadata": {},
   "source": [
    "利用模块sklearn.linear_model 中的函数LinearRegression 求解\n",
    "该模型检验的指标只有R²\n",
    "# 构建并拟合模型的函数调用格式为\n",
    "LinearRegression().fit(x,y)\n",
    "其中x为自变量观测值矩阵(不包含全部元素为1的第一列)"
   ]
  },
  {
   "cell_type": "code",
   "execution_count": 1,
   "id": "5f9df7b5",
   "metadata": {},
   "outputs": [
    {
     "name": "stdout",
     "output_type": "stream",
     "text": [
      "拟合优度R²=0.9787\n",
      "模型拟合的很好！\n",
      "b0=52.5773\n",
      "b1=1.4683    b2=0.66\n"
     ]
    }
   ],
   "source": [
    "import numpy as np\n",
    "from sklearn.linear_model import LinearRegression\n",
    "\n",
    "a = np.loadtxt('Pdata12_1.txt')\n",
    "#加载表中的x1,x2,y的数据\n",
    "md = LinearRegression().fit(a[:,:2], a[:,2])  #构建并拟合模型\n",
    "R2 = md.score(a[:,:2], a[:,2])\n",
    "print('拟合优度R²=%.4f' %R2)\n",
    "if R2 >= 0.7:\n",
    "    print('模型拟合的很好！')\n",
    "    b0 = md.intercept_; b12 = md.coef_  #输出回归系数\n",
    "    print('b0=%.4f\\nb1=%.4f    b2=%.2f' %(b0, b12[0], b12[1]))\n",
    "else:\n",
    "    print('模型拟合的不好，需重新拟合')"
   ]
  }
 ],
 "metadata": {
  "kernelspec": {
   "display_name": "Python 3",
   "language": "python",
   "name": "python3"
  },
  "language_info": {
   "codemirror_mode": {
    "name": "ipython",
    "version": 3
   },
   "file_extension": ".py",
   "mimetype": "text/x-python",
   "name": "python",
   "nbconvert_exporter": "python",
   "pygments_lexer": "ipython3",
   "version": "3.11.9"
  }
 },
 "nbformat": 4,
 "nbformat_minor": 5
}
