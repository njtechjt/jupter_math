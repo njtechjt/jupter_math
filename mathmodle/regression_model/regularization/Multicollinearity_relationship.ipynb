{
 "cells": [
  {
   "cell_type": "markdown",
   "id": "a20971f0",
   "metadata": {},
   "source": [
    "# 线性回归模型的正则化\n",
    "岭回归 和 LASSO回归 两种模型是线性回归正则化方法\n",
    "正则化对特征尺度敏感，需先标准化\n",
    "\n",
    "1. 多重共线性关系\n",
    "理论上一般要求设计矩阵X中的列向量之间不存在线性关系。当X的列向量之间有较强的线性相关性时，即解释变量之间出现严重的多重共线性，在这种情况下，用普通的最小二乘法估计模型参数时往往参数估计方差太大，拟合效果很不理想。\n",
    "2. 可以通过自变量之间的相关系数矩阵得出是否存在多重共线性，如果相关系数矩阵的值接近1则表示具有很强的线性相关性。"
   ]
  },
  {
   "cell_type": "code",
   "execution_count": 11,
   "id": "a4d90e15",
   "metadata": {},
   "outputs": [
    {
     "name": "stdout",
     "output_type": "stream",
     "text": [
      "y=-0.07417090745293381*x1+0.5104426635407711*x2+0.31155439075609903*x3+-8.620264109081816\n",
      "                            OLS Regression Results                            \n",
      "==============================================================================\n",
      "Dep. Variable:                      y   R-squared:                       0.996\n",
      "Model:                            OLS   Adj. R-squared:                  0.994\n",
      "Method:                 Least Squares   F-statistic:                     542.0\n",
      "Date:                Sat, 26 Jul 2025   Prob (F-statistic):           1.20e-08\n",
      "Time:                        20:32:55   Log-Likelihood:                -1.7480\n",
      "No. Observations:                  11   AIC:                             11.50\n",
      "Df Residuals:                       7   BIC:                             13.09\n",
      "Df Model:                           3                                         \n",
      "Covariance Type:            nonrobust                                         \n",
      "==============================================================================\n",
      "                 coef    std err          t      P>|t|      [0.025      0.975]\n",
      "------------------------------------------------------------------------------\n",
      "const         -8.6203      0.897     -9.611      0.000     -10.741      -6.499\n",
      "x1            -0.0742      0.028     -2.691      0.031      -0.139      -0.009\n",
      "x2             0.5104      0.075      6.781      0.000       0.332       0.688\n",
      "x3             0.3116      0.037      8.357      0.000       0.223       0.400\n",
      "==============================================================================\n",
      "Omnibus:                        5.258   Durbin-Watson:                   2.400\n",
      "Prob(Omnibus):                  0.072   Jarque-Bera (JB):                2.250\n",
      "Skew:                           1.080   Prob(JB):                        0.325\n",
      "Kurtosis:                       3.495   Cond. No.                     2.05e+03\n",
      "==============================================================================\n",
      "\n",
      "Notes:\n",
      "[1] Standard Errors assume that the covariance matrix of the errors is correctly specified.\n",
      "[2] The condition number is large, 2.05e+03. This might indicate that there are\n",
      "strong multicollinearity or other numerical problems.\n",
      "相关系数矩阵为:\n",
      "[[ 1.         -0.03291436  0.98690551]\n",
      " [-0.03291436  1.          0.03567322]\n",
      " [ 0.98690551  0.03567322  1.        ]]\n",
      "1和3具有较强的线性相关性\n",
      "3和1具有较强的线性相关性\n",
      "x3=0.7296669598514285*x1+-4.963227838173225\n"
     ]
    }
   ],
   "source": [
    "import numpy as np\n",
    "import statsmodels.api as sm\n",
    "\n",
    "a = np.loadtxt('Pdata12_3.txt')\n",
    "#加载x1,x2,x3,y的数据\n",
    "x = a[:,:3]  #提出自变量观测值矩阵\n",
    "X = sm.add_constant(x)  #增加第一列全部元素为1得到增广矩阵\n",
    "md = sm.OLS(a[:,3],X).fit()  #构建并拟合模型\n",
    "b = md.params  #提取所有回归系数\n",
    "# print(b)\n",
    "print('y={}*x1+{}*x2+{}*x3+{}'.format(b[1], b[2], b[3], b[0]))\n",
    "print(md.summary())\n",
    "corr = np.corrcoef(x.T)\n",
    "print('相关系数矩阵为:')\n",
    "print(corr)\n",
    "#判断是否具有较强的相关性\n",
    "for i in range(3):\n",
    "    for j in range(3):\n",
    "        if corr[i,j] > 0.7 and i != j:\n",
    "            print('{}和{}具有较强的线性相关性'.format(i+1,j+1))\n",
    "X1 = sm.add_constant(a[:,0])\n",
    "md1 = sm.OLS(a[:,2], X1).fit()\n",
    "# print('回归系数为:',md1.params)\n",
    "print('x3={}*x1+{}'.format(md1.params[1],md1.params[0]))"
   ]
  }
 ],
 "metadata": {
  "kernelspec": {
   "display_name": "Python 3",
   "language": "python",
   "name": "python3"
  },
  "language_info": {
   "codemirror_mode": {
    "name": "ipython",
    "version": 3
   },
   "file_extension": ".py",
   "mimetype": "text/x-python",
   "name": "python",
   "nbconvert_exporter": "python",
   "pygments_lexer": "ipython3",
   "version": "3.11.9"
  }
 },
 "nbformat": 4,
 "nbformat_minor": 5
}
