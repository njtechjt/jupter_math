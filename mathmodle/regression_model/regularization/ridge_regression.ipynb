{
 "cells": [
  {
   "cell_type": "markdown",
   "id": "5c97c034",
   "metadata": {},
   "source": [
    "# 岭回归模型\n",
    "岭回归是一种线性回归的正则化方法，通过引入 L2 正则化项 来防止过拟合，适用于：\n",
    "    特征数较多（高维数据）\n",
    "    特征间存在多重共线性（相关性较强）\n",
    "    数据噪声较大\n",
    "1. 岭估计\n",
    "    当X之间存在多重共线性关系时，也就是|X'X|≈0，设想给X'X加上一个正常数矩阵(正定矩阵) kI(k>0),那么(X'X+kI)接近奇异(行列式为0)的可能性比X'X接近奇异的可能性小得多,用\n",
    "    (估计)β(k) = (X'X+kI)^-1 X'Y作为β的估计比用最小二乘法估计跟稳定\n",
    "2. 岭参数k的选择\n",
    "    1. 岭迹法\n",
    "    观察岭迹曲线，原则上应该选取(估计)β(k)稳定的最小k值，同时残差平方和也不增加太多\n",
    "    2. 均方误差法\n",
    "    岭估计的均方误差是k的函数，可以证明它能在某处取得最小值。记算并观察均方误差，开始它将下降，到达最小值后开始上升。取他最小值处的k作为岭参数"
   ]
  },
  {
   "cell_type": "code",
   "execution_count": 1,
   "id": "24af9030",
   "metadata": {},
   "outputs": [
    {
     "data": {
      "image/png": "[encoded data removed]",
      "text/plain": [
       "<Figure size 640x480 with 1 Axes>"
      ]
     },
     "metadata": {},
     "output_type": "display_data"
    },
    {
     "name": "stdout",
     "output_type": "stream",
     "text": [
      "最优α= 0.001788649529057435\n",
      "回归系数： [-0.44177495  0.18619826  1.40098861]\n",
      "截距项: -4.856691233347658e-16\n",
      "原始数据的截距项和回归系数为: [np.float64(-8.647103787292679), array([-0.0719225 ,  0.51297672,  0.30849576])]\n",
      "拟合优度为: 0.9957090793021439\n"
     ]
    }
   ],
   "source": [
    "import numpy as np\n",
    "import matplotlib.pyplot as plt\n",
    "from sklearn.linear_model import Ridge, RidgeCV\n",
    "from scipy.stats import zscore\n",
    "\n",
    "plt.rc('text', usetex=True)\n",
    "a = np.loadtxt('Pdata12_3.txt')\n",
    "n = a.shape[1]-1  #表示矩阵 a 的列数（第 2 个维度）——表示自变量的总个数\n",
    "aa = zscore(a)  #数据标准化\n",
    "\"\"\"\n",
    "zscore 是统计学和机器学习中常用的 数据标准化（Z-Score Normalization） 方法，通常用于将数据转换为均值为 0、标准差为 1 的标准正态分布形式。\n",
    "    使用场景\n",
    "        机器学习：在训练模型前标准化数据，避免某些特征因量纲不同而主导模型（如 SVM、KNN、PCA 等）。\n",
    "        统计分析：比较不同量纲的变量（如身高和体重）。\n",
    "        数据可视化：使不同变量的尺度一致，便于可视化。\n",
    "\"\"\"\n",
    "x = aa[:,:n]\n",
    "y = aa[:,n]  #提出自变量和因变量观测值矩阵\n",
    "b = []  #用于存储回归系数的空列表\n",
    "kk = np.logspace(-4,0,100)  #循环迭代的不同k值\n",
    "\"\"\"\n",
    "np.logspace() 是 NumPy 提供的一个函数，用于生成在对数尺度上均匀间隔的数值序列。\n",
    "np.logspace(start, stop, num=50, endpoint=True, base=10.0, dtype=None)\n",
    "    start: 对数尺度的起始指数（10 的幂次）。\n",
    "    stop: 对数尺度的结束指数（10 的幂次）。\n",
    "    num: 生成的样本数（默认 50）。\n",
    "    endpoint: 是否包含 stop（默认包含）。\n",
    "    base: 对数的底数（默认 10）。\n",
    "    dtype: 输出数组的数据类型。\n",
    "\"\"\"\n",
    "for k in kk:\n",
    "    md = Ridge(alpha=k).fit(x,y)  #α（alpha）是正则化强度（超参数）。（越大，系数收缩越强）\n",
    "    \"\"\"\n",
    "    alpha=k：设置正则化参数α\n",
    "    alpha=0：退化为普通最小二乘法（OLS）。\n",
    "    alpha→∞：所有回归系数趋近于 0。\n",
    "    \n",
    "    Ridge(alpha=1.0, fit_intercept=True, normalize=False, copy_X=True, max_iter=None, tol=0.001, solver='auto')\n",
    "     参数\t                 作用\t                                 示例\n",
    "    alpha\t          正则化强度（越大，系数收缩越强）\t            alpha=0.1\n",
    "    fit_intercept\t  是否拟合截距项（默认 True）\t               fit_intercept=False\n",
    "    solver\t          优化算法（auto、svd、cholesky、lsqr 等）\t   solver='svd'\n",
    "    normalize\t      是否标准化数据（已弃用，改用 StandardScaler）\tnormalize=False\n",
    "    \n",
    "    输出结果：\n",
    "    md.coef_：回归系数（权重），反映每个特征的重要性。\n",
    "    md.intercept_：截距项（偏置）。\n",
    "    md.predict(X_new)：对新数据 X_new 进行预测。\n",
    "    \"\"\"\n",
    "    b.append(md.coef_)\n",
    "# print(b)  \n",
    "#绘图\n",
    "st = ['s-r','*-k','p-b']  #下面画图的控制字符串\n",
    "for i in range(3):\n",
    "    plt.plot(kk,np.array(b)[:,i],st[i])\n",
    "plt.legend(['$x_1$','$x_2$','$x_3$'], fontsize=15)\n",
    "plt.show()\n",
    "\n",
    "#自动获取最优值\n",
    "mdcv = RidgeCV(alphas=np.logspace(-4,0,100)).fit(x,y)  #RidgeCV 是 Scikit-learn 提供的带交叉验证的岭回归，用于自动选择最优的正则化参数 参数：alpha.alphas（候选参数列表）作用：指定待搜索的 alpha 值列表。\n",
    "\"\"\"\n",
    "其他关键参数\n",
    "参数\t                                说明\n",
    "cv\t                    交叉验证折数（默认 None，用留一验证或 5 折）\n",
    "scoring\t                评估指标（默认 None，用负均方误差 neg_mean_squared_error）\n",
    "fit_intercept\t        是否拟合截距（默认 True）\n",
    "store_cv_values\t        是否存储交叉验证误差（默认 False，设为 True 可事后分析）\n",
    "\n",
    "输出属性\n",
    "属性\t                    说明\t                                                示例\n",
    "alpha_\t                选择的最佳 alpha 值\t                                       mdcv.alpha_\n",
    "coef_\t                回归系数(对应最佳 alpha)                                   mdcv.coef_\n",
    "intercept_\t            截距项\t                                                  mdcv.intercept_\n",
    "cv_values_\t            每个 alpha 的交叉验证误差（需 store_cv_values=True）\t    mdcv.cv_values_\n",
    "\n",
    "\"\"\"\n",
    "print('最优α=', mdcv.alpha_)\n",
    "md0 = Ridge(mdcv.alpha_).fit(x,y)  #使用交叉验证得到的最优 alpha 重新训练模型，提取标准化数据的回归系数。\n",
    "cs0 = md0.coef_  #提出标准化数据的回归系数\n",
    "print('回归系数：',cs0)\n",
    "print('截距项:',md0.intercept_)\n",
    "#记算所有指标的均值和标准差\n",
    "mu = np.mean(a,axis=0)  #各列均值\n",
    "s = np.std(a,axis=0,ddof=1)  #各列标准差（无偏估计）ddof=1：使用无偏标准差（分母 n-1，适用于样本数据）。\n",
    "\n",
    "params = [mu[-1]-s[-1]*sum(cs0*mu[:-1]/s[:-1]),s[-1]*cs0/s[:-1]]  #-1 是 Python 的负索引，表示从数组的末尾开始取值\n",
    "\"\"\"\n",
    "mu[:-1]:数组 mu 中除最后一个元素外的所有元素(即自变量的均值μ_x1, μ_x2, μ_x3)\n",
    "s[:-1]:数组 s 中除最后一个元素外的所有元素(即自变量的标准差σ_x1, σ_x2, σ_x3)\n",
    "\"\"\"\n",
    "print('原始数据的截距项和回归系数为:',params)\n",
    "print('拟合优度为:', md0.score(x,y))"
   ]
  }
 ],
 "metadata": {
  "kernelspec": {
   "display_name": "Python 3",
   "language": "python",
   "name": "python3"
  },
  "language_info": {
   "codemirror_mode": {
    "name": "ipython",
    "version": 3
   },
   "file_extension": ".py",
   "mimetype": "text/x-python",
   "name": "python",
   "nbconvert_exporter": "python",
   "pygments_lexer": "ipython3",
   "version": "3.11.9"
  }
 },
 "nbformat": 4,
 "nbformat_minor": 5
}
