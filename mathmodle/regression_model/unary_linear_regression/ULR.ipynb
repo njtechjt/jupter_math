{
 "cells": [
  {
   "cell_type": "markdown",
   "id": "284c0a3f",
   "metadata": {},
   "source": [
    "一元线性回归模型\n",
    "\n",
    "1. 在拟合参数时，可以使用Numpy库中的polyfit函数，或者使用scipy.optimize模块的curve_fit函数\n",
    "polyfit(x,y,deg=*) (deg=1表示一次多项式/线性拟合)\n",
    "\n",
    "coefficients = np.polyfit(x, y, deg=1)\n",
    "coefficients返回的是从高次到低次的系数\n",
    "slope = coefficients[0]  # 斜率\n",
    "intercept = coefficients[1]  # 截距\n",
    "\n",
    "scipy.optimize模块的curve_fit函数ji进行一元线性回归时需自定义要拟合的函数形式\n",
    "popt, pcov = curve_fit(linear_func, x_data, y_data)\n",
    "    获取拟合参数\n",
    "    a, b = popt  # a是斜率，b是截距\n",
    "    a_err, b_err = np.sqrt(np.diag(pcov))  # 参数的标准误差\n",
    "\n",
    "2. 为了得到线性回归模型的一些检验统计量，可以使用statsmodels库函数进行记算\n",
    "# 创建模型并拟合\n",
    "    model = sm.OLS(Y, X)  # 普通最小二乘法\n",
    "    results = model.fit()  # 拟合模型\n",
    "# 打印完整结果摘要\n",
    "    print(results.summary())\n",
    "# 获取所有参数估计值\n",
    "    print(\"参数估计:\\n\", results.params)\n",
    "# 获取特定系数的t检验和p值\n",
    "    print(\"\\n斜率(x1)的t值:\", results.tvalues[1])\n",
    "    print(\"斜率(x1)的p值:\", results.pvalues[1])\n",
    "    print(\"斜率的95%置信区间:\\n\", results.conf_int(alpha=0.05).iloc[1])\n",
    "# 模型F检验\n",
    "    print(\"\\nF统计量:\", results.fvalue)\n",
    "    print(\"F检验p值:\", results.f_pvalue)\n",
    "# R-squared\n",
    "    print(\"\\nR-squared:\", results.rsquared)\n",
    "    print(\"调整R-squared:\", results.rsquared_adj)\n",
    "# 获取残差\n",
    "    residuals = results.resid\n",
    "    print(\"\\n残差:\", residuals)\n",
    "# Durbin-Watson检验(自相关检验)\n",
    "    print(\"\\nDurbin-Watson统计量:\", sm.stats.durbin_watson(residuals))\n",
    "# 正态性检验\n",
    "    print(\"\\n残差JB检验:\", sm.stats.jarque_bera(residuals))"
   ]
  },
  {
   "cell_type": "code",
   "execution_count": 2,
   "id": "359ca138",
   "metadata": {},
   "outputs": [
    {
     "name": "stdout",
     "output_type": "stream",
     "text": [
      "拟合多项式为:y=-23.950588628514122*x+266.166255059977\n",
      "预测值为: 74.56154603186403\n"
     ]
    },
    {
     "data": {
      "image/png": "[encoded data removed]",
      "text/plain": [
       "<Figure size 640x480 with 1 Axes>"
      ]
     },
     "metadata": {},
     "output_type": "display_data"
    }
   ],
   "source": [
    "#通过Numpy库进行回归分析\n",
    "import matplotlib.pyplot as plt\n",
    "import numpy as np\n",
    "\n",
    "x=[2.5, 3.9, 2.9, 2.4, 2.9, 0.8, 9.1, 0.8, 0.7,7.9, 1.8, 1.9, 0.8, 6.5, 1.6, 5.8, 1.3, 1.2, 2.7]\n",
    "y=[211, 167, 131, 191, 220, 297, 71, 211, 300, 107,167, 266, 277, 86, 207, 115, 285, 199, 172]\n",
    "plt.scatter(x,y,marker='+',color='black',label='原始数据点')\n",
    "p = np.polyfit(x,y,deg=1)  #拟合一次多项式\n",
    "print('拟合多项式为:y={}*x+{}'.format(p[0],p[1]))\n",
    "plt.rc('font',size=16,family='simhei')\n",
    "plt.plot(x,np.polyval(p,x), label='拟合的直线', color='r') \n",
    "\"\"\"\n",
    "np.polyval(p, x):\n",
    "p 是多项式系数向量（从高次到低次）\n",
    "x 是自变量的值数组\n",
    "这个函数会计算多项式在x各点处的值\n",
    "\"\"\"\n",
    "print('预测值为:',np.polyval(p,8))  #预测x=8时的y值\n",
    "plt.legend()\n",
    "plt.show()"
   ]
  },
  {
   "cell_type": "markdown",
   "id": "4e276e20",
   "metadata": {},
   "source": [
    "基于公式的statsmodels函数以得到检验统计量"
   ]
  },
  {
   "cell_type": "code",
   "execution_count": 3,
   "id": "0b5a4e9a",
   "metadata": {},
   "outputs": [
    {
     "name": "stdout",
     "output_type": "stream",
     "text": [
      "                            OLS Regression Results                            \n",
      "==============================================================================\n",
      "Dep. Variable:                      y   R-squared:                       0.721\n",
      "Model:                            OLS   Adj. R-squared:                  0.705\n",
      "Method:                 Least Squares   F-statistic:                     43.99\n",
      "Date:                Fri, 25 Jul 2025   Prob (F-statistic):           4.23e-06\n",
      "Time:                        12:58:04   Log-Likelihood:                -95.241\n",
      "No. Observations:                  19   AIC:                             194.5\n",
      "Df Residuals:                      17   BIC:                             196.4\n",
      "Df Model:                           1                                         \n",
      "Covariance Type:            nonrobust                                         \n",
      "==============================================================================\n",
      "                 coef    std err          t      P>|t|      [0.025      0.975]\n",
      "------------------------------------------------------------------------------\n",
      "Intercept    266.1663     14.044     18.953      0.000     236.537     295.796\n",
      "x            -23.9506      3.611     -6.633      0.000     -31.569     -16.332\n",
      "==============================================================================\n",
      "Omnibus:                        2.827   Durbin-Watson:                   2.120\n",
      "Prob(Omnibus):                  0.243   Jarque-Bera (JB):                1.192\n",
      "Skew:                          -0.076   Prob(JB):                        0.551\n",
      "Kurtosis:                       1.783   Cond. No.                         6.45\n",
      "==============================================================================\n",
      "\n",
      "Notes:\n",
      "[1] Standard Errors assume that the covariance matrix of the errors is correctly specified. \n",
      "\n",
      "所求的预测值为: [74.56154603186403]\n"
     ]
    }
   ],
   "source": [
    "import statsmodels.api as sm\n",
    "\n",
    "x=[2.5, 3.9, 2.9, 2.4, 2.9, 0.8, 9.1, 0.8, 0.7,7.9, 1.8, 1.9, 0.8, 6.5, 1.6, 5.8, 1.3, 1.2, 2.7]\n",
    "y=[211, 167, 131, 191, 220, 297, 71, 211, 300, 107,167, 266, 277, 86, 207, 115, 285, 199, 172]\n",
    "df = {'x':x,'y':y}  ## 创建数据框\n",
    "res = sm.formula.ols('y~x',data=df).fit()  #构建并拟合模型\n",
    "\"\"\"\n",
    "'y ~ x': R 风格的公式语法\n",
    "y: 因变量(响应变量)\n",
    "x: 自变量(解释变量)\n",
    "~: 表示\"被...解释\"的关系\n",
    "\"\"\"\n",
    "#查看结果摘要\n",
    "print(res.summary(),'\\n')\n",
    "#进行预测\n",
    "ypred = res.predict(dict(x=8))  #dict(x=8) 创建了一个包含键值对的字典，其中：键 'x' 对应模型中的自变量名称值, 8 是要预测的特定x值\n",
    "print('所求的预测值为:',list(ypred))"
   ]
  },
  {
   "cell_type": "markdown",
   "id": "519e249d",
   "metadata": {},
   "source": [
    "基于数组的statsmodels函数以得到检验统计量"
   ]
  },
  {
   "cell_type": "code",
   "execution_count": 6,
   "id": "76ea9113",
   "metadata": {},
   "outputs": [
    {
     "name": "stdout",
     "output_type": "stream",
     "text": [
      "[266.16625506 -23.95058863] \n",
      "--------\n",
      "\n",
      "                            OLS Regression Results                            \n",
      "==============================================================================\n",
      "Dep. Variable:                      y   R-squared:                       0.721\n",
      "Model:                            OLS   Adj. R-squared:                  0.705\n",
      "Method:                 Least Squares   F-statistic:                     43.99\n",
      "Date:                Fri, 25 Jul 2025   Prob (F-statistic):           4.23e-06\n",
      "Time:                        20:45:33   Log-Likelihood:                -95.241\n",
      "No. Observations:                  19   AIC:                             194.5\n",
      "Df Residuals:                      17   BIC:                             196.4\n",
      "Df Model:                           1                                         \n",
      "Covariance Type:            nonrobust                                         \n",
      "==============================================================================\n",
      "                 coef    std err          t      P>|t|      [0.025      0.975]\n",
      "------------------------------------------------------------------------------\n",
      "const        266.1663     14.044     18.953      0.000     236.537     295.796\n",
      "x1           -23.9506      3.611     -6.633      0.000     -31.569     -16.332\n",
      "==============================================================================\n",
      "Omnibus:                        2.827   Durbin-Watson:                   2.120\n",
      "Prob(Omnibus):                  0.243   Jarque-Bera (JB):                1.192\n",
      "Skew:                          -0.076   Prob(JB):                        0.551\n",
      "Kurtosis:                       1.783   Cond. No.                         6.45\n",
      "==============================================================================\n",
      "\n",
      "Notes:\n",
      "[1] Standard Errors assume that the covariance matrix of the errors is correctly specified.\n",
      "预测值为: [74.56154603]\n"
     ]
    }
   ],
   "source": [
    "import statsmodels.api as sm\n",
    "import numpy as np\n",
    "\n",
    "x = np.array([2.5, 3.9, 2.9, 2.4, 2.9, 0.8, 9.1, 0.8, 0.7,7.9, 1.8, 1.9, 0.8, 6.5, 1.6, 5.8, 1.3, 1.2, 2.7])\n",
    "y = np.array([211, 167, 131, 191, 220, 297, 71, 211, 300, 107,167, 266, 277, 86, 207, 115, 285, 199, 172])\n",
    "\n",
    "X = sm.add_constant(x)\n",
    "\"\"\"\n",
    "sm.add_constant(x) 是 statsmodels 库中一个重要的函数，用于在回归模型中添加常数项（截距项）。\n",
    "1.什么是常数项（截距项）？\n",
    "在回归方程中，常数项（通常表示为 β₀）表示当所有自变量为零时因变量的预期值\n",
    "方程形式:y = β₀ + β₁x₁ + β₂x₂ + ... + ε\n",
    "2. 为什么需要显式添加常数项？\n",
    "默认情况下:numpy 数组或 pandas 系列只包含自变量数据\n",
    "统计软件需要明确知道模型中是否包含截距项\n",
    "如果不添加常数项,模型将被强制通过原点(y=0 when x=0),这通常不符合实际情况\n",
    "\"\"\"\n",
    "# print(X)\n",
    "\n",
    "md = sm.OLS(y,X).fit()  #构建并拟合模型\n",
    "print(md.params,'\\n--------\\n')\n",
    "print(md.summary())\n",
    "\n",
    "#进行预测\n",
    "ypred = md.predict([1,8])  #[1,8] 的 1 代表的是常数项（截距项）的系数位置，而 8 是自变量 x 的值。\n",
    "#输入格式应为 [const, x_value]，即 [1, x的新值]。\n",
    "print('预测值为:',ypred)"
   ]
  }
 ],
 "metadata": {
  "kernelspec": {
   "display_name": "Python 3",
   "language": "python",
   "name": "python3"
  },
  "language_info": {
   "codemirror_mode": {
    "name": "ipython",
    "version": 3
   },
   "file_extension": ".py",
   "mimetype": "text/x-python",
   "name": "python",
   "nbconvert_exporter": "python",
   "pygments_lexer": "ipython3",
   "version": "3.11.9"
  }
 },
 "nbformat": 4,
 "nbformat_minor": 5
}
