{
 "cells": [
  {
   "cell_type": "markdown",
   "id": "ed0345f9",
   "metadata": {},
   "source": [
    "线性整数/0-1规划"
   ]
  },
  {
   "cell_type": "markdown",
   "id": "3cbc2118",
   "metadata": {},
   "source": [
    "指派问题"
   ]
  },
  {
   "cell_type": "code",
   "execution_count": 15,
   "id": "6aebe6e4",
   "metadata": {},
   "outputs": [
    {
     "name": "stdout",
     "output_type": "stream",
     "text": [
      "分配结果为（0表示未选，1表示选中）：\n",
      "[[0 0 0 1]\n",
      " [1 0 0 0]\n",
      " [0 1 0 0]\n",
      " [0 0 1 0]\n",
      " [0 0 0 0]]\n",
      "最小时间为：\n",
      "253.20000000000002\n"
     ]
    }
   ],
   "source": [
    "from pulp import LpMaximize, LpMinimize, LpProblem, LpVariable, lpSum, value\n",
    "import numpy as np\n",
    "\n",
    "#创建最小化问题\n",
    "problem = LpProblem(name='Assignment_Problem', sense=LpMinimize)\n",
    "#定义目标函数系数（泳姿时间）\n",
    "c = [66.8,75.6,87,58.6,57.2,66,66.4,53,78,67.8,84.6,59.4,70,74.2,69.6,57.2,67.4,71,83.8,62.4]\n",
    "#定义决策变量（0-1变量）\n",
    "x = [LpVariable(name=f'x{i+1}', cat='Binary') for i in range(20)]\n",
    "#定义目标函数\n",
    "problem += lpSum(c[i]*x[i] for i in range(20)), 'Total_Time'\n",
    "#添加不等式约束\n",
    "A = [\n",
    "    [1,1,1,1,0,0,0,0,0,0,0,0,0,0,0,0,0,0,0,0],\n",
    "    [0,0,0,0,1,1,1,1,0,0,0,0,0,0,0,0,0,0,0,0],\n",
    "    [0,0,0,0,0,0,0,0,1,1,1,1,0,0,0,0,0,0,0,0],\n",
    "    [0,0,0,0,0,0,0,0,0,0,0,0,1,1,1,1,0,0,0,0],\n",
    "    [0,0,0,0,0,0,0,0,0,0,0,0,0,0,0,0,1,1,1,1]\n",
    "    ]\n",
    "b = np.ones(5)\n",
    "for i in range(len(A)):\n",
    "    problem += lpSum(A[i][j]*x[j] for j in range(20)) <= b[i], f'Person_Constraint_{i+1}'\n",
    "#添加等式约束\n",
    "Aeq = [\n",
    "    [1,0,0,0,1,0,0,0,1,0,0,0,1,0,0,0,1,0,0,0],\n",
    "    [0,1,0,0,0,1,0,0,0,1,0,0,0,1,0,0,0,1,0,0],\n",
    "    [0,0,1,0,0,0,1,0,0,0,1,0,0,0,1,0,0,0,1,0],\n",
    "    [0,0,0,1,0,0,0,1,0,0,0,1,0,0,0,1,0,0,0,1]\n",
    "    ]\n",
    "beq = np.ones(4)\n",
    "for i in range(len(Aeq)):\n",
    "    problem += lpSum(Aeq[i][j] * x[j] for j in range(20)) == beq[i], f'Style_Constraint_{i+1}'\n",
    "#求解问题\n",
    "problem.solve()\n",
    "#输出结果\n",
    "print('分配结果为（0表示未选，1表示选中）：')\n",
    "assignment = [int(value(x[i])) for i in range(20)]\n",
    "assignment_matrix = np.array(assignment).reshape(5,4)\n",
    "print(assignment_matrix)\n",
    "print('最小时间为：')\n",
    "print(value(problem.objective))"
   ]
  }
 ],
 "metadata": {
  "kernelspec": {
   "display_name": "Python 3",
   "language": "python",
   "name": "python3"
  },
  "language_info": {
   "codemirror_mode": {
    "name": "ipython",
    "version": 3
   },
   "file_extension": ".py",
   "mimetype": "text/x-python",
   "name": "python",
   "nbconvert_exporter": "python",
   "pygments_lexer": "ipython3",
   "version": "3.11.9"
  }
 },
 "nbformat": 4,
 "nbformat_minor": 5
}
