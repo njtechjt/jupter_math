{
 "cells": [
  {
   "cell_type": "markdown",
   "id": "4521f204",
   "metadata": {},
   "source": [
    "线性整数规划\n",
    "Plup库的用法\n",
    "1.定义问题类型\n",
    "    problem = LpProblem(name=, sence=)\n",
    "    name:问题的名称\n",
    "    sence:优化目标类型，使用LpMaxmize或LpMinmize\n",
    "2.定义决策变量\n",
    "    LpVariable(name=,lowBound=,upbound=,cat=)\n",
    "    name:变量名称\n",
    "    lowBound:变量下界（默认为None）\n",
    "    upBound:变量上界（默认为None）\n",
    "    cat:变量类型\n",
    "        \"Continuous\":连续变量（默认）\n",
    "        \"Integer\":整数变量\n",
    "        \"Binary\":0-1变量\n",
    "3.添加目标函数和约束条件\n",
    "    使用+=操作符将目标函数和约束条件添加到问题中，约束条件可以是==或<=或>=\n",
    "    eg:problem += 3*x+2*y,\"objectfunction\"  #目标函数\n",
    "       problem += x+y<=10,\"Constraint_1\"   #约束条件\n",
    "4.求解问题\n",
    "    problem.solve()\n",
    "5.获取结果\n",
    "    变量值：value(variable)\n",
    "    目标函数值：value(problem.objective)\n",
    "    求解状态：LpStatus[problem.status]"
   ]
  },
  {
   "cell_type": "code",
   "execution_count": 4,
   "id": "ede33826",
   "metadata": {},
   "outputs": [
    {
     "name": "stdout",
     "output_type": "stream",
     "text": [
      "A, B, C三图分别通关次数为：\n",
      "17 0 3\n",
      "最终获得的经验为：\n",
      "460\n"
     ]
    }
   ],
   "source": [
    "#示例\n",
    "from pulp import LpMaximize, LpMinimize, LpProblem, LpVariable, lpSum, value, LpStatus\n",
    "\n",
    "#创建一个最大化问题\n",
    "problem = LpProblem(name='Maximize_Experience', sense=LpMaximize)\n",
    "#定义决策变量\n",
    "x1 = LpVariable(name='x1', lowBound=0, cat='Integer')  #A 图通关次数\n",
    "x2 = LpVariable(name='x2', lowBound=0, cat='Integer')  #B 图通关次数\n",
    "x3 = LpVariable(name='x3', lowBound=0, cat='Integer')  #C 图通关次数\n",
    "#定义目标函数\n",
    "problem += 20*x1+30*x2+40*x3, 'Total_Experience'\n",
    "#添加约束条件\n",
    "problem += 4*x1+8*x2+10*x3 <= 100, 'Resource_Constraint'\n",
    "problem += x1+x2+x3 <= 20, 'Time_Constraint'\n",
    "#求解问题\n",
    "problem.solve()\n",
    "#输出结果\n",
    "print(\"A, B, C三图分别通关次数为：\")\n",
    "print(int(value(x1)), int(value(x2)), int(value(x3)))\n",
    "print('最终获得的经验为：')\n",
    "print(int(value(problem.objective)))\n",
    "# print(LpStatus[problem.status])"
   ]
  },
  {
   "cell_type": "markdown",
   "id": "d45a0672",
   "metadata": {},
   "source": [
    "背包问题———0-1规划"
   ]
  },
  {
   "cell_type": "code",
   "execution_count": 2,
   "id": "a08bc42b",
   "metadata": {},
   "outputs": [
    {
     "name": "stdout",
     "output_type": "stream",
     "text": [
      "选中的物品分别为（0表示未选，1表示选中）：\n",
      "[1, 1, 0, 1, 0, 1, 1, 1, 1, 1]\n",
      "最大利润为：\n",
      "2410.0\n"
     ]
    }
   ],
   "source": [
    "from pulp import LpMaximize, LpMinimize, LpProblem, LpVariable, lpSum, value, LpStatus\n",
    "\n",
    "#创建最大化问题\n",
    "problem_pack = LpProblem(name='Knapsack_Problem', sense=LpMaximize)\n",
    "#定义目标函数系数（利润）\n",
    "profits = [540, 200, 180, 350, 60, 150, 280, 450, 320, 120]\n",
    "#定义约束系数（重量）\n",
    "weights = [6,3,4,5,1,2,3,5,4,2]\n",
    "max_weight = 30\n",
    "#定义决策变量（0-1变量）\n",
    "x = [LpVariable(name=f'x{i+1}', cat='Binary') for i in range(10)]\n",
    "#定义目标函数\n",
    "problem_pack += lpSum(profits[i]*x[i] for i in range(10)), 'Total_Profit'\n",
    "#添加约束条件\n",
    "problem_pack += lpSum(weights[i]*x[i] for i in range(10)) <= max_weight, 'Weight_Constraint'\n",
    "#求解问题\n",
    "problem_pack.solve()\n",
    "#输出结果\n",
    "print('选中的物品分别为（0表示未选，1表示选中）：')\n",
    "selected_items = [int(value(x[i])) for i in range(10)]\n",
    "print(selected_items)\n",
    "print('最大利润为：')\n",
    "print(value(problem_pack.objective))"
   ]
  }
 ],
 "metadata": {
  "kernelspec": {
   "display_name": "Python 3",
   "language": "python",
   "name": "python3"
  },
  "language_info": {
   "codemirror_mode": {
    "name": "ipython",
    "version": 3
   },
   "file_extension": ".py",
   "mimetype": "text/x-python",
   "name": "python",
   "nbconvert_exporter": "python",
   "pygments_lexer": "ipython3",
   "version": "3.11.9"
  }
 },
 "nbformat": 4,
 "nbformat_minor": 5
}
