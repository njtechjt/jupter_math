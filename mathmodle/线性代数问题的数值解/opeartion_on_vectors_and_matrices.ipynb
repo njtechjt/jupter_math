{
 "cells": [
  {
   "cell_type": "markdown",
   "id": "228e432a",
   "metadata": {},
   "source": [
    "# 向量和矩阵的运算"
   ]
  },
  {
   "cell_type": "markdown",
   "id": "7a91b68f",
   "metadata": {},
   "source": [
    "形状为(n,)的一维数组既可以看成行向量，又可以看成列向量，因此inner(a,b)与矩阵乘法dot(a,b)等价"
   ]
  },
  {
   "cell_type": "code",
   "execution_count": 7,
   "id": "c72242d6",
   "metadata": {},
   "outputs": [
    {
     "name": "stdout",
     "output_type": "stream",
     "text": [
      "a的二范数为: 3.7416573867739413\n",
      "a点乘b= 32\n",
      "a,b的内积= 32\n",
      "a叉乘b= [-3  6 -3]\n"
     ]
    }
   ],
   "source": [
    "from numpy import arange, cross, inner, dot\n",
    "from numpy.linalg import norm\n",
    "\n",
    "a = arange(1,4)\n",
    "b = arange(4,7)  #创建数组\n",
    "print('a的二范数为:', norm(a))\n",
    "print('a点乘b=', dot(a,b))  #a.dot(b)\n",
    "print('a,b的内积=', inner(a,b))\n",
    "print('a叉乘b=', cross(a,b))"
   ]
  },
  {
   "cell_type": "code",
   "execution_count": 18,
   "id": "9630b670",
   "metadata": {},
   "outputs": [
    {
     "name": "stdout",
     "output_type": "stream",
     "text": [
      "A的行列式为: 0.0\n",
      "A的秩为: 2\n",
      "A的转置矩阵为: [[ 1  5  9 13]\n",
      " [ 2  6 10 14]\n",
      " [ 3  7 11 15]\n",
      " [ 4  8 12 16]]\n",
      "所求的逆矩阵为: [[ 0.11277778  0.00333333 -0.00611111 -0.01555556]\n",
      " [-0.005       0.09       -0.015      -0.02      ]\n",
      " [-0.02277778 -0.02333333  0.07611111 -0.02444444]\n",
      " [-0.04055556 -0.03666667 -0.03277778  0.07111111]]\n",
      "A的平方为: [[ 90 100 110 120]\n",
      " [202 228 254 280]\n",
      " [314 356 398 440]\n",
      " [426 484 542 600]]\n",
      "A,B的乘积为: [[ 1.  2.  3.  4.]\n",
      " [ 5.  6.  7.  8.]\n",
      " [ 9. 10. 11. 12.]\n",
      " [13. 14. 15. 16.]]\n",
      "横连矩阵为: [[ 1.  2.  3.  4.  1.  0.  0.  0.]\n",
      " [ 5.  6.  7.  8.  0.  1.  0.  0.]\n",
      " [ 9. 10. 11. 12.  0.  0.  1.  0.]\n",
      " [13. 14. 15. 16.  0.  0.  0.  1.]]\n",
      "纵连矩阵为: [[ 1.  2.  3.  4.]\n",
      " [ 5.  6.  7.  8.]\n",
      " [ 9. 10. 11. 12.]\n",
      " [13. 14. 15. 16.]\n",
      " [ 1.  0.  0.  0.]\n",
      " [ 0.  1.  0.  0.]\n",
      " [ 0.  0.  1.  0.]\n",
      " [ 0.  0.  0.  1.]]\n",
      "提出A的左上角子块构成的矩阵为: [[1 2]\n",
      " [5 6]]\n",
      "[[ 1  2  3  4]\n",
      " [ 5  6  7  8]\n",
      " [ 9 10 11 12]]\n"
     ]
    }
   ],
   "source": [
    "import numpy as np\n",
    "import numpy.linalg as la\n",
    "\n",
    "A = np.arange(1,17).reshape(4,4)\n",
    "B = np.eye(4)\n",
    "print('A的行列式为:', la.det(A))\n",
    "print('A的秩为:', la.matrix_rank(A))\n",
    "print('A的转置矩阵为:', A.T)\n",
    "print('所求的逆矩阵为:', la.inv(A+10*B))\n",
    "print('A的平方为:', A.dot(A))\n",
    "print('A,B的乘积为:', A.dot(B))\n",
    "print('横连矩阵为:', np.c_[A, B])\n",
    "print('纵连矩阵为:', np.r_[A, B])\n",
    "print('提出A的左上角子块构成的矩阵为:', A[0:2,0:2])\n",
    "A2 = A.copy(); A2 = np.delete(A2, 3, axis=0)  #删除第四行\n",
    "print(A2)"
   ]
  }
 ],
 "metadata": {
  "kernelspec": {
   "display_name": "Python 3",
   "language": "python",
   "name": "python3"
  },
  "language_info": {
   "codemirror_mode": {
    "name": "ipython",
    "version": 3
   },
   "file_extension": ".py",
   "mimetype": "text/x-python",
   "name": "python",
   "nbconvert_exporter": "python",
   "pygments_lexer": "ipython3",
   "version": "3.11.9"
  }
 },
 "nbformat": 4,
 "nbformat_minor": 5
}
