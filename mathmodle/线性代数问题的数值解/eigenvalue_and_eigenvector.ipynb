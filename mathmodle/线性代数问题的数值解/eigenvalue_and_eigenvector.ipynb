{
 "cells": [
  {
   "cell_type": "markdown",
   "id": "36a5baec",
   "metadata": {},
   "source": [
    "# 特征值与特征向量"
   ]
  },
  {
   "cell_type": "code",
   "execution_count": 2,
   "id": "fd90a9c1",
   "metadata": {},
   "outputs": [
    {
     "name": "stdout",
     "output_type": "stream",
     "text": [
      "A的特征值为: [ 1. -8.  1.]\n",
      "A的特征向量为: [[ 0.94280904 -0.33333333 -0.2981424 ]\n",
      " [-0.23570226 -0.66666667  0.74535599]\n",
      " [ 0.23570226  0.66666667  0.59628479]]\n"
     ]
    }
   ],
   "source": [
    "import numpy as np\n",
    "from numpy.linalg import eig\n",
    "\n",
    "A = np.array([[0,-2,2],[-2,-3,4],[2,4,-3]])\n",
    "values, vectors = eig(A)\n",
    "print('A的特征值为:', values)\n",
    "print('A的特征向量为:', vectors)"
   ]
  },
  {
   "cell_type": "markdown",
   "id": "f7eb2de9",
   "metadata": {},
   "source": [
    "验证P^-1AP = ^(对角矩阵即特征值构成的对角矩阵)"
   ]
  },
  {
   "cell_type": "code",
   "execution_count": 5,
   "id": "db884d30",
   "metadata": {},
   "outputs": [
    {
     "name": "stdout",
     "output_type": "stream",
     "text": [
      "[[ 1.00000000e+00 -2.98175964e-16 -1.24479536e-16]\n",
      " [-1.69319250e-17 -8.00000000e+00 -1.82035372e-16]\n",
      " [-3.11430858e-18  5.36264070e-16  1.00000000e+00]]\n"
     ]
    }
   ],
   "source": [
    "import numpy as np\n",
    "from numpy.linalg import eig, inv\n",
    "\n",
    "A = np.array([[0,-2,2],[-2,-3,4],[2,4,-3]])\n",
    "values, vectors = eig(A)\n",
    "check = np.dot(inv(vectors), A).dot(vectors)\n",
    "print(check)"
   ]
  }
 ],
 "metadata": {
  "kernelspec": {
   "display_name": "Python 3",
   "language": "python",
   "name": "python3"
  },
  "language_info": {
   "codemirror_mode": {
    "name": "ipython",
    "version": 3
   },
   "file_extension": ".py",
   "mimetype": "text/x-python",
   "name": "python",
   "nbconvert_exporter": "python",
   "pygments_lexer": "ipython3",
   "version": "3.11.9"
  }
 },
 "nbformat": 4,
 "nbformat_minor": 5
}
