{
 "cells": [
  {
   "cell_type": "markdown",
   "id": "0db31f2d",
   "metadata": {},
   "source": [
    "# 非齐次线性方程组的数值解\n",
    "#### 定理  n元线性方程组Ax=b\n",
    "    1. 无解的充分必要条件是 R(A)<R(A,b);\n",
    "    2. 有唯一解的充分必要条件是 R(A)=R(A,b)=n;\n",
    "    3. 有无穷多解的充分必要条件是 R(A)=R(A,b)<n.\n",
    "    无论数学上Ax=b是否存在解，或者是否存在多解，Python的求解命令 x=pinv(A).dot(b) 总是给出唯一解，给出解的情况如下：\n",
    "        1. 当方程组有无穷多解时，Python给出的是最小范数解。\n",
    "        2. 当方程组无解时，Python给出的是最小二乘解x*, 所谓的最小二乘解x*是满足||Ax*-b||^2 最小的解，即方程两边误差平方和最小的解。"
   ]
  },
  {
   "cell_type": "markdown",
   "id": "f5c368e1",
   "metadata": {},
   "source": [
    "1. 唯一解情形"
   ]
  },
  {
   "cell_type": "code",
   "execution_count": 6,
   "id": "757d14de",
   "metadata": {},
   "outputs": [
    {
     "name": "stdout",
     "output_type": "stream",
     "text": [
      "系数矩阵A的秩为: 4\n",
      "有唯一解\n",
      "使用逆矩阵求解的唯一解为: [[ 4.        ]\n",
      " [-1.55555556]\n",
      " [-0.22222222]\n",
      " [ 0.44444444]]\n",
      "使用伪逆求解的唯一解为: [[ 4.        ]\n",
      " [-1.55555556]\n",
      " [-0.22222222]\n",
      " [ 0.44444444]]\n",
      "利用solve求解的唯一解: [[ 4.        ]\n",
      " [-1.55555556]\n",
      " [-0.22222222]\n",
      " [ 0.44444444]]\n"
     ]
    }
   ],
   "source": [
    "import numpy as np\n",
    "import numpy.linalg as la\n",
    "\n",
    "A = np.array([[2,1,-5,1],[1,-3,0,-6],[0,2,-1,2],[1,4,-7,6]])\n",
    "b = np.array([[8,6,-2,2]]).reshape(4,1)\n",
    "print('系数矩阵A的秩为:', la.matrix_rank(A))\n",
    "if la.matrix_rank(A)==4:\n",
    "    print('有唯一解')\n",
    "print('使用逆矩阵求解的唯一解为:', la.inv(A).dot(b))\n",
    "print('使用伪逆求解的唯一解为:', la.pinv(A).dot(b))\n",
    "print('利用solve求解的唯一解:', la.solve(A,b))"
   ]
  },
  {
   "cell_type": "markdown",
   "id": "ac93b13b",
   "metadata": {},
   "source": [
    "2. 多解情形\n",
    "\n",
    "当非齐次线性方程组有无穷多解时，求最小范数"
   ]
  },
  {
   "cell_type": "code",
   "execution_count": 11,
   "id": "6ee49bae",
   "metadata": {},
   "outputs": [
    {
     "name": "stdout",
     "output_type": "stream",
     "text": [
      "系数矩阵的秩: 2\n",
      "增广矩阵的秩为: 2\n",
      "最小范数解为: [[ 0.35040431]\n",
      " [-0.0916442 ]\n",
      " [-0.38814016]\n",
      " [ 0.42318059]]\n"
     ]
    }
   ],
   "source": [
    "from numpy import array\n",
    "from numpy.linalg import pinv, matrix_rank\n",
    "\n",
    "A = array([[1,1,-3,-1],[3,-1,-3,4],[1,5,-9,-8]])\n",
    "b = array([1,4,0]).reshape(3,1)\n",
    "print('系数矩阵的秩:', matrix_rank(A))\n",
    "Ab = np.c_[A,b]\n",
    "# print(Ab)\n",
    "print('增广矩阵的秩为:', matrix_rank(Ab))\n",
    "if matrix_rank(A) == matrix_rank(Ab):\n",
    "    if matrix_rank(Ab) < 4:\n",
    "        x = pinv(A).dot(b)  #求最小范数解\n",
    "        print('最小范数解为:', x)\n",
    "    else:\n",
    "        print('非线性方程组有唯一解')\n",
    "else:\n",
    "    print('无解')"
   ]
  },
  {
   "cell_type": "markdown",
   "id": "5b29c2eb",
   "metadata": {},
   "source": [
    "3. 无解情形\n",
    "\n",
    "当非齐次线性方程组无解时，求最小二乘解"
   ]
  },
  {
   "cell_type": "code",
   "execution_count": 13,
   "id": "c25cc933",
   "metadata": {},
   "outputs": [
    {
     "name": "stdout",
     "output_type": "stream",
     "text": [
      "最小二乘解为: [[0.8]\n",
      " [0.6]]\n"
     ]
    }
   ],
   "source": [
    "from numpy import array\n",
    "from numpy.linalg import pinv\n",
    "\n",
    "A = array([[1,1],[2,2],[1,2]])\n",
    "b = array([1,3,2]).reshape(3,1)\n",
    "x = pinv(A).dot(b)  #求最小二乘解\n",
    "print('最小二乘解为:', x)"
   ]
  }
 ],
 "metadata": {
  "kernelspec": {
   "display_name": "Python 3",
   "language": "python",
   "name": "python3"
  },
  "language_info": {
   "codemirror_mode": {
    "name": "ipython",
    "version": 3
   },
   "file_extension": ".py",
   "mimetype": "text/x-python",
   "name": "python",
   "nbconvert_exporter": "python",
   "pygments_lexer": "ipython3",
   "version": "3.11.9"
  }
 },
 "nbformat": 4,
 "nbformat_minor": 5
}
