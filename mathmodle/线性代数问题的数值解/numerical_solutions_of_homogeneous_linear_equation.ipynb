{
 "cells": [
  {
   "cell_type": "markdown",
   "id": "07a26b39",
   "metadata": {},
   "source": [
    "# 齐次线性方程组的数值解\n",
    "    使用scipy.linalg模块的null_space函数，可以求解齐次线性方程组的基础解系"
   ]
  },
  {
   "cell_type": "code",
   "execution_count": 1,
   "id": "d2110c3a",
   "metadata": {},
   "outputs": [
    {
     "name": "stdout",
     "output_type": "stream",
     "text": [
      "A的零空间(即基础解系为): [[ 0.35455452  0.71506457]\n",
      " [-0.41182294  0.03091606]\n",
      " [ 0.05010987 -0.65273305]\n",
      " [ 0.83796298 -0.24832727]]\n"
     ]
    }
   ],
   "source": [
    "import numpy as np\n",
    "from scipy.linalg import null_space\n",
    "\n",
    "A = np.array([[1,-5,2,-3],[5,3,6,-1],[2,4,2,1]])\n",
    "print('A的零空间(即基础解系为):', null_space(A))"
   ]
  }
 ],
 "metadata": {
  "kernelspec": {
   "display_name": "Python 3",
   "language": "python",
   "name": "python3"
  },
  "language_info": {
   "codemirror_mode": {
    "name": "ipython",
    "version": 3
   },
   "file_extension": ".py",
   "mimetype": "text/x-python",
   "name": "python",
   "nbconvert_exporter": "python",
   "pygments_lexer": "ipython3",
   "version": "3.11.9"
  }
 },
 "nbformat": 4,
 "nbformat_minor": 5
}
