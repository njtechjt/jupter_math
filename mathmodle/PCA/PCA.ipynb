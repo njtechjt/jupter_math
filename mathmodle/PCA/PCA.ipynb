{
 "cells": [
  {
   "cell_type": "markdown",
   "id": "9a57aaa3",
   "metadata": {},
   "source": [
    "主成分分析"
   ]
  },
  {
   "cell_type": "code",
   "execution_count": 9,
   "id": "6c4424fb",
   "metadata": {},
   "outputs": [
    {
     "name": "stdout",
     "output_type": "stream",
     "text": [
      "[[ 106.05  495.15  305.1    45.9    56.1 ]\n",
      " [ 113.55  561.45  343.8    68.55   93.3 ]\n",
      " [ 104.55  584.85  414.     73.2   104.55]\n",
      " [ 132.75  658.35  453.75   82.95  107.55]\n",
      " [ 174.3   904.05  625.05  114.    152.1 ]\n",
      " [ 230.4  1248.75  834.45  143.85  176.4 ]\n",
      " [ 238.2  1361.55  720.75  165.15  194.25]\n",
      " [ 260.1  1337.4   727.65  201.9   291.75]\n",
      " [ 270.6  1195.8   775.5   220.5   271.35]\n",
      " [ 286.2  1171.8   610.95  195.    284.55]\n",
      " [ 282.9  1151.55  599.85  190.65  277.35]\n",
      " [ 317.85 1105.8   553.8   211.05  290.1 ]\n",
      " [ 319.65 1213.05  513.75  231.6   324.15]\n",
      " [ 368.4  1274.1   567.45  239.85  331.8 ]\n",
      " [ 466.2  1527.9   487.35  408.    336.15]\n",
      " [ 449.85 1703.25  555.15  402.3   358.8 ]\n",
      " [ 537.   1888.5   637.2   480.75  428.4 ]\n",
      " [ 565.5  2009.85  715.65  562.05  456.9 ]]\n"
     ]
    }
   ],
   "source": [
    "import numpy as np\n",
    "import pandas as pd\n",
    "#在python中导入scipy库中的linalg模块\n",
    "#scipy是一个科学记算库\n",
    "#linalg是线性代数的缩写，他涉及线性方程、线性函数以及他们通过矩阵和向量向量空间的表示\n",
    "from scipy import linalg\n",
    "\n",
    "#读取Excel文件的B:G行，去除第一行（标题）\n",
    "df = pd.read_excel(io='data.xlsx', usecols='C:G')   #usecols:读取列数\n",
    "# print(df)  #以Dataframe格式输出\n",
    "#df.to_numpy是pandas中Dataframe对象的一个方法，用于将Dataframe的数据转换为Numpy数组\n",
    "x = df.to_numpy()\n",
    "print(x)"
   ]
  },
  {
   "cell_type": "code",
   "execution_count": 11,
   "id": "a64857b9",
   "metadata": {},
   "outputs": [
    {
     "name": "stdout",
     "output_type": "stream",
     "text": [
      "特征值为： [4.09453559 0.79266524 0.08165257 0.02069963 0.01044696]\n"
     ]
    }
   ],
   "source": [
    "#标准化数据\n",
    "X = (x-np.mean(x,axis=0)) / np.std(x,ddof=1,axis=0)  #ddof=1 表示标准差计算时的自由度调整参数，即无偏估计。\n",
    "#np.std(x, ddof=1) 计算的是样本标准差，分母为 n-1（n为样本数），用于统计推断时更准确地估计总体标准差。如果 ddof=0（默认），分母为 n，计算的是总体标准差。\n",
    "#记算协方差数组\n",
    "R = np.cov(X.T)  #np.cov 的默认行为是：每一行 代表一个变量（特征）每一列 代表一个观测值（样本）\n",
    "#记算特征值与特征向量\n",
    "eigvals, eigvectors = linalg.eigh(R)  #使用该函数特征值会按照从小到大顺序排列\n",
    "eigvals = np.sort(eigvals)[::-1]   #进行降序排列或者直接eigvals[::-1]\n",
    "print('特征值为：',eigvals)"
   ]
  },
  {
   "cell_type": "code",
   "execution_count": 19,
   "id": "6630ce48",
   "metadata": {},
   "outputs": [
    {
     "name": "stdout",
     "output_type": "stream",
     "text": [
      "贡献率为： [0.81890712 0.15853305 0.01633051 0.00413993 0.00208939]\n",
      "累计贡献率为： [0.81890712 0.97744017 0.99377068 0.99791061 1.        ]\n",
      "与特征值对应的特征向量矩阵为：\n",
      "[[ 0.48104689  0.23837363 -0.01782683 -0.0038534   0.84346859]\n",
      " [ 0.48753322 -0.07920883 -0.33594594 -0.7565078  -0.26622096]\n",
      " [ 0.28138862 -0.92242424 -0.00452323  0.24430868  0.10122639]\n",
      " [ 0.47315152  0.26834026 -0.46128305  0.60577733 -0.35266544]\n",
      " [ 0.47733984  0.11845256  0.82098722  0.03206562 -0.28821424]]\n"
     ]
    }
   ],
   "source": [
    "#记算贡献率和累计贡献率\n",
    "contribution_rate = eigvals / sum(eigvals)\n",
    "cum_con_rate = np.cumsum(contribution_rate)\n",
    "print('贡献率为：',contribution_rate)\n",
    "print('累计贡献率为：', cum_con_rate)\n",
    "print('与特征值对应的特征向量矩阵为：')\n",
    "print(np.rot90(eigvectors).T)"
   ]
  }
 ],
 "metadata": {
  "kernelspec": {
   "display_name": "Python 3",
   "language": "python",
   "name": "python3"
  },
  "language_info": {
   "codemirror_mode": {
    "name": "ipython",
    "version": 3
   },
   "file_extension": ".py",
   "mimetype": "text/x-python",
   "name": "python",
   "nbconvert_exporter": "python",
   "pygments_lexer": "ipython3",
   "version": "3.11.9"
  }
 },
 "nbformat": 4,
 "nbformat_minor": 5
}
