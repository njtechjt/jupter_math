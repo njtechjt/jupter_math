{
 "cells": [
  {
   "cell_type": "markdown",
   "id": "54bf4511",
   "metadata": {},
   "source": [
    "# 评价指标的预处理方法\n",
    "\n",
    "一般情况下，在综合评价指标中，各指标可能属于不同类型、不同单位或不同数量级，从而使得各指标之间存在着不可公度性。为消除由于各项指标简的这些差别带来的影响，避免出现不合理的评价结果，就需要对评价指标进行一定的预处理，包括对指标的<span style=\"color: orange\">一致化处理和无量纲化处理</span>。\n",
    "\n",
    "## <span style=\"color: red\">1.指标的一致化处理</span>\n",
    "\n",
    "即将评价指标的类型进行统一，在评价指标体系中，可能会同时存在<span style=\"color: orange\">极大型指标、极小型指标、居中型指标和区间型指标</span>，他们都具有不同的特点。若指标体系中存在不同类型的指标，必须在综合评价之前将评价指标的类型做一致化处理\n",
    "\n",
    "#### <span style=\"color: orange\">1.极小型指标化为极大型指标</span>\n",
    "\n",
    "只需对指标$x_j$取倒数：\n",
    "\n",
    "$x'_j = \\frac{1}{x_j}$\n",
    "\n",
    "或做平移变换：\n",
    "\n",
    "$x'_j = M_j-x_j$\n",
    "\n",
    "其中$M_j = max_{1 \\leq i \\leq n}\\{a_{ij}\\}$，即$n$个评价对象第$j$项指标值$a_{ij}$最大值"
   ]
  },
  {
   "cell_type": "code",
   "execution_count": 1,
   "id": "00ad5607",
   "metadata": {},
   "outputs": [
    {
     "name": "stdout",
     "output_type": "stream",
     "text": [
      "取倒数法转换结果:\n",
      "0    1.000000\n",
      "1    0.500000\n",
      "2    0.333333\n",
      "3    0.250000\n",
      "4    0.200000\n",
      "dtype: float64\n"
     ]
    }
   ],
   "source": [
    "def min_to_max_reciprocal(min_series):\n",
    "    \"\"\"取倒数法：适用于严格正数的极小型指标\"\"\"\n",
    "    return 1 / min_series\n",
    "\n",
    "# 示例\n",
    "import pandas as pd\n",
    "data = pd.Series([1, 2, 3, 4, 5])  # 原始极小型指标\n",
    "transformed = min_to_max_reciprocal(data)\n",
    "print(\"取倒数法转换结果:\")\n",
    "print(transformed)"
   ]
  },
  {
   "cell_type": "markdown",
   "id": "c1a25cfb",
   "metadata": {},
   "source": [
    "综合示例"
   ]
  },
  {
   "cell_type": "code",
   "execution_count": 2,
   "id": "8c7fdd36",
   "metadata": {},
   "outputs": [
    {
     "name": "stdout",
     "output_type": "stream",
     "text": [
      "原始数据:\n",
      "    成本  质量  交货时间\n",
      "0  100   8     5\n",
      "1  120   7     7\n",
      "2   80   9     4\n",
      "3   90   8     6\n",
      "4  110   7     8\n",
      "\n",
      "转换后数据:\n",
      "   成本  质量  交货时间\n",
      "0  20   8     3\n",
      "1   0   7     1\n",
      "2  40   9     4\n",
      "3  30   8     2\n",
      "4  10   7     0\n"
     ]
    }
   ],
   "source": [
    "import pandas as pd\n",
    "\n",
    "def transform_min_to_max(df, columns, method='reciprocal'):\n",
    "    \"\"\"\n",
    "    将DataFrame中的极小型列转化为极大型列\n",
    "    \n",
    "    参数:\n",
    "    df: 原始DataFrame\n",
    "    columns: 需要转换的列名列表\n",
    "    method: 转换方法 ('reciprocal', 'negative', 'subtract', 'normalization')\n",
    "    \n",
    "    返回:\n",
    "    转换后的DataFrame\n",
    "    \"\"\"\n",
    "    df_transformed = df.copy()\n",
    "    \n",
    "    for col in columns:\n",
    "        if method == 'reciprocal':  #取倒数法\n",
    "            df_transformed[col] = 1 / df[col]\n",
    "        elif method == 'negative':  #取负数法\n",
    "            df_transformed[col] = -df[col]\n",
    "        elif method == 'subtract':  #差值法（减去最大值）\n",
    "            max_val = df[col].max()\n",
    "            df_transformed[col] = max_val - df[col]\n",
    "        elif method == 'normalization':  #标准化转换（Min-Max归一化变体）\n",
    "            max_val = df[col].max()\n",
    "            min_val = df[col].min()\n",
    "            df_transformed[col] = (max_val - df[col]) / (max_val - min_val)\n",
    "    \n",
    "    return df_transformed\n",
    "\n",
    "# 示例DataFrame\n",
    "data = {\n",
    "    '成本': [100, 120, 80, 90, 110],  # 极小型指标\n",
    "    '质量': [8, 7, 9, 8, 7],          # 极大型指标\n",
    "    '交货时间': [5, 7, 4, 6, 8]        # 极小型指标\n",
    "}\n",
    "df = pd.DataFrame(data)\n",
    "\n",
    "print(\"原始数据:\")\n",
    "print(df)\n",
    "\n",
    "# 转换极小型指标（成本和交货时间）\n",
    "df_transformed = transform_min_to_max(df, ['成本', '交货时间'], method='subtract')\n",
    "\n",
    "print(\"\\n转换后数据:\")\n",
    "print(df_transformed)"
   ]
  },
  {
   "cell_type": "markdown",
   "id": "6bce2ca3",
   "metadata": {},
   "source": [
    "#### <span style=\"color: orange\">2.居中型指标化为极大型指标</span>\n",
    "\n",
    "常用的转化方法是计算指标值与中间值的绝对差值的相反数：\n",
    "\n",
    "极大型指标 = -|原始指标 - 中间值|"
   ]
  },
  {
   "cell_type": "code",
   "execution_count": 5,
   "id": "4106534c",
   "metadata": {},
   "outputs": [
    {
     "name": "stdout",
     "output_type": "stream",
     "text": [
      "居中型指标转化为极大型指标示例:\n",
      "   原始数据  转化后数据\n",
      "0     4     -3\n",
      "1     5     -2\n",
      "2     6     -1\n",
      "3     7      0\n",
      "4     8     -1\n",
      "5     9     -2\n",
      "6    10     -3\n",
      "\n",
      "解释: 越接近中间值7的数据,转化后的值越大\n"
     ]
    }
   ],
   "source": [
    "import numpy as np\n",
    "import pandas as pd\n",
    "\n",
    "def central_to_maximal(data, central_value):\n",
    "    \"\"\"\n",
    "    将居中型指标转化为极大型指标\n",
    "    \n",
    "    参数:\n",
    "    data: 原始数据,可以是数值、列表、numpy数组或pandas Series\n",
    "    central_value: 中间最佳值\n",
    "    \n",
    "    返回:\n",
    "    转化后的极大型指标\n",
    "    \"\"\"\n",
    "    return -np.abs(np.array(data) - central_value)\n",
    "\n",
    "# 示例数据\n",
    "original_data = [4, 5, 6, 7, 8, 9, 10]  # 假设最佳中间值是7\n",
    "central_value = 7\n",
    "\n",
    "# 转化\n",
    "maximal_data = central_to_maximal(original_data, central_value)\n",
    "\n",
    "# 创建DataFrame展示结果\n",
    "df = pd.DataFrame({\n",
    "    '原始数据': original_data,\n",
    "    '转化后数据': maximal_data\n",
    "})\n",
    "\n",
    "print(\"居中型指标转化为极大型指标示例:\")\n",
    "print(df)\n",
    "print(\"\\n解释: 越接近中间值7的数据,转化后的值越大\")"
   ]
  },
  {
   "cell_type": "markdown",
   "id": "6a2996bd",
   "metadata": {},
   "source": [
    "#### <span style=\"color: orange\">3.区间型指标化为极大型指标</span>\n",
    "\n",
    "常用的转化方法是使用距离函数，将指标值到最佳区间的距离转化为极大型指标：\n",
    "\n",
    "设最佳区间为[a, b]\n",
    "\n",
    "转化公式：\n",
    "\n",
    "当$x < a$时：$f(x) = 1 - \\frac{a - x}{M}$\n",
    "\n",
    "当$a ≤ x ≤ b$时：$f(x) = 1$\n",
    "\n",
    "当$x > b$时：$f(x) = 1 - \\frac{x - b}{M}$\n",
    "\n",
    "其中M为最大允许偏离值，通常取M = max(a - min(x), max(x) - b)"
   ]
  },
  {
   "cell_type": "code",
   "execution_count": 6,
   "id": "e7c45df5",
   "metadata": {},
   "outputs": [
    {
     "name": "stdout",
     "output_type": "stream",
     "text": [
      "原始数据: [ 2  3  4  5  6  7  8  9 10]\n",
      "转换后数据: [0 0 1 1 1 1 0 0 0]\n"
     ]
    }
   ],
   "source": [
    "import numpy as np\n",
    "\n",
    "def interval_to_maximal(data, optimal_range, M=None):\n",
    "    \"\"\"\n",
    "    将区间型指标转化为极大型指标\n",
    "    \n",
    "    参数:\n",
    "    data: 原始数据数组\n",
    "    optimal_range: 最佳区间，格式为(a, b)\n",
    "    M: 最大允许偏离值,如果为None则自动计算\n",
    "    \n",
    "    返回:\n",
    "    转化后的极大型指标数组\n",
    "    \"\"\"\n",
    "    a, b = optimal_range\n",
    "    data = np.asarray(data)  #将输入的数据转换为 NumPy 数组\n",
    "    \n",
    "    if M is None:\n",
    "        M = max(a - np.min(data), np.max(data) - b)\n",
    "    \n",
    "    transformed = np.zeros_like(data)\n",
    "    \n",
    "    # 当x < a时\n",
    "    mask = data < a\n",
    "    transformed[mask] = 1 - (a - data[mask]) / M\n",
    "    \n",
    "    # 当a ≤ x ≤ b时\n",
    "    mask = (data >= a) & (data <= b)\n",
    "    transformed[mask] = 1\n",
    "    \n",
    "    # 当x > b时\n",
    "    mask = data > b\n",
    "    transformed[mask] = 1 - (data[mask] - b) / M\n",
    "    \n",
    "    return transformed\n",
    "\n",
    "# 示例数据\n",
    "data = np.array([2, 3, 4, 5, 6, 7, 8, 9, 10])\n",
    "optimal_range = (4, 7)  # 最佳区间是4-7\n",
    "\n",
    "# 转换\n",
    "transformed_data = interval_to_maximal(data, optimal_range)\n",
    "\n",
    "print(\"原始数据:\", data)\n",
    "print(\"转换后数据:\", transformed_data)"
   ]
  },
  {
   "cell_type": "markdown",
   "id": "0b24fa67",
   "metadata": {},
   "source": [
    "## <span style=\"color: red\">2.指标的无量纲化处理</span>\n",
    "\n",
    "也被称为指标的规范化，是通过数学变换来消除原始指标的单位及其数值数量级影响的过程，因此，就有指标的实际值和评价值之分。一般地，将指标无量纲化处理以后的值称为指标评价值。"
   ]
  },
  {
   "cell_type": "markdown",
   "id": "547c4520",
   "metadata": {},
   "source": [
    "#### <span style=\"color: orange\">1.Min-Max标准化（Min-Max Normalization）</span>是最常用的数据无量纲化方法之一，也称为离差标准化。它将原始数据线性变换到指定的范围内（通常是[0, 1]区间）。"
   ]
  },
  {
   "cell_type": "code",
   "execution_count": 10,
   "id": "501c6397",
   "metadata": {},
   "outputs": [
    {
     "name": "stdout",
     "output_type": "stream",
     "text": [
      "Min-Max标准化结果:\n",
      "[[0.5  0.5 ]\n",
      " [0.   0.  ]\n",
      " [1.   1.  ]\n",
      " [0.25 0.75]]\n"
     ]
    }
   ],
   "source": [
    "import numpy as np\n",
    "from sklearn.preprocessing import MinMaxScaler\n",
    "\n",
    "# 原始数据\n",
    "data = np.array([[100, 0.5], \n",
    "                 [80, 0.4], \n",
    "                 [120, 0.6], \n",
    "                 [90, 0.55]])\n",
    "\n",
    "# Min-Max标准化\n",
    "scaler = MinMaxScaler()\n",
    "normalized_data = scaler.fit_transform(data)  #按列处理（特征方向）\n",
    "\n",
    "print(\"Min-Max标准化结果:\")\n",
    "print(normalized_data)"
   ]
  },
  {
   "cell_type": "markdown",
   "id": "6d2c4bd9",
   "metadata": {},
   "source": [
    "手动实现\n",
    "\n",
    "X' = (X - X_min) / (X_max - X_min)"
   ]
  },
  {
   "cell_type": "code",
   "execution_count": 9,
   "id": "fe773a43",
   "metadata": {},
   "outputs": [
    {
     "name": "stdout",
     "output_type": "stream",
     "text": [
      "\n",
      "手动实现结果:\n",
      "[[0.5  0.5 ]\n",
      " [0.   0.  ]\n",
      " [1.   1.  ]\n",
      " [0.25 0.75]]\n"
     ]
    }
   ],
   "source": [
    "import numpy as np\n",
    "\n",
    "# 原始数据\n",
    "data = np.array([[100, 0.5], \n",
    "                 [80, 0.4], \n",
    "                 [120, 0.6], \n",
    "                 [90, 0.55]])\n",
    "\n",
    "def min_max_normalize(data, feature_range=(0, 1)):\n",
    "    \"\"\"\n",
    "    手动实现Min-Max标准化\n",
    "    :param data: 二维数组或矩阵\n",
    "    :param feature_range: 标准化后的范围，默认为(0,1)\n",
    "    :return: 标准化后的数据\n",
    "    \"\"\"\n",
    "    data = np.array(data)\n",
    "    min_vals = np.min(data, axis=0)\n",
    "    max_vals = np.max(data, axis=0)\n",
    "    range_diff = max_vals - min_vals\n",
    "    \n",
    "    # 处理常数列（避免除以0）\n",
    "    range_diff[range_diff == 0] = 1\n",
    "    \n",
    "    # 标准化到[0,1]\n",
    "    normalized = (data - min_vals) / range_diff\n",
    "    \n",
    "    # 如果指定了其他范围\n",
    "    if feature_range != (0, 1):\n",
    "        new_min, new_max = feature_range\n",
    "        normalized = normalized * (new_max - new_min) + new_min\n",
    "    \n",
    "    return normalized\n",
    "\n",
    "# 使用自定义函数\n",
    "manual_normalized = min_max_normalize(data)\n",
    "print(\"\\n手动实现结果:\")\n",
    "print(manual_normalized)"
   ]
  },
  {
   "cell_type": "markdown",
   "id": "7d31439a",
   "metadata": {},
   "source": [
    "方法3：使用Pandas实现"
   ]
  },
  {
   "cell_type": "code",
   "execution_count": 18,
   "id": "2d5db851",
   "metadata": {},
   "outputs": [
    {
     "name": "stdout",
     "output_type": "stream",
     "text": [
      "\n",
      "Pandas实现结果:\n",
      "    销售额   利润率\n",
      "0  0.50  0.50\n",
      "1  0.00  0.00\n",
      "2  1.00  1.00\n",
      "3  0.25  0.75\n"
     ]
    }
   ],
   "source": [
    "import pandas as pd\n",
    "\n",
    "# 原始数据\n",
    "data = np.array([[100, 0.5], \n",
    "                 [80, 0.4], \n",
    "                 [120, 0.6], \n",
    "                 [90, 0.55]])\n",
    "\n",
    "df = pd.DataFrame(data, columns=['销售额', '利润率'])\n",
    "\n",
    "# 对每列进行Min-Max标准化\n",
    "df_normalized = df.apply(lambda x: (x - x.min()) / (x.max() - x.min()))\n",
    "\n",
    "print(\"\\nPandas实现结果:\")\n",
    "print(df_normalized)"
   ]
  },
  {
   "cell_type": "markdown",
   "id": "de018277",
   "metadata": {},
   "source": [
    "#### <span style=\"color: orange\">2.Z-score标准化（又称标准差标准化）</span>是另一种常用的数据无量纲化方法，它将数据转换为均值为0、标准差为1的分布。\n",
    "\n",
    "X' = (X - μ) / σ\n",
    "\n",
    "其中：\n",
    "\n",
    "X' 是标准化后的值\n",
    "\n",
    "X 是原始值\n",
    "\n",
    "μ 是该特征的均值\n",
    "\n",
    "σ 是该特征的标准差\n",
    "\n",
    "##### 方法1：使用scikit-learn的StandardScaler"
   ]
  },
  {
   "cell_type": "code",
   "execution_count": 11,
   "id": "4e1c3b57",
   "metadata": {},
   "outputs": [
    {
     "name": "stdout",
     "output_type": "stream",
     "text": [
      "标准化后的数据:\n",
      "[[ 0.16903085 -0.16903085]\n",
      " [-1.18321596 -1.52127766]\n",
      " [ 1.52127766  1.18321596]\n",
      " [-0.50709255  0.50709255]]\n",
      "\n",
      "各特征的均值: [97.5     0.5125]\n",
      "各特征的标准差: [14.79019946  0.073951  ]\n"
     ]
    }
   ],
   "source": [
    "from sklearn.preprocessing import StandardScaler\n",
    "import numpy as np\n",
    "\n",
    "# 原始数据\n",
    "data = np.array([[100, 0.5], \n",
    "                 [80, 0.4], \n",
    "                 [120, 0.6], \n",
    "                 [90, 0.55]])\n",
    "\n",
    "# 创建StandardScaler对象\n",
    "scaler = StandardScaler()\n",
    "\n",
    "# 拟合数据并转换\n",
    "standardized_data = scaler.fit_transform(data)\n",
    "\n",
    "print(\"标准化后的数据:\")\n",
    "print(standardized_data)\n",
    "\n",
    "print(\"\\n各特征的均值:\", scaler.mean_)\n",
    "print(\"各特征的标准差:\", scaler.scale_)  # 注意：scale_存储的是标准差"
   ]
  },
  {
   "cell_type": "markdown",
   "id": "ac1b178c",
   "metadata": {},
   "source": [
    "##### 方法2：手动实现"
   ]
  },
  {
   "cell_type": "code",
   "execution_count": 12,
   "id": "0a906562",
   "metadata": {},
   "outputs": [
    {
     "name": "stdout",
     "output_type": "stream",
     "text": [
      "\n",
      "手动实现结果:\n",
      "[[ 0.16903085 -0.16903085]\n",
      " [-1.18321596 -1.52127766]\n",
      " [ 1.52127766  1.18321596]\n",
      " [-0.50709255  0.50709255]]\n"
     ]
    }
   ],
   "source": [
    "import numpy as np\n",
    "\n",
    "# 原始数据\n",
    "data = np.array([[100, 0.5], \n",
    "                 [80, 0.4], \n",
    "                 [120, 0.6], \n",
    "                 [90, 0.55]])\n",
    "\n",
    "def z_score_normalize(data):\n",
    "    \"\"\"\n",
    "    手动实现Z-score标准化\n",
    "    :param data: 二维数组或矩阵\n",
    "    :return: 标准化后的数据\n",
    "    \"\"\"\n",
    "    data = np.array(data)\n",
    "    mean = np.mean(data, axis=0)\n",
    "    std = np.std(data, axis=0)\n",
    "    \n",
    "    # 处理常数列（避免除以0）\n",
    "    std[std == 0] = 1\n",
    "    \n",
    "    normalized = (data - mean) / std\n",
    "    return normalized\n",
    "\n",
    "# 使用自定义函数\n",
    "manual_standardized = z_score_normalize(data)\n",
    "print(\"\\n手动实现结果:\")\n",
    "print(manual_standardized)"
   ]
  },
  {
   "cell_type": "markdown",
   "id": "ba185f1f",
   "metadata": {},
   "source": [
    "方法3：使用Pandas实现"
   ]
  },
  {
   "cell_type": "code",
   "execution_count": 19,
   "id": "0c2fbdae",
   "metadata": {},
   "outputs": [
    {
     "name": "stdout",
     "output_type": "stream",
     "text": [
      "\n",
      "Pandas实现结果:\n",
      "        销售额       利润率\n",
      "0  0.146385 -0.146385\n",
      "1 -1.024695 -1.317465\n",
      "2  1.317465  1.024695\n",
      "3 -0.439155  0.439155\n"
     ]
    }
   ],
   "source": [
    "import pandas as pd\n",
    "\n",
    "# 原始数据\n",
    "data = np.array([[100, 0.5], \n",
    "                 [80, 0.4], \n",
    "                 [120, 0.6], \n",
    "                 [90, 0.55]])\n",
    "\n",
    "df = pd.DataFrame(data, columns=['销售额', '利润率'])\n",
    "\n",
    "# 对每列进行Z-score标准化\n",
    "df_standardized = df.apply(lambda x: (x - x.mean()) / x.std())\n",
    "\n",
    "print(\"\\nPandas实现结果:\")\n",
    "print(df_standardized)"
   ]
  },
  {
   "cell_type": "markdown",
   "id": "805af45c",
   "metadata": {},
   "source": [
    "##### <span style=\"color: orange\">3.小数定标标准化（Decimal Scaling）</span>是一种简单的数据标准化方法，它通过移动数据的小数点位置来实现无量纲化。\n",
    "\n",
    "X' = X / (10^j)\n",
    "\n",
    "其中：\n",
    "\n",
    "X' 是标准化后的值\n",
    "\n",
    "X 是原始值\n",
    "\n",
    "j 是使得所有值的绝对值都小于1的最小整数（即满足 max(|X'|) < 1 的最小j值）"
   ]
  },
  {
   "cell_type": "markdown",
   "id": "d0a40287",
   "metadata": {},
   "source": [
    "方法1：基础实现"
   ]
  },
  {
   "cell_type": "code",
   "execution_count": 13,
   "id": "bce1c40c",
   "metadata": {},
   "outputs": [
    {
     "name": "stdout",
     "output_type": "stream",
     "text": [
      "原始数据:\n",
      "[[5.3e+03 1.5e-01]\n",
      " [4.8e+03 1.2e-01]\n",
      " [6.1e+03 1.8e-01]\n",
      " [4.9e+03 1.4e-01]]\n",
      "\n",
      "小数定标标准化结果:\n",
      "[[0.53 0.15]\n",
      " [0.48 0.12]\n",
      " [0.61 0.18]\n",
      " [0.49 0.14]]\n"
     ]
    }
   ],
   "source": [
    "import numpy as np\n",
    "\n",
    "def decimal_scaling(data):\n",
    "    \"\"\"\n",
    "    小数定标标准化\n",
    "    :param data: 数值型数组或矩阵\n",
    "    :return: 标准化后的数据\n",
    "    \"\"\"\n",
    "    data = np.array(data)\n",
    "    # 计算每列所需的j值\n",
    "    j = np.ceil(np.log10(np.max(np.abs(data), axis=0)))\n",
    "    # 标准化\n",
    "    scaled_data = data / (10 ** j)\n",
    "    return scaled_data\n",
    "\n",
    "# 示例数据\n",
    "data = np.array([[5300, 0.15], \n",
    "                 [4800, 0.12], \n",
    "                 [6100, 0.18], \n",
    "                 [4900, 0.14]])\n",
    "\n",
    "# 应用小数定标标准化\n",
    "scaled_data = decimal_scaling(data)\n",
    "\n",
    "print(\"原始数据:\")\n",
    "print(data)\n",
    "print(\"\\n小数定标标准化结果:\")\n",
    "print(scaled_data)"
   ]
  },
  {
   "cell_type": "markdown",
   "id": "4bfaa203",
   "metadata": {},
   "source": [
    "方法2：Pandas实现"
   ]
  },
  {
   "cell_type": "code",
   "execution_count": 14,
   "id": "3c928bbd",
   "metadata": {},
   "outputs": [
    {
     "name": "stdout",
     "output_type": "stream",
     "text": [
      "\n",
      "Pandas实现结果:\n",
      "    销售额   利润率\n",
      "0  0.53  0.15\n",
      "1  0.48  0.12\n",
      "2  0.61  0.18\n",
      "3  0.49  0.14\n"
     ]
    }
   ],
   "source": [
    "import pandas as pd\n",
    "\n",
    "def decimal_scaling_pandas(df):\n",
    "    \"\"\"\n",
    "    Pandas实现的小数定标标准化\n",
    "    :param df: Pandas DataFrame\n",
    "    :return: 标准化后的DataFrame\n",
    "    \"\"\"\n",
    "    # 计算每列的j值\n",
    "    j = np.ceil(np.log10(df.abs().max()))\n",
    "    # 标准化\n",
    "    return df.div(10**j)\n",
    "\n",
    "# 创建DataFrame\n",
    "df = pd.DataFrame(data, columns=['销售额', '利润率'])\n",
    "\n",
    "# 应用标准化\n",
    "df_scaled = decimal_scaling_pandas(df)\n",
    "\n",
    "print(\"\\nPandas实现结果:\")\n",
    "print(df_scaled)"
   ]
  },
  {
   "cell_type": "markdown",
   "id": "50cf507d",
   "metadata": {},
   "source": [
    "##### <span style=\"color: orange\">4.向量归一化（也称为范数归一化或单位向量归一化）</span>是一种将样本向量转换为单位向量的标准化方法，使向量的范数（长度）变为1。\n",
    "\n",
    "X' = X / ||X||\n",
    "\n",
    "其中：\n",
    "\n",
    "X' 是归一化后的向量\n",
    "\n",
    "X 是原始向量\n",
    "\n",
    "||X|| 是向量的范数（默认为L2范数，即欧几里得距离）\n",
    "\n",
    "L2范数计算公式：\n",
    "\n",
    "$||X||₂ = \\sqrt{x₁² + x₂² + ... + xₙ²}$"
   ]
  },
  {
   "cell_type": "markdown",
   "id": "1e195b16",
   "metadata": {},
   "source": [
    "方法1：使用scikit-learn的Normalizer"
   ]
  },
  {
   "cell_type": "code",
   "execution_count": 15,
   "id": "e56bdabf",
   "metadata": {},
   "outputs": [
    {
     "name": "stdout",
     "output_type": "stream",
     "text": [
      "向量归一化结果:\n",
      "[[0.8 0.2 0.4 0.4]\n",
      " [0.1 0.3 0.9 0.3]\n",
      " [0.5 0.7 0.5 0.1]]\n",
      "\n",
      "归一化后向量的范数: [1. 1. 1.]\n"
     ]
    }
   ],
   "source": [
    "from sklearn.preprocessing import Normalizer\n",
    "import numpy as np\n",
    "\n",
    "# 原始数据（每行是一个向量）\n",
    "data = np.array([[4, 1, 2, 2],\n",
    "                 [1, 3, 9, 3],\n",
    "                 [5, 7, 5, 1]])\n",
    "\n",
    "# 创建Normalizer对象（默认l2范数）\n",
    "normalizer = Normalizer()\n",
    "\n",
    "# 向量归一化\n",
    "normalized_data = normalizer.fit_transform(data)\n",
    "\n",
    "print(\"向量归一化结果:\")\n",
    "print(normalized_data)\n",
    "\n",
    "# 验证范数是否为1\n",
    "norms = np.linalg.norm(normalized_data, axis=1)\n",
    "print(\"\\n归一化后向量的范数:\", norms)"
   ]
  },
  {
   "cell_type": "markdown",
   "id": "9f285280",
   "metadata": {},
   "source": [
    "方法2：手动计算L2范数归一化"
   ]
  },
  {
   "cell_type": "code",
   "execution_count": 16,
   "id": "00fac9c2",
   "metadata": {},
   "outputs": [
    {
     "name": "stdout",
     "output_type": "stream",
     "text": [
      "\n",
      "手动实现结果:\n",
      "[[0.8 0.2 0.4 0.4]\n",
      " [0.1 0.3 0.9 0.3]\n",
      " [0.5 0.7 0.5 0.1]]\n"
     ]
    }
   ],
   "source": [
    "import numpy as np\n",
    "\n",
    "# 原始数据（每行是一个向量）\n",
    "data = np.array([[4, 1, 2, 2],\n",
    "                 [1, 3, 9, 3],\n",
    "                 [5, 7, 5, 1]])\n",
    "\n",
    "def vector_normalize_l2(data):\n",
    "    \"\"\"\n",
    "    手动实现L2范数归一化\n",
    "    :param data: 二维数组，每行是一个向量\n",
    "    :return: 归一化后的数组\n",
    "    \"\"\"\n",
    "    norms = np.linalg.norm(data, ord=2, axis=1, keepdims=True)\n",
    "    # 处理零范数（避免除以0）\n",
    "    norms[norms == 0] = 1\n",
    "    return data / norms\n",
    "\n",
    "# 手动归一化\n",
    "manual_normalized = vector_normalize_l2(data)\n",
    "\n",
    "print(\"\\n手动实现结果:\")\n",
    "print(manual_normalized)"
   ]
  },
  {
   "cell_type": "markdown",
   "id": "d40a6662",
   "metadata": {},
   "source": [
    "方法3：使用Pandas实现"
   ]
  },
  {
   "cell_type": "code",
   "execution_count": 17,
   "id": "7f519ae4",
   "metadata": {},
   "outputs": [
    {
     "name": "stdout",
     "output_type": "stream",
     "text": [
      "\n",
      "Pandas实现结果:\n",
      "    f1   f2   f3   f4\n",
      "0  0.8  0.2  0.4  0.4\n",
      "1  0.1  0.3  0.9  0.3\n",
      "2  0.5  0.7  0.5  0.1\n"
     ]
    }
   ],
   "source": [
    "import pandas as pd\n",
    "\n",
    "# 原始数据（每行是一个向量）\n",
    "data = np.array([[4, 1, 2, 2],\n",
    "                 [1, 3, 9, 3],\n",
    "                 [5, 7, 5, 1]])\n",
    "\n",
    "# 创建DataFrame\n",
    "df = pd.DataFrame(data, columns=['f1', 'f2', 'f3', 'f4'])\n",
    "\n",
    "# 向量归一化\n",
    "df_normalized = df.div(np.linalg.norm(df.values, axis=1), axis=0)\n",
    "\n",
    "print(\"\\nPandas实现结果:\")\n",
    "print(df_normalized)"
   ]
  },
  {
   "cell_type": "markdown",
   "id": "aed6d45f",
   "metadata": {},
   "source": [
    "##### <span style=\"color: orange\">5.鲁棒标准化（Robust Scaling）</span>是一种对异常值不敏感的数据标准化方法，它使用中位数和四分位距（IQR）进行缩放，而不是均值和标准差。\n",
    "\n",
    "X' = (X - median) / IQR\n",
    "\n",
    "其中：\n",
    "\n",
    "X' 是标准化后的值\n",
    "\n",
    "X 是原始值\n",
    "\n",
    "median 是该特征的中位数\n",
    "\n",
    "IQR 是四分位距（第75百分位数 - 第25百分位数）"
   ]
  },
  {
   "cell_type": "markdown",
   "id": "c39e367a",
   "metadata": {},
   "source": [
    "方法1：使用scikit-learn的RobustScaler"
   ]
  },
  {
   "cell_type": "code",
   "execution_count": 20,
   "id": "cdbd86b8",
   "metadata": {},
   "outputs": [
    {
     "name": "stdout",
     "output_type": "stream",
     "text": [
      "鲁棒标准化结果:\n",
      "[[-1.  -1. ]\n",
      " [-0.5 -0.5]\n",
      " [ 0.   0. ]\n",
      " [ 0.5  0.5]\n",
      " [ 1.   3. ]]\n",
      "\n",
      "中位数: [ 3. 20.]\n",
      "四分位距: [ 2. 10.]\n"
     ]
    }
   ],
   "source": [
    "from sklearn.preprocessing import RobustScaler\n",
    "import numpy as np\n",
    "\n",
    "# 包含异常值的数据\n",
    "data = np.array([[1.0, 10.0],\n",
    "                 [2.0, 15.0],\n",
    "                 [3.0, 20.0],\n",
    "                 [4.0, 25.0],\n",
    "                 [5.0, 50.0]])  # 最后一个值是异常值\n",
    "\n",
    "# 创建RobustScaler对象\n",
    "scaler = RobustScaler()\n",
    "\n",
    "# 拟合数据并转换\n",
    "robust_data = scaler.fit_transform(data)\n",
    "\n",
    "print(\"鲁棒标准化结果:\")\n",
    "print(robust_data)\n",
    "\n",
    "print(\"\\n中位数:\", scaler.center_)\n",
    "print(\"四分位距:\", scaler.scale_)  # scale_存储的是IQR"
   ]
  },
  {
   "cell_type": "markdown",
   "id": "f876e723",
   "metadata": {},
   "source": [
    "方法2：手动实现"
   ]
  },
  {
   "cell_type": "code",
   "execution_count": 21,
   "id": "4789c78c",
   "metadata": {},
   "outputs": [
    {
     "name": "stdout",
     "output_type": "stream",
     "text": [
      "\n",
      "手动实现结果:\n",
      "[[-1.  -1. ]\n",
      " [-0.5 -0.5]\n",
      " [ 0.   0. ]\n",
      " [ 0.5  0.5]\n",
      " [ 1.   3. ]]\n"
     ]
    }
   ],
   "source": [
    "import numpy as np\n",
    "\n",
    "# 包含异常值的数据\n",
    "data = np.array([[1.0, 10.0],\n",
    "                 [2.0, 15.0],\n",
    "                 [3.0, 20.0],\n",
    "                 [4.0, 25.0],\n",
    "                 [5.0, 50.0]])  # 最后一个值是异常值\n",
    "\n",
    "def robust_scaling(data):\n",
    "    \"\"\"\n",
    "    手动实现鲁棒标准化\n",
    "    :param data: 二维数组或矩阵\n",
    "    :return: 标准化后的数据\n",
    "    \"\"\"\n",
    "    data = np.array(data)\n",
    "    median = np.median(data, axis=0)\n",
    "    q75 = np.percentile(data, 75, axis=0)\n",
    "    q25 = np.percentile(data, 25, axis=0)\n",
    "    iqr = q75 - q25\n",
    "    \n",
    "    # 处理IQR为0的情况（避免除以0）\n",
    "    iqr[iqr == 0] = 1\n",
    "    \n",
    "    return (data - median) / iqr\n",
    "\n",
    "# 手动实现\n",
    "manual_robust = robust_scaling(data)\n",
    "\n",
    "print(\"\\n手动实现结果:\")\n",
    "print(manual_robust)"
   ]
  },
  {
   "cell_type": "markdown",
   "id": "d70879ff",
   "metadata": {},
   "source": [
    "方法3：使用Pandas实现"
   ]
  },
  {
   "cell_type": "code",
   "execution_count": 22,
   "id": "164a42a9",
   "metadata": {},
   "outputs": [
    {
     "name": "stdout",
     "output_type": "stream",
     "text": [
      "\n",
      "Pandas实现结果:\n",
      "   特征1  特征2\n",
      "0 -1.0 -1.0\n",
      "1 -0.5 -0.5\n",
      "2  0.0  0.0\n",
      "3  0.5  0.5\n",
      "4  1.0  3.0\n"
     ]
    }
   ],
   "source": [
    "import pandas as pd\n",
    "\n",
    "# 包含异常值的数据\n",
    "data = np.array([[1.0, 10.0],\n",
    "                 [2.0, 15.0],\n",
    "                 [3.0, 20.0],\n",
    "                 [4.0, 25.0],\n",
    "                 [5.0, 50.0]])  # 最后一个值是异常值\n",
    "\n",
    "# 创建DataFrame\n",
    "df = pd.DataFrame(data, columns=['特征1', '特征2'])\n",
    "\n",
    "# 计算中位数和IQR\n",
    "median = df.median()\n",
    "q75 = df.quantile(0.75)\n",
    "q25 = df.quantile(0.25)\n",
    "iqr = q75 - q25\n",
    "\n",
    "# 鲁棒标准化\n",
    "df_robust = (df - median) / iqr\n",
    "\n",
    "print(\"\\nPandas实现结果:\")\n",
    "print(df_robust)"
   ]
  }
 ],
 "metadata": {
  "kernelspec": {
   "display_name": "Python 3",
   "language": "python",
   "name": "python3"
  },
  "language_info": {
   "codemirror_mode": {
    "name": "ipython",
    "version": 3
   },
   "file_extension": ".py",
   "mimetype": "text/x-python",
   "name": "python",
   "nbconvert_exporter": "python",
   "pygments_lexer": "ipython3",
   "version": "3.11.9"
  }
 },
 "nbformat": 4,
 "nbformat_minor": 5
}
