{
 "cells": [
  {
   "cell_type": "markdown",
   "id": "d7a48be1",
   "metadata": {},
   "source": [
    "# 灵敏度分析\n",
    "<span style=\"color: red\">常用工具库</span>\n",
    "1. **PuLP**\n",
    "\n",
    "PuLP是一个流行的线性规划建模库，虽然它本身不直接提供灵敏度分析功能，但可以通过重新求解来实现。\n",
    "\n",
    "在PuLP中，prob.constraints[\"_C1\"].changeRHS(11) 是用于修改<span style=\"color: yellow\">约束右侧值（RHS）</span>的方法，允许你在不重新构建整个模型的情况下进行灵敏度分析。下面我将详细解释这个操作及其相关用法：\n",
    "```python\n",
    "    prob.constraints[\"_C1\"].changeRHS(new_rhs)\n",
    "```\n",
    "#\n",
    "        \"_C1\" 是PuLP自动为约束生成的默认名称（如果没有显式命名约束）。\n",
    "        new_rhs 是新的右侧值（例如 11）。\n",
    "```python\n",
    "    # 创建问题\n",
    "    prob = LpProblem(\"Sensitivity_Analysis_Example\", LpMaximize)\n",
    "    # 定义变量\n",
    "    x = LpVariable(\"x\", lowBound=0)\n",
    "    y = LpVariable(\"y\", lowBound=0)\n",
    "    # 目标函数\n",
    "    prob += 3*x + 2*y, \"Objective\"\n",
    "    # 约束条件（显式命名约束）\n",
    "    prob += 4*x + y <= 10, \"Constraint_1\"  # 命名为\"Constraint_1\"\n",
    "    prob += x + y <= 5, \"Constraint_2\"\n",
    "    # 修改第一个约束的RHS从10→11\n",
    "    prob.constraints[\"Constraint_1\"].changeRHS(11)\n",
    "```"
   ]
  },
  {
   "cell_type": "code",
   "execution_count": null,
   "id": "7e51895c",
   "metadata": {},
   "outputs": [],
   "source": [
    "from pulp import *\n",
    "\n",
    "# 创建问题\n",
    "prob = LpProblem(\"Example\", LpMaximize)\n",
    "\n",
    "# 定义变量\n",
    "x = LpVariable(\"x\", lowBound=0)\n",
    "y = LpVariable(\"y\", lowBound=0)\n",
    "\n",
    "# 目标函数\n",
    "prob += 3*x + 2*y\n",
    "\n",
    "# 约束条件\n",
    "prob += 4*x + y <= 10\n",
    "prob += x + y <= 5\n",
    "\n",
    "# 求解\n",
    "prob.solve()\n",
    "\n",
    "# 输出结果\n",
    "print(\"Status:\", LpStatus[prob.status])\n",
    "print(\"Optimal value:\", value(prob.objective))\n",
    "print(\"x =\", value(x), \"y =\", value(y))\n",
    "\n",
    "# 灵敏度分析 - 手动改变参数重新求解\n",
    "# 例如改变第一个约束的RHS\n",
    "prob.constraints[\"_C1\"].changeRHS(11)\n",
    "prob.solve()\n",
    "print(\"\\nAfter changing RHS of first constraint to 11:\")\n",
    "print(\"New optimal value:\", value(prob.objective))"
   ]
  }
 ],
 "metadata": {
  "kernelspec": {
   "display_name": "Python 3",
   "language": "python",
   "name": "python3"
  },
  "language_info": {
   "name": "python",
   "version": "3.11.9"
  }
 },
 "nbformat": 4,
 "nbformat_minor": 5
}
