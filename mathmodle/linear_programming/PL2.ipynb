{
 "cells": [
  {
   "cell_type": "markdown",
   "id": "915df041",
   "metadata": {},
   "source": [
    "# 线性规划——投资收益\n",
    "\n",
    "<span style=\"color: red\">***多目标函数***</span>\n",
    "\n",
    "### 1.模型一\n",
    "*给定风险的一个界限a，使得最大风险$\\frac{q_ix_i}{M} \\leq a$,这样把多目标规划变成一个目标的线性规划*"
   ]
  },
  {
   "cell_type": "code",
   "execution_count": 22,
   "id": "3dae4352",
   "metadata": {},
   "outputs": [],
   "source": [
    "from scipy.optimize import linprog\n",
    "from matplotlib import pyplot as plt\n",
    "import numpy as np\n",
    "from numpy import ones, diag, c_, zeros  #用于创建和操作数组\n",
    "\n",
    "#设置matplotlib的参数使其支持Latex文本和字体大小\n",
    "plt.rc(group='text',usetex=True)\n",
    "plt.rc(group='font',size=16)"
   ]
  },
  {
   "cell_type": "code",
   "execution_count": 23,
   "id": "d6f8c6ab",
   "metadata": {},
   "outputs": [],
   "source": [
    "#目标函数系数\n",
    "c = [-0.05,-0.27,-0.19,-0.185,-0.185]\n",
    "#不等式约束的系数矩阵\n",
    "A = c_[zeros((4,1)),diag([0.025,0.015,0.055,0.026])]  #c_ 用于按列拼接，要求拼接的数组行数一致。\n",
    "\n",
    "#等式约束的系数矩阵和右侧的值\n",
    "Aeq = [[1,1.01,1.02,1.045,1.065]]\n",
    "beq = [1]"
   ]
  },
  {
   "cell_type": "code",
   "execution_count": 24,
   "id": "3e5ef2e4",
   "metadata": {},
   "outputs": [],
   "source": [
    "#初始化参数a，以及两个用于存储结果的空列表\n",
    "a = 0\n",
    "aa = []\n",
    "ss = []\n",
    "#初始化一个空数组\n",
    "X = np.empty((0,5))\n",
    "#循环\n",
    "while a<0.05:\n",
    "    #创建线性不等式右侧的值b\n",
    "    b = ones((4,1)) * a\n",
    "    #执行线性规划\n",
    "    res = linprog(c, A, b, Aeq, beq,bounds=[(0,None),(0,None),(0,None),(0,None),(0,None)])\n",
    "    #提取解向量x和最优值Q\n",
    "    x = res.x\n",
    "    # print(x)\n",
    "    Q = -res.fun\n",
    "    #将当前的解向量和最优值存入列表\n",
    "    aa.append(a)\n",
    "    ss.append(Q)\n",
    "    #将解向量存储在一个矩阵中\n",
    "    X = np.vstack((X,x))\n",
    "    \n",
    "    a = a+0.001"
   ]
  },
  {
   "cell_type": "code",
   "execution_count": 25,
   "id": "4a48725a",
   "metadata": {},
   "outputs": [
    {
     "data": {
      "image/png": "[encoded data removed]",
      "text/plain": [
       "<Figure size 640x480 with 1 Axes>"
      ]
     },
     "metadata": {},
     "output_type": "display_data"
    },
    {
     "name": "stdout",
     "output_type": "stream",
     "text": [
      "[[ 1.         -0.         -0.         -0.         -0.        ]\n",
      " [ 0.83163846  0.04        0.06666667  0.01818182  0.03846154]\n",
      " [ 0.66327692  0.08        0.13333333  0.03636364  0.07692308]\n",
      " [ 0.49491538  0.12        0.2         0.05454545  0.11538462]\n",
      " [ 0.32655385  0.16        0.26666667  0.07272727  0.15384615]\n",
      " [ 0.15819231  0.2         0.33333333  0.09090909  0.19230769]\n",
      " [ 0.          0.24        0.4         0.10909091  0.22122066]\n",
      " [ 0.          0.28        0.46666667  0.12727273  0.10159624]\n",
      " [ 0.          0.32        0.53333333  0.12708134  0.        ]\n",
      " [ 0.          0.36        0.6         0.02334928  0.        ]\n",
      " [ 0.          0.4         0.58431373  0.          0.        ]\n",
      " [ 0.          0.44        0.54470588  0.          0.        ]\n",
      " [ 0.          0.48        0.50509804  0.          0.        ]\n",
      " [ 0.          0.52        0.4654902   0.          0.        ]\n",
      " [ 0.          0.56        0.42588235  0.          0.        ]\n",
      " [ 0.          0.6         0.38627451  0.          0.        ]\n",
      " [ 0.          0.64        0.34666667  0.          0.        ]\n",
      " [ 0.          0.68        0.30705882  0.          0.        ]\n",
      " [ 0.          0.72        0.26745098  0.          0.        ]\n",
      " [ 0.          0.76        0.22784314  0.          0.        ]\n",
      " [ 0.          0.8         0.18823529  0.          0.        ]\n",
      " [ 0.          0.84        0.14862745  0.          0.        ]\n",
      " [ 0.          0.88        0.10901961  0.          0.        ]\n",
      " [ 0.          0.92        0.06941176  0.          0.        ]\n",
      " [ 0.          0.96        0.02980392  0.          0.        ]\n",
      " [ 0.          0.99009901  0.          0.          0.        ]\n",
      " [ 0.          0.99009901  0.          0.          0.        ]\n",
      " [ 0.          0.99009901  0.          0.          0.        ]\n",
      " [ 0.          0.99009901  0.          0.          0.        ]\n",
      " [ 0.          0.99009901  0.          0.          0.        ]\n",
      " [ 0.          0.99009901  0.          0.          0.        ]\n",
      " [ 0.          0.99009901  0.          0.          0.        ]\n",
      " [ 0.          0.99009901  0.          0.          0.        ]\n",
      " [ 0.          0.99009901  0.          0.          0.        ]\n",
      " [ 0.          0.99009901  0.          0.          0.        ]\n",
      " [ 0.          0.99009901  0.          0.          0.        ]\n",
      " [ 0.          0.99009901  0.          0.          0.        ]\n",
      " [ 0.          0.99009901  0.          0.          0.        ]\n",
      " [ 0.          0.99009901  0.          0.          0.        ]\n",
      " [ 0.          0.99009901  0.          0.          0.        ]\n",
      " [ 0.          0.99009901  0.          0.          0.        ]\n",
      " [ 0.          0.99009901  0.          0.          0.        ]\n",
      " [ 0.          0.99009901  0.          0.          0.        ]\n",
      " [ 0.          0.99009901  0.          0.          0.        ]\n",
      " [ 0.          0.99009901  0.          0.          0.        ]\n",
      " [ 0.          0.99009901  0.          0.          0.        ]\n",
      " [ 0.          0.99009901  0.          0.          0.        ]\n",
      " [ 0.          0.99009901  0.          0.          0.        ]\n",
      " [ 0.          0.99009901  0.          0.          0.        ]\n",
      " [ 0.          0.99009901  0.          0.          0.        ]]\n"
     ]
    }
   ],
   "source": [
    "plt.scatter(aa,ss)\n",
    "plt.xlabel('$a$')\n",
    "plt.ylabel('$Q$')\n",
    "plt.title('PL')\n",
    "plt.show()\n",
    "print(X)"
   ]
  },
  {
   "cell_type": "markdown",
   "id": "ee082a38",
   "metadata": {},
   "source": [
    "### 2.模型二\n",
    "让盈利至少达到水平k以上，在风险最小的情况下寻找相应的投资组合"
   ]
  },
  {
   "cell_type": "markdown",
   "id": "203cb818",
   "metadata": {},
   "source": [
    "```python\n",
    "x = cp.Variable(6, pos=True)  # 创建长度为6的非负变量向量\n",
    "obj = cp.Minimize(x[5])       # 目标函数：最小化x的第6个元素(x[5])\n",
    "```\n",
    "* x = cp.Variable(6, pos=True)\n",
    "\n",
    "    * 创建一个包含6个元素的优化变量向量 x = [x₀, x₁, x₂, x₃, x₄, x₅]\n",
    "    * pos=True 表示所有变量必须非负（xᵢ ≥ 0）\n",
    "\n",
    "* obj = cp.Minimize(x[5])\n",
    "    * 定义优化目标为最小化 x 的最后一个元素 x[5]（注意Python索引从0开始）"
   ]
  },
  {
   "cell_type": "code",
   "execution_count": null,
   "id": "efc4416b",
   "metadata": {},
   "outputs": [
    {
     "data": {
      "image/png": "[encoded data removed]",
      "text/plain": [
       "<Figure size 640x480 with 1 Axes>"
      ]
     },
     "metadata": {},
     "output_type": "display_data"
    }
   ],
   "source": [
    "import matplotlib.pyplot as plt\n",
    "import numpy as np\n",
    "import cvxpy as cp\n",
    "\n",
    "plt.rc('text',usetex=True); plt.rc('font', size=16)\n",
    "\n",
    "x = cp.Variable(6, pos=True)\n",
    "obj = cp.Minimize(x[5])\n",
    "a1 = np.array([0.025,0.015,0.055,0.026])\n",
    "a2 = np.array([0.05,0.27,0.19,0.185,0.185])\n",
    "a3 = np.array([1,1.01,1.02,1.045,1.065])\n",
    "k = 0.05; kk = []; ss = []\n",
    "\n",
    "while k < 0.27:\n",
    "    con = [cp.multiply(a1, x[1:5])-x[5]<=0,  #逐元素乘法\n",
    "           a2@x[:-1]>=k, a3@x[:-1]==1]  #x[:-1]：选取变量向量 x 的前 n-1 个元素（假设 x 长度为 n）。  @为向量 a2 与 x[:-1] 的内积\n",
    "    prob = cp.Problem(obj, con)\n",
    "    prob.solve(solver='GLPK_MI')\n",
    "    kk.append(k)\n",
    "    ss.append(prob.value)\n",
    "    k+=0.005\n",
    "plt.plot(kk, ss, 'r*')\n",
    "plt.xlabel('$k$'); plt.ylabel('$R$',rotation=0)\n",
    "plt.show()"
   ]
  }
 ],
 "metadata": {
  "kernelspec": {
   "display_name": "Python 3",
   "language": "python",
   "name": "python3"
  },
  "language_info": {
   "codemirror_mode": {
    "name": "ipython",
    "version": 3
   },
   "file_extension": ".py",
   "mimetype": "text/x-python",
   "name": "python",
   "nbconvert_exporter": "python",
   "pygments_lexer": "ipython3",
   "version": "3.11.9"
  }
 },
 "nbformat": 4,
 "nbformat_minor": 5
}
