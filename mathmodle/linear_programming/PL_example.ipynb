{
 "cells": [
  {
   "cell_type": "markdown",
   "id": "3bedf867",
   "metadata": {},
   "source": [
    "例一"
   ]
  },
  {
   "cell_type": "code",
   "execution_count": 1,
   "id": "45111ece",
   "metadata": {},
   "outputs": [
    {
     "name": "stdout",
     "output_type": "stream",
     "text": [
      "目标函数的最小值: -22.0\n",
      "最优解为: [10. -3.]\n"
     ]
    }
   ],
   "source": [
    "from scipy.optimize import linprog\n",
    "\n",
    "c = [-1, 4]\n",
    "A = [[-3,1],[1,2]]\n",
    "b = [6,4]\n",
    "bounds = ((None,None),(-3,None))\n",
    "res = linprog(c,A,b,None,None,bounds)\n",
    "print('目标函数的最小值:', res.fun)\n",
    "print('最优解为:', res.x)"
   ]
  },
  {
   "cell_type": "markdown",
   "id": "2ec49c93",
   "metadata": {},
   "source": [
    "例二\n",
    "#\n",
    "    注意等式与不等式是 <= 型"
   ]
  },
  {
   "cell_type": "code",
   "execution_count": 3,
   "id": "02d05c20",
   "metadata": {},
   "outputs": [
    {
     "name": "stdout",
     "output_type": "stream",
     "text": [
      "目标函数的最小值: 0.399999999999999\n",
      "最优解为: [-1.6  0.  -0.4]\n"
     ]
    }
   ],
   "source": [
    "from scipy.optimize import linprog\n",
    "\n",
    "c = [-1,2,3]\n",
    "A = [[-2,1,1],[3,-1,-2]]\n",
    "b = [9,-4]\n",
    "Aeq = [[4,-2,-1]]\n",
    "beq = [-6]\n",
    "bounds = ((-10, None), (0, None), (None, None))\n",
    "res = linprog(c,A,b,Aeq,beq,bounds)\n",
    "print('目标函数的最小值:', res.fun)\n",
    "print('最优解为:', res.x)"
   ]
  },
  {
   "cell_type": "markdown",
   "id": "5ca33548",
   "metadata": {},
   "source": [
    "列表不能整体对元素取反\n",
    "\n",
    "使用numpy数组可以对数组进行取反"
   ]
  },
  {
   "cell_type": "code",
   "execution_count": 4,
   "id": "551b38cb",
   "metadata": {},
   "outputs": [
    {
     "name": "stdout",
     "output_type": "stream",
     "text": [
      "目标函数的最小值: 0.399999999999999\n",
      "最优解为: [-1.6  0.  -0.4]\n"
     ]
    }
   ],
   "source": [
    "from scipy.optimize import linprog\n",
    "import numpy as np\n",
    "\n",
    "c = np.array([1,-2,-3])  #为了下面取相反数，这里使用np数组\n",
    "A = [[-2,1,1],[3,-1,-2]]\n",
    "b = [9,-4]\n",
    "Aeq = [[4,-2,-1]]\n",
    "beq = [-6]\n",
    "bounds = ((-10, None), (0, None), (None, None))\n",
    "res = linprog(-c,A,b,Aeq,beq,bounds)\n",
    "print('目标函数的最小值:', res.fun)\n",
    "print('最优解为:', res.x)"
   ]
  },
  {
   "cell_type": "markdown",
   "id": "cb643ed8",
   "metadata": {},
   "source": [
    "综合题"
   ]
  },
  {
   "cell_type": "code",
   "execution_count": 6,
   "id": "1d720333",
   "metadata": {},
   "outputs": [
    {
     "name": "stdout",
     "output_type": "stream",
     "text": [
      "目标函数的最小值: -17592.592592592595\n",
      "利润最大为: 17592.592592592595\n",
      "最优解为: [159.25925926  40.74074074   0.         250.           0.\n",
      " 450.        ]\n"
     ]
    }
   ],
   "source": [
    "from scipy.optimize import linprog\n",
    "\n",
    "c = [110,120,130,110,115,-150]  #目标向量\n",
    "A = [[1,1,0,0,0,0],[0,0,1,1,1,0],[8.8,6.1,2.0,4.2,5.0,-6],[-8.8,-6.1,-2.0,-4.2,-5.0,3]]\n",
    "b = [200,250,0,0]\n",
    "Aeq = [[1,1,1,1,1,-1]]\n",
    "beq = [0]\n",
    "res = linprog(c,A,b,Aeq,beq)  #bounds默认为(0,+oo)\n",
    "print('目标函数的最小值:', res.fun)\n",
    "print('利润最大为:', -res.fun)\n",
    "print('最优解为:', res.x)"
   ]
  },
  {
   "cell_type": "markdown",
   "id": "aa8c1d8c",
   "metadata": {},
   "source": [
    "# 利用cvxopt.solvers模块求解\n",
    "    sol = solvers.lp(c, G, h, A=None, b=None, solver=None, **kwargs)\n",
    "    参数说明\n",
    "        参数\t描述\n",
    "        c\t    目标函数系数向量 (1D 列矩阵)\n",
    "        G\t    不等式约束矩阵 (≤ 约束)\n",
    "        h\t    不等式约束右侧向量\n",
    "        A\t    等式约束矩阵 (可选，= 约束)\n",
    "        b\t    等式约束右侧向量 (可选)\n",
    "        solver\t指定求解器 (如 None 自动选择，或 'glpk' 等)\n",
    "    返回值 (sol 字典)\n",
    "        键\t                描述\n",
    "        'x'\t                最优解向量\n",
    "        'primal objective'\t原始问题目标值 (注意符号)\n",
    "        'status'\t        求解状态 ('optimal', 'infeasible', 'unbounded' 等)\n",
    "        'dual objective'\t对偶问题目标值\n",
    "        'iterations'\t    迭代次数\n",
    "    关键注意事项\n",
    "        最大化问题转换：CVXOPT 默认最小化，最大化问题需对 c 取负\n",
    "        非负约束：必须显式包含在 G 和 h 中（如 -x₁ ≤ 0）\n",
    "        矩阵格式：所有参数必须转换为 cvxopt.matrix 类型\n",
    "        等式约束：若有等式约束，通过 A 和 b 参数传递"
   ]
  },
  {
   "cell_type": "markdown",
   "id": "3c9c9d1c",
   "metadata": {},
   "source": [
    "程序中虽然没有直接使用NumPy库中的函数，也必须加载否则报错\n",
    "\n",
    "数据如果全部为整形数据，也必须写成浮点数据，否则报错"
   ]
  },
  {
   "cell_type": "code",
   "execution_count": 3,
   "id": "8f189d11",
   "metadata": {},
   "outputs": [
    {
     "name": "stdout",
     "output_type": "stream",
     "text": [
      "     pcost       dcost       gap    pres   dres   k/t\n",
      " 0: -8.1000e+00 -1.8300e+01  4e+00  0e+00  8e-01  1e+00\n",
      " 1: -8.8055e+00 -9.4357e+00  2e-01  2e-16  4e-02  3e-02\n",
      " 2: -8.9981e+00 -9.0049e+00  2e-03  6e-16  5e-04  4e-04\n",
      " 3: -9.0000e+00 -9.0000e+00  2e-05  1e-16  5e-06  4e-06\n",
      " 4: -9.0000e+00 -9.0000e+00  2e-07  1e-16  5e-08  4e-08\n",
      "Optimal solution found.\n",
      "最优解为: [ 1.00e+00]\n",
      "[ 1.00e+00]\n",
      "\n",
      "最优值为: -8.999999811406719\n"
     ]
    }
   ],
   "source": [
    "from cvxopt import matrix,solvers\n",
    "import numpy as np\n",
    "\n",
    "c = matrix([-4.,-5])\n",
    "A = matrix([[2.,1],[1,2],[-1,0],[0,-1]]).T\n",
    "b = matrix([3.,3,0,0])\n",
    "sol = solvers.lp(c,A,b)\n",
    "print('最优解为:', sol['x'])\n",
    "print('最优值为:', sol['primal objective'])"
   ]
  },
  {
   "cell_type": "code",
   "execution_count": 12,
   "id": "4e9e1b1d",
   "metadata": {},
   "outputs": [
    {
     "name": "stdout",
     "output_type": "stream",
     "text": [
      "     pcost       dcost       gap    pres   dres   k/t\n",
      " 0:  5.5556e+00  1.2222e+00  1e+01  0e+00  2e+00  1e+00\n",
      " 1:  4.6038e+00  3.7995e+00  2e+00  1e-16  4e-01  2e-01\n",
      " 2:  2.5229e+00  2.4639e+00  2e-01  2e-16  4e-02  4e-02\n",
      " 3:  2.5002e+00  2.4997e+00  2e-03  1e-16  4e-04  4e-04\n",
      " 4:  2.5000e+00  2.5000e+00  2e-05  3e-16  4e-06  4e-06\n",
      " 5:  2.5000e+00  2.5000e+00  2e-07  2e-16  4e-08  4e-08\n",
      "Optimal solution found.\n",
      "最优解为: [ 5.00e-01]\n",
      "[ 1.50e+00]\n",
      "\n",
      "最优值为: 2.5000000246110483\n"
     ]
    }
   ],
   "source": [
    "import numpy\n",
    "from cvxopt import matrix, solvers\n",
    "\n",
    "c = matrix([2.,1])  #列向量\n",
    "A = matrix([[-1.,1],[-1,-1],[1,-2],[0,-1]]).T\n",
    "b = matrix([1.,-2,4,0])\n",
    "Aeq = matrix([1.,2],(1,2))  #(1, 2)：矩阵形状（1 行，2 列）。\n",
    "beq = matrix([3.5])\n",
    "sol = solvers.lp(c,A,b,Aeq,beq)\n",
    "print('最优解为:', sol['x'])\n",
    "print('最优值为:', sol['primal objective'])"
   ]
  }
 ],
 "metadata": {
  "kernelspec": {
   "display_name": "Python 3",
   "language": "python",
   "name": "python3"
  },
  "language_info": {
   "codemirror_mode": {
    "name": "ipython",
    "version": 3
   },
   "file_extension": ".py",
   "mimetype": "text/x-python",
   "name": "python",
   "nbconvert_exporter": "python",
   "pygments_lexer": "ipython3",
   "version": "3.11.9"
  }
 },
 "nbformat": 4,
 "nbformat_minor": 5
}
