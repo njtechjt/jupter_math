{
 "cells": [
  {
   "cell_type": "markdown",
   "id": "42c4c4aa",
   "metadata": {},
   "source": [
    "线性规划\n",
    "linprog()函数\n",
    "resurt = linprog(c, A_ub, b_ub, A_eq, b_eq,bound, method)\n",
    "与Matlab基本相同\n",
    "c--->目标函数的决策变量对应的系数向量(行列向量都可以)\n",
    "A_ub，b_ub--->不等式约束条件的变量系数矩阵和常数项矩阵(必须是<=形式)\n",
    "A_eq，b_eq--->等式约束条件的系数矩阵和常数项矩阵\n",
    "bounds--->表示决策变量定义域的n*2的矩阵，None表示无穷\n",
    "method--->调用的求解方法，默认为highs\n",
    "resurt有多个参数，常用x为最优解，fun为函数最小值，nit为迭代次数等，调用时用resurt.x\n",
    "注意：要调用linprog函数，变量必须是标准形式，即目标函数是求最小值，约束条件都是小于等于号或等号\n",
    "如果不满足标准形式，我们可以用同乘\"-\"变号来继续求解"
   ]
  },
  {
   "cell_type": "markdown",
   "id": "dcb50e69",
   "metadata": {},
   "source": [
    "传参的数组可以是普通数组，也可以是numpy数组\n",
    "注意使用Numpy数组时：\n",
    "A_ub / A_eq\n",
    "    必须是 二维 NumPy 数组（即使只有一行约束）。\n",
    "    列数必须与变量个数（即 c 的长度）一致。\n",
    "    ❌ 错误示例：np.array([1, 2])（一维，shape=(2,)）\n",
    "    ✅ 正确示例：np.array([[1, 2]])（二维，shape=(1, 2)）\n",
    "\n",
    "b_ub / b_eq\n",
    "    必须是一维 NumPy 数组或列表，长度与约束行数一致。\n",
    "    ❌ 错误示例：b_ub = -7（标量）\n",
    "    ✅ 正确示例：b_ub = np.array([-7]) 或 b_ub = [-7]\n",
    "\n",
    "目标函数系数 c\n",
    "    可以是一维 NumPy 数组或列表。\n",
    "    ✅ 示例：c = np.array([1, 2]) 或 c = [1, 2]"
   ]
  },
  {
   "cell_type": "markdown",
   "id": "c97d8dd8",
   "metadata": {},
   "source": [
    "bounds 参数的合法形式\n",
    "bounds 用于定义每个变量的取值范围，支持以下格式：\n",
    "(1) 列表或元组形式（最常用）\n",
    "每个变量用 (lower, upper) 表示。\n",
    "如果某个变量无界，设为 None（例如 (0, None) 表示下界 0，上界无限制）。\n",
    "bounds = [\n",
    "    (0, 5),    # x1 ∈ [0, 5]\n",
    "    (0, None),  # x2 ≥ 0（无上界）\n",
    "    (None, 6)   # x3 ≤ 6（无下界）\n",
    "]\n",
    "\n",
    "NumPy 数组形式\n",
    "可以用 两个一维数组 分别表示所有变量的下界和上界：\n",
    "lower_bounds = np.array([0, 0, -np.inf])  # 下界\n",
    "upper_bounds = np.array([5, np.inf, 6])    # 上界\n",
    "bounds = list(zip(lower_bounds, upper_bounds))  # 转换为列表形式\n",
    "\n",
    "形式\t                  示例\t                        适用场景\n",
    "列表/元组\t      bounds = [(0, 5), (0, 6)]\t        最常用，清晰易读\n",
    "NumPy数组         bounds = list(zip(lb, ub))\t   需批量生成上下界时\n",
    "统一约束\t      bounds = (0, 5)\t              所有变量共享相同约束\n"
   ]
  },
  {
   "cell_type": "code",
   "execution_count": 5,
   "id": "6eef7d55",
   "metadata": {},
   "outputs": [
    {
     "name": "stdout",
     "output_type": "stream",
     "text": [
      "        message: Optimization terminated successfully. (HiGHS Status 7: Optimal)\n",
      "        success: True\n",
      "         status: 0\n",
      "            fun: -450.0\n",
      "              x: [ 1.500e+01  5.000e+00  0.000e+00]\n",
      "            nit: 2\n",
      "          lower:  residual: [ 1.500e+01  5.000e+00  0.000e+00]\n",
      "                 marginals: [ 0.000e+00  0.000e+00  2.500e+00]\n",
      "          upper:  residual: [       inf        inf        inf]\n",
      "                 marginals: [ 0.000e+00  0.000e+00  0.000e+00]\n",
      "          eqlin:  residual: []\n",
      "                 marginals: []\n",
      "        ineqlin:  residual: [ 0.000e+00  0.000e+00]\n",
      "                 marginals: [-2.500e+00 -1.000e+01]\n",
      " mip_node_count: 0\n",
      " mip_dual_bound: 0.0\n",
      "        mip_gap: 0.0\n",
      "A,B,C三图分别通关的次数为：\n",
      "[15.  5.  0.]\n",
      "最终获得的最大经验值为：\n",
      "450.0\n"
     ]
    }
   ],
   "source": [
    "import numpy as np\n",
    "from scipy.optimize import linprog\n",
    "\n",
    "#目标函数系数\n",
    "c = np.array([[-20],[-30],[-45]])\n",
    "#不等式约束的系数矩阵A\n",
    "A_ub = [\n",
    "    [4,8,15],\n",
    "    [1,1,1]\n",
    "]\n",
    "#不等式约束的右侧向量b\n",
    "b_ub = [[100],[20]]\n",
    "#定义域\n",
    "bounds = [[0,None],[0,None],[0,None]]\n",
    "#注意linprog()默认是求解最小化问题，我们通过对目标函数系数取负值转化为最大化问题\n",
    "resurt = linprog(c, A_ub=A_ub, b_ub=b_ub,bounds=bounds)   #参数缺少的位置后面要用关键词=***\n",
    "print(resurt) \n",
    "#输出结果\n",
    "print('A,B,C三图分别通关的次数为：')\n",
    "print(resurt.x)  #解向量\n",
    "\n",
    "#目标函数的最大值是最小值问题的相反数\n",
    "Y = -resurt.fun\n",
    "print('最终获得的最大经验值为：')\n",
    "print(Y)"
   ]
  }
 ],
 "metadata": {
  "kernelspec": {
   "display_name": "Python 3",
   "language": "python",
   "name": "python3"
  },
  "language_info": {
   "codemirror_mode": {
    "name": "ipython",
    "version": 3
   },
   "file_extension": ".py",
   "mimetype": "text/x-python",
   "name": "python",
   "nbconvert_exporter": "python",
   "pygments_lexer": "ipython3",
   "version": "3.11.9"
  }
 },
 "nbformat": 4,
 "nbformat_minor": 5
}
