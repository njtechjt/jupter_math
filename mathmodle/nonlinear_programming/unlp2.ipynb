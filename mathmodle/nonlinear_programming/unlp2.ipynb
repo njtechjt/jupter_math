{
 "cells": [
  {
   "cell_type": "markdown",
   "id": "4d211d5c",
   "metadata": {},
   "source": [
    "非线性规划——选址问题"
   ]
  },
  {
   "cell_type": "markdown",
   "id": "63cde6a9",
   "metadata": {},
   "source": [
    "线性规划——料场位置固定"
   ]
  },
  {
   "cell_type": "code",
   "execution_count": 1,
   "id": "bdffec00",
   "metadata": {},
   "outputs": [
    {
     "name": "stdout",
     "output_type": "stream",
     "text": [
      "第一问解： [ 3.  5.  0.  7.  0.  1.  0.  0.  4.  0.  6. 10.]\n",
      "第一问目标值： 135.28154179067644\n"
     ]
    }
   ],
   "source": [
    "import numpy as np\n",
    "from scipy.optimize import minimize\n",
    "from scipy.optimize import linprog\n",
    "\n",
    "#工地横坐标\n",
    "a = [1.25, 8.75, 0.5, 5.75, 3, 7.25]\n",
    "#纵坐标\n",
    "b = [1.25, 0.75, 4.75, 5, 6.5, 7.25]\n",
    "#水泥日需求列表\n",
    "d = [3, 5, 4, 7, 6, 11]\n",
    "\n",
    "#临时料场固定\n",
    "#临时料场的坐标列表\n",
    "x1_coord, y1_coord = 5, 1\n",
    "x2_coord, y2_coord = 2, 7\n",
    "#记算每个工地到料场1的距离\n",
    "distance_to_x1 = []\n",
    "for i in range(len(a)):\n",
    "    distance = np.sqrt((x1_coord-a[i])**2 + (y1_coord-b[i])**2)\n",
    "    distance_to_x1.append(distance)\n",
    "#记算每个工地到料场2的距离\n",
    "distance_to_x2 = []\n",
    "for i in range(len(a)):\n",
    "    distance = np.sqrt((x2_coord-a[i])**2 + (y2_coord-b[i])**2)\n",
    "    distance_to_x1.append(distance)\n",
    "#将两个列表合并\n",
    "f = distance_to_x1 + distance_to_x2\n",
    "\n",
    "#构造不等式约束的系数矩阵\n",
    "A = []\n",
    "#构造对应第一个料场供应各工地水泥量系数的行\n",
    "row_1 = [1]*6 + [0]*6\n",
    "A.append(row_1)\n",
    "#构造对应第二个料场供应各工地水泥量系数的行\n",
    "row_2 = [0]*6 + [1]*6\n",
    "A.append(row_2)\n",
    "#不等式约束右侧常量\n",
    "b_constraints = [20,20]\n",
    "\n",
    "#构造等式约束的系数矩阵\n",
    "eye_matrix_1 = np.eye(6)\n",
    "eye_matrix_2 = np.eye(6)\n",
    "A_eq = np.hstack([eye_matrix_1,eye_matrix_2])\n",
    "#等式约束右侧系数\n",
    "b_eq = np.array(d)\n",
    "\n",
    "#变量边界\n",
    "bound = [(0,None)] * 12\n",
    "\n",
    "resurt = linprog(f,A_ub=A,b_ub=b_constraints,A_eq=A_eq,b_eq=b_eq,bounds=bound)\n",
    "x1, fval = resurt.x, resurt.fun\n",
    "print('第一问解：',x1)\n",
    "print('第一问目标值：',fval)"
   ]
  },
  {
   "cell_type": "markdown",
   "id": "a93eee97",
   "metadata": {},
   "source": [
    "非线性规划——料场位置不定"
   ]
  },
  {
   "cell_type": "code",
   "execution_count": 2,
   "id": "ef8c2257",
   "metadata": {},
   "outputs": [
    {
     "name": "stdout",
     "output_type": "stream",
     "text": [
      "用线性规划结果作为初始值：\n",
      "解为： [3.00000000e+00 5.00000000e+00 4.00000000e+00 7.00000000e+00\n",
      " 1.00000000e+00 3.20739357e-14 1.08676995e-15 1.83903274e-14\n",
      " 1.02582644e-13 1.49761239e-15 5.00000000e+00 1.10000000e+01\n",
      " 5.69588495e+00 4.92847435e+00 7.25000006e+00 7.25000003e+00]\n",
      "目标值为： 89.31176250158214\n"
     ]
    }
   ],
   "source": [
    "#目标函数\n",
    "def objective(x):\n",
    "    f1 = sum(np.sqrt((x[12]-a)**2 + (x[13]-b)**2)*x[:6])\n",
    "    f2 = sum(np.sqrt((x[14]-a)**2 + (x[15]-b)**2)*x[6:12])\n",
    "    return f1+f2\n",
    "#定义不等式约束条件对应的记算函数\n",
    "def inequality_constraints_direct(x):\n",
    "    return np.array([20-sum(x[:6]),20-sum(x[6:12])])\n",
    "#定义等式约束条件对应的记算函数\n",
    "def equality_constraints_direct(x):\n",
    "    return np.array([x[0]+x[6]-3, x[1]+x[7]-5, x[2]+x[8]-4,\n",
    "                     x[3]+x[9]-7, x[4]+x[10]-6, x[5]+x[11]-11])\n",
    "#构建约束条件的字典列表，包含不等式和等式约束\n",
    "cons = [{'type': 'ineq', 'fun': inequality_constraints_direct},  #不等式约束\n",
    "        {'type': 'eq', 'fun': equality_constraints_direct}]      #等式约束\n",
    "#变量边界定义\n",
    "bound2 = [(0,None)]*12 + [(-np.inf,np.inf)]*4\n",
    "\n",
    "x0_lp = np.hstack([x1, [5,1,2,7]])\n",
    "\n",
    "res = minimize(fun=objective,x0=x0_lp,constraints=cons,bounds=bound2)\n",
    "x2_lp,fval2_lp = res.x, res.fun\n",
    "print('用线性规划结果作为初始值：')\n",
    "print('解为：',x2_lp)\n",
    "print('目标值为：',fval2_lp)"
   ]
  }
 ],
 "metadata": {
  "kernelspec": {
   "display_name": "base",
   "language": "python",
   "name": "python3"
  },
  "language_info": {
   "codemirror_mode": {
    "name": "ipython",
    "version": 3
   },
   "file_extension": ".py",
   "mimetype": "text/x-python",
   "name": "python",
   "nbconvert_exporter": "python",
   "pygments_lexer": "ipython3",
   "version": "3.12.7"
  }
 },
 "nbformat": 4,
 "nbformat_minor": 5
}
