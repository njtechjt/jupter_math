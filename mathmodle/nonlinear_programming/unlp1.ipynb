{
 "cells": [
  {
   "cell_type": "markdown",
   "id": "3574dc90",
   "metadata": {},
   "source": [
    "非线性规划\n",
    "标准型：min f(x)\n",
    "h_i(x) = 0, i=1,2,……n\n",
    "g_j(x) >= 0, j = 1,2,……n\n",
    "lb <= x <= ub\n",
    "\n",
    "res = minimize(fun, x0, args, method, jac, hess, hessp, bounds, constraints,tol,callback,options)\n",
    "\n",
    "res: 返回值，res.fun ＃最优值 res.success ＃求解状态 res.x ＃最优解 res.message ＃优化终止的信息\n",
    "\n",
    "fun: 需要最小化的目标函数。这个函数需要接收一个或多个参数，并返回对应的目标函数值\n",
    "x0 : 决策变量的初始值。它是一个一维的numpy数组，例如x0=[1,2] ＃初始值为[1,2]\n",
    "Args: 用于向目标函数 fun 和约束函数（如果有）传递额外的固定参数.\n",
    "method：指定求解优化问题所使用的算法方法。不同的问题类型（例如无约束优化、有约束优化等）可以选用不同的合适算法，常见的方法有 'Nelder - Mead'（单纯形法，适用于无约束优化问题等）、'SLSQP'（序列二次规划法，可处理一般的有约束非线性优化问题）等。例如： method = 'SLSQP' # 使用顺序二次规划法\n",
    "bounds: 决策变量的取值范围约束。例如bounds = [(0,None),(None,10)]\n",
    "constraints: 优化问题的约束条件。通过 'type' 键指定约束类型 ('eq' 表示等式约束，'ineq'表示不等式约束),'fun' 键对应一个函数\n",
    "jac, hess, hessp: 用于加速梯度优化的一些参数，大多数中小规模问题或简单函数不用管"
   ]
  },
  {
   "cell_type": "markdown",
   "id": "64518ca1",
   "metadata": {},
   "source": [
    "示例"
   ]
  },
  {
   "cell_type": "code",
   "execution_count": 1,
   "id": "eaf3c2c7",
   "metadata": {},
   "outputs": [],
   "source": [
    "import numpy as np\n",
    "from scipy.optimize import minimize\n",
    "\n",
    "#目标函数，接收一个长度为2的一维数组x（代表两个变量x1,x2），记算并返回目标函数\n",
    "def fun1(x):\n",
    "    return x[0]**2 + x[1]**2 - x[0]*x[1] - 2*x[0] - 5*x[1]\n",
    "\n",
    "#第一个非线性约束条件函数，接收变量x，返回对应的约束条件的值\n",
    "def nonlcon1(x):\n",
    "    return -(x[0]-1)**2 + x[1]\n",
    "\n",
    "#第二个非线性约束条件函数，接收变量x，返回对应的约束条件的值\n",
    "def nonlcon2(x):\n",
    "    return 2*x[0] - 3*x[1] + 6"
   ]
  },
  {
   "cell_type": "code",
   "execution_count": 2,
   "id": "0a2ab3bb",
   "metadata": {},
   "outputs": [
    {
     "name": "stdout",
     "output_type": "stream",
     "text": [
      "默认算法求解的结果为：\n",
      "最优解： [2.99999994 3.99999996]\n",
      "最优值： -12.999999999999998\n"
     ]
    }
   ],
   "source": [
    "#初始值设定，设置为一个二维的numpy数组，初始值为[0,0]\n",
    "x0 = np.array([0,0])\n",
    "#使用默认的算法（内点法类似的算法）求解\n",
    "res = minimize(fun1,x0,constraints=({'type': 'ineq', 'fun':nonlcon1},\n",
    "                                    {'type': 'ineq', 'fun':nonlcon2}),\n",
    "               bounds=None, tol=None, options=None, args=())\n",
    "print('默认算法求解的结果为：')\n",
    "print('最优解：',res.x)\n",
    "print('最优值：',res.fun)"
   ]
  },
  {
   "cell_type": "markdown",
   "id": "f48a7240",
   "metadata": {},
   "source": [
    "使用SQP算法求解"
   ]
  },
  {
   "cell_type": "code",
   "execution_count": 3,
   "id": "531a34da",
   "metadata": {},
   "outputs": [
    {
     "name": "stdout",
     "output_type": "stream",
     "text": [
      "SQP算法求解的结果为：\n",
      "最优解： [2.99999994 3.99999996]\n",
      "最优值： -12.999999999999998\n"
     ]
    }
   ],
   "source": [
    "res_sqp = minimize(fun1,x0,method='SLSQP',\n",
    "               constraints=({'type': 'ineq', 'fun':nonlcon1},\n",
    "                            {'type': 'ineq', 'fun':nonlcon2}),\n",
    "               bounds=None, tol=None, options=None, args=())\n",
    "print('SQP算法求解的结果为：')\n",
    "print('最优解：',res_sqp.x)\n",
    "print('最优值：',res_sqp.fun)"
   ]
  },
  {
   "cell_type": "markdown",
   "id": "e4f72bed",
   "metadata": {},
   "source": [
    "使用蒙特卡洛法求初始值"
   ]
  },
  {
   "cell_type": "code",
   "execution_count": 4,
   "id": "36424a78",
   "metadata": {},
   "outputs": [
    {
     "name": "stdout",
     "output_type": "stream",
     "text": [
      "蒙特卡洛法选取的初始值为： [2.95973525 3.96600235]\n"
     ]
    }
   ],
   "source": [
    "n = 10000000\n",
    "#np.random.uniform用于生成在指定区间内均匀分布的随机数（或随机数组）的函数 不是整数\n",
    "#用法与np.random.randint相同\n",
    "x1 = np.random.uniform(-100,100,size=n)\n",
    "x2 = np.random.uniform(-100,100,size=n)\n",
    "fmin = 10000000\n",
    "for i in range(n):\n",
    "    x = np.array([x1[i],x2[i]])\n",
    "    if nonlcon1(x) >= 0 and nonlcon2(x) >= 0:\n",
    "        result = fun1(x)\n",
    "        if result < fmin:\n",
    "            fmin = result\n",
    "            x0 = x\n",
    "print('蒙特卡洛法选取的初始值为：', x0)"
   ]
  },
  {
   "cell_type": "code",
   "execution_count": 5,
   "id": "f3c1a16a",
   "metadata": {},
   "outputs": [
    {
     "name": "stdout",
     "output_type": "stream",
     "text": [
      "基于蒙特卡洛求解的结果为：\n",
      "最优解： [2.99999994 3.99999996]\n",
      "最优值： -12.999999999999998\n"
     ]
    }
   ],
   "source": [
    "#用蒙特卡洛法求得的初始值进行记算\n",
    "res_final = minimize(fun1,x0,constraints=({'type': 'ineq', 'fun':nonlcon1},\n",
    "                                    {'type': 'ineq', 'fun':nonlcon2}),\n",
    "               bounds=None, tol=None, options=None, args=())\n",
    "print('基于蒙特卡洛求解的结果为：')\n",
    "print('最优解：',res.x)\n",
    "print('最优值：',res.fun)"
   ]
  }
 ],
 "metadata": {
  "kernelspec": {
   "display_name": "Python 3",
   "language": "python",
   "name": "python3"
  },
  "language_info": {
   "codemirror_mode": {
    "name": "ipython",
    "version": 3
   },
   "file_extension": ".py",
   "mimetype": "text/x-python",
   "name": "python",
   "nbconvert_exporter": "python",
   "pygments_lexer": "ipython3",
   "version": "3.11.9"
  }
 },
 "nbformat": 4,
 "nbformat_minor": 5
}
