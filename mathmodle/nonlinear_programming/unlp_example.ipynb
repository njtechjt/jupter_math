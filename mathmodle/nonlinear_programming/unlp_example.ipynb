{
 "cells": [
  {
   "cell_type": "markdown",
   "id": "326ae08d",
   "metadata": {},
   "source": [
    "# 非线性规划模型\n",
    "求解非线性规划可以使用scipy.optimize模块、cvxopt库、cvxpy库"
   ]
  },
  {
   "cell_type": "markdown",
   "id": "c87d2974",
   "metadata": {},
   "source": [
    "## 1.用scipy.optimize模块的minimize函数求解"
   ]
  },
  {
   "cell_type": "markdown",
   "id": "2f637156",
   "metadata": {},
   "source": [
    "无约束非线性规划"
   ]
  },
  {
   "cell_type": "code",
   "execution_count": 4,
   "id": "e3cc791e",
   "metadata": {},
   "outputs": [
    {
     "name": "stdout",
     "output_type": "stream",
     "text": [
      "-0.7736842105263159 \n",
      " True \n",
      " [0.9 0.9 0.1]\n"
     ]
    }
   ],
   "source": [
    "from scipy.optimize import minimize\n",
    "import numpy as np\n",
    "\n",
    "def obj(x):\n",
    "    x1,x2,x3 = x\n",
    "    return (2+x1)/(1+x2)-3*x1+4*x3\n",
    "LB = [0.1]*3; UB = [0.9]*3\n",
    "bound = tuple(zip(LB,UB))\n",
    "# print(bound)\n",
    "res = minimize(obj, np.ones(3),bounds=bound)  #第二个参数为初值\n",
    "print(res.fun,'\\n', res.success,'\\n', res.x)  #输出最优值、求解状态、最优解"
   ]
  },
  {
   "cell_type": "markdown",
   "id": "167483ac",
   "metadata": {},
   "source": [
    "有约束非线性规划\n",
    "\n",
    "求解时需要多取几个初始值"
   ]
  },
  {
   "cell_type": "code",
   "execution_count": 6,
   "id": "d87ff5e0",
   "metadata": {},
   "outputs": [
    {
     "name": "stdout",
     "output_type": "stream",
     "text": [
      "     message: Optimization terminated successfully\n",
      "     success: True\n",
      "      status: 0\n",
      "         fun: -51629.929999446875\n",
      "           x: [ 5.050e+01  9.900e+01  1.107e-10  9.900e+01  2.020e+01]\n",
      "         nit: 2\n",
      "         jac: [-9.300e+01 -1.960e+02  3.000e+00 -7.910e+02 -7.880e+01]\n",
      "        nfev: 13\n",
      "        njev: 2\n",
      " multipliers: [ 0.000e+00  0.000e+00  4.650e+01  1.576e+01]\n"
     ]
    }
   ],
   "source": [
    "from scipy.optimize import minimize\n",
    "import numpy as np\n",
    "\n",
    "c1 = np.array([1,1,3,4,2]); c2 = np.array([-8,-2,-3,-1,-2])\n",
    "A = np.array([[1,1,1,1,1],[1,2,2,1,6],[2,1,6,0,0],[0,0,1,1,5]])\n",
    "b = np.array([400,800,200,200])\n",
    "obj = lambda x: np.dot(-c1, x**2)+np.dot(-c2, x)\n",
    "cons = {'type':'ineq', 'fun': lambda x: b-A@x}  #不等式约束 g(x) >= 0\n",
    "bd = [(0,99) for i in range(A.shape[1])]  #变量边界（如 [(0, None), (0, 1)]）\n",
    "# print(bd)\n",
    "res = minimize(obj, np.ones(5)*90, constraints=cons, bounds=bd)\n",
    "print(res)"
   ]
  },
  {
   "cell_type": "markdown",
   "id": "d8190a2e",
   "metadata": {},
   "source": [
    "## 2.用cvxopt.solver模块求解\n",
    "### 二次规划\n",
    "若非线性规划的目标函数为决策变量$x$的二次函数，约束条件又全是线性的，就称这种规划为二次规划\n",
    "\n",
    "cvxopt.solvers模块中二次规划的<span style=\"color: red\">标准型</span>为:\n",
    "\n",
    "$min$     $\\frac{1}{2}x^TPx+q^Tx$\n",
    "\n",
    "$Ax<=b,$\n",
    "\n",
    "$Aeq·x=beq$"
   ]
  },
  {
   "cell_type": "code",
   "execution_count": 1,
   "id": "a2e9417c",
   "metadata": {},
   "outputs": [
    {
     "name": "stdout",
     "output_type": "stream",
     "text": [
      "     pcost       dcost       gap    pres   dres\n",
      " 0: -1.3148e+01 -4.4315e+00  1e+01  1e+00  9e-01\n",
      " 1: -6.4674e+00 -7.5675e+00  1e+00  3e-16  4e-16\n",
      " 2: -7.1538e+00 -7.1854e+00  3e-02  1e-16  2e-15\n",
      " 3: -7.1758e+00 -7.1761e+00  3e-04  2e-16  2e-15\n",
      " 4: -7.1760e+00 -7.1760e+00  3e-06  1e-16  2e-15\n",
      "Optimal solution found.\n",
      "最优解为: [ 8.00e-01]\n",
      "[ 1.40e+00]\n",
      "[ 8.00e-01]\n",
      "\n",
      "最优值为: -7.1759977687772745\n",
      "{'x': <3x1 matrix, tc='d'>, 'y': <1x1 matrix, tc='d'>, 's': <3x1 matrix, tc='d'>, 'z': <3x1 matrix, tc='d'>, 'status': 'optimal', 'gap': 3.1697573550427715e-06, 'relative gap': 4.4171660264923267e-07, 'primal objective': -7.1759977687772745, 'dual objective': -7.17600093853463, 'primal infeasibility': 1.204205945063742e-16, 'dual infeasibility': 1.790393725068862e-15, 'primal slack': 4.823184668402676e-08, 'dual slack': 2.346333512527366e-06, 'iterations': 4}\n"
     ]
    }
   ],
   "source": [
    "import numpy as np\n",
    "from cvxopt import matrix,solvers\n",
    "\n",
    "n = 3; P = matrix(0.,(n,n))\n",
    "P[::n+1] = [3,2,1.7]; q = matrix([3,-8.2,-1.95])\n",
    "A = matrix([[1.0,0,1],[-1,2,0],[0,1,2]]).T\n",
    "b = matrix([2.,2,3])\n",
    "Aeq = matrix(1.,(1,n)); beq = matrix(3.)\n",
    "s = solvers.qp(P,q,A,b,Aeq,beq)\n",
    "print('最优解为:', s['x'])\n",
    "print('最优值为:', s['primal objective'])\n",
    "print(s)"
   ]
  },
  {
   "cell_type": "markdown",
   "id": "129b8d90",
   "metadata": {},
   "source": [
    "## 3.用cvxpy库求解  该环境暂时不能求解\n",
    "\n",
    "### 求解非线性<span style=\"color: orange\">整数规划问题</span>"
   ]
  },
  {
   "cell_type": "code",
   "execution_count": null,
   "id": "dbc9a5d9",
   "metadata": {},
   "outputs": [],
   "source": [
    "import cvxpy as cp\n",
    "import numpy as np\n",
    "\n",
    "c1 = np.array([1,1,3,4,2]); c2 = np.array([-8,-2,-3,-1,-2])\n",
    "a = np.array([[1,1,1,1,1],[1,2,2,1,6],[2,1,6,0,0],[0,0,1,1,5]])\n",
    "b = np.array([400,800,200,200])\n",
    "x = cp.Variable(5, integer=True)\n",
    "obj = cp.Minimize(cp.sum(cp.multiply(c1, x**2) + cp.multiply(c2, x)))\n",
    "con = [0<=x,x<=99, a@x<=b]\n",
    "prob = cp.Problem(obj, con)\n",
    "# prob.solve(solver=cp.ECOS)\n",
    "# print('最优值为:', prob.value)\n",
    "# print('最优解为:', x.value)"
   ]
  },
  {
   "cell_type": "markdown",
   "id": "8c70e28b",
   "metadata": {},
   "source": [
    "# 飞行管理问题"
   ]
  },
  {
   "cell_type": "code",
   "execution_count": 4,
   "id": "79d10cc1",
   "metadata": {},
   "outputs": [],
   "source": [
    "import numpy as np\n",
    "import pandas as pd\n",
    "\n",
    "x0 = np.array([150,85,150,145,130,0])\n",
    "y0 = np.array([140,85,155,50,150,0])\n",
    "q = np.array([243,236,220.5,159,230,52])\n",
    "d = np.zeros((6,6)); a0 = np.zeros((6,6)); b0 = np.zeros((6,6))\n",
    "xy0 = np.c_[x0,y0]\n",
    "# print(xy0)\n",
    "for i in range(6):\n",
    "    for j in range(6):\n",
    "        d[i,j] = np.linalg.norm(xy0[i]-xy0[j])  #xy0[i] 和 xy0[j] 之间的欧几里得距离||xy0[i]−xy0[j]||_2\n",
    "# print(d)\n",
    "d[np.where(d==0)] = np.inf\n",
    "a0 = np.arcsin(8./d)*180/np.pi\n",
    "xy1 = x0+1j*y0; xy2 = np.exp(1j*q*np.pi/180)  #1j为虚数\n",
    "for m in range(6):\n",
    "    for n in range(6):\n",
    "        if n!=m:\n",
    "            b0[m,n] = np.angle((xy2[n]-xy2[m])/(xy1[m]-xy1[n]))\n",
    "b0 = b0*180/np.pi\n",
    "with pd.ExcelWriter('fly_data.xlsx') as f:\n",
    "    pd.DataFrame(a0).to_excel(excel_writer=f, sheet_name=\"sheet1\", index=False)\n",
    "    pd.DataFrame(b0).to_excel(excel_writer=f, sheet_name=\"sheet2\", index=False)"
   ]
  },
  {
   "cell_type": "code",
   "execution_count": 9,
   "id": "b07c4de1",
   "metadata": {},
   "outputs": [
    {
     "name": "stdout",
     "output_type": "stream",
     "text": [
      "     message: Optimization terminated successfully\n",
      "     success: True\n",
      "      status: 0\n",
      "         fun: 0.7909172985328369\n",
      "           x: [ 2.533e-07  2.533e-07  2.533e-07  2.533e-07  3.955e-01\n",
      "                3.955e-01]\n",
      "         nit: 6\n",
      "         jac: [-1.000e+00 -1.000e+00 -1.000e+00 -1.000e+00  1.000e+00\n",
      "                1.000e+00]\n",
      "        nfev: 54\n",
      "        njev: 6\n",
      " multipliers: [ 2.000e+00  0.000e+00 ...  0.000e+00  0.000e+00]\n"
     ]
    }
   ],
   "source": [
    "import numpy as np\n",
    "import pandas as pd\n",
    "from scipy.optimize import minimize\n",
    "\n",
    "a0 = pd.read_excel('fly_data.xlsx')      #读入第一个表单\n",
    "b0 = pd.read_excel('fly_data.xlsx', 1)   #读入第二个表单\n",
    "a0 = a0.values; b0 = b0.values  #提取数值\n",
    "# print(a0)\n",
    "obj = lambda x: np.sum(np.abs(x))\n",
    "bd = [(-30,30) for i in range (6)]\n",
    "x0 = np.ones((1,6))\n",
    "cons = []\n",
    "for i in range(5):\n",
    "    for j in range(i+1,6):\n",
    "        cons.append({\"type\":'ineq', 'fun': lambda x: np.abs(b0[i,j]+(x[i]+x[j])/2)-a0[i,j]})\n",
    "res = minimize(obj, np.ones(6), constraints=cons, bounds=bd)\n",
    "print(res)"
   ]
  }
 ],
 "metadata": {
  "kernelspec": {
   "display_name": "Python 3",
   "language": "python",
   "name": "python3"
  },
  "language_info": {
   "codemirror_mode": {
    "name": "ipython",
    "version": 3
   },
   "file_extension": ".py",
   "mimetype": "text/x-python",
   "name": "python",
   "nbconvert_exporter": "python",
   "pygments_lexer": "ipython3",
   "version": "3.11.9"
  }
 },
 "nbformat": 4,
 "nbformat_minor": 5
}
