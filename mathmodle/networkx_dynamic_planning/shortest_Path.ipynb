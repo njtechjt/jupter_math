{
 "cells": [
  {
   "cell_type": "markdown",
   "id": "2db26e16",
   "metadata": {},
   "source": [
    "最短路径\n",
    "1. 常用算法：\n",
    "(1) Dijkstra算法（迪克斯特拉算法）\n",
    "        主要特点是从起始点开始，采用贪心算法的策略，每次遍历到始点距离最近且未访问过的顶点的邻接节点，直到拓展到终点为止\n",
    "(2) Floyd算法（弗洛伊德算法）\n",
    "        又称插点法，是一种利用动态规划的思想寻找给定的加权图中多源点之间最短路径的算法\n",
    "2. networkx函数求最短路径"
   ]
  },
  {
   "cell_type": "markdown",
   "id": "364bd9c8",
   "metadata": {},
   "source": [
    "1. networkx 中的dijkstra算法\n",
    "固定点到其他点"
   ]
  },
  {
   "cell_type": "code",
   "execution_count": null,
   "id": "8d4bc718",
   "metadata": {},
   "outputs": [
    {
     "name": "stdout",
     "output_type": "stream",
     "text": [
      "最短路径为: [3, 4, 6, 7] ;最短距离为: 8\n"
     ]
    }
   ],
   "source": [
    "import numpy as np\n",
    "import networkx as nx\n",
    "\n",
    "List = [(0,1,1),(0,2,2),(0,4,7),(0,6,4),(0,7,8),\n",
    "        (1,2,2),(1,3,3),(1,7,7),\n",
    "        (2,3,1),(2,4,5),\n",
    "        (3,4,3),(3,5,6),\n",
    "        (4,5,4),(4,6,3),\n",
    "        (5,6,6),(5,7,4),\n",
    "        (6,7,2)]\n",
    "G = nx.Graph()\n",
    "G.add_weighted_edges_from(List)\n",
    "A = nx.to_numpy_array(G, nodelist=range(8))  #导出邻接矩阵\n",
    "np.savetxt('Pdata_A.txt', A)  #保存邻接矩阵\n",
    "p = nx.dijkstra_path(G, source=3, target=7, weight='weight')  #求最短路径\n",
    "d = nx.dijkstra_path_length(G,3,7,weight='weight')  #求最短距离\n",
    "print('最短路径为:',p,';最短距离为:',d)"
   ]
  },
  {
   "cell_type": "markdown",
   "id": "db1e154a",
   "metadata": {},
   "source": [
    "2. nerworkx 的Floyd算法/dijkstra算法\n",
    "每对顶点间的最短路算法\n",
    "\n",
    "networkx 中求所有顶点对之间最短路径的函数为：shortest_path(G, source=None, target=None, wieght=None, method='dijkstra'/'bellman_ford')\n",
    "    输入参数：\n",
    "    G：图对象（如 graph 或 digraph）。\n",
    "    source：起点（可选，若不指定，可能返回所有点对的最短路径）。\n",
    "    target：终点（可选，若不指定，可能返回从 source 到所有点的最短路径）。\n",
    "    weight（或 'Weight'）：边的权重属性名称（默认可能是 'Weight'）。\n",
    "    method：算法选择，如 'dijkstra'（默认，适用于非负权图）或 'bellman-ford'（适用于含负权边的图，但检测负权环）。\n",
    "\n",
    "networkx 中求所有顶点对之间最短距离的函数为：shortest_path_length(G, source=None, target=None, wieght=None, method='dijkstra'/'bellman_ford')"
   ]
  },
  {
   "cell_type": "markdown",
   "id": "2d855d7d",
   "metadata": {},
   "source": [
    "1. 对于有向图\n",
    "d = nx.shortest_path_length(G,weight='weight')  #返回值是生成器，需转化为字典进行操作\n",
    "d_dict = dict(d) \n",
    "\n",
    "nodes = sorted(G.nodes())\n",
    "n = len(nodes)\n",
    "dist_matrix = np.zeros((n, n))\n",
    "\n",
    "for i, src in enumerate(nodes):\n",
    "    for j, tgt in enumerate(nodes):\n",
    "        try:\n",
    "            dist_matrix[i, j] = d_dict[src][tgt]\n",
    "        except KeyError:\n",
    "            dist_matrix[i, j] = np.inf  # 不可达的情况\n",
    "# 转换为DataFrame并保存Excel\n",
    "df = pd.DataFrame(\n",
    "    dist_matrix,\n",
    "    index=nodes,  # 行标签用节点名称\n",
    "    columns=nodes  # 列标签用节点名称\n",
    ")\n",
    "\n",
    "# 处理无穷大显示（可选）\n",
    "df.replace(np.inf, \"∞\", inplace=True)\n",
    "\n",
    "# 保存为Excel\n",
    "df.to_excel(\"directed_graph_shortest_paths.xlsx\", index=True)"
   ]
  },
  {
   "cell_type": "code",
   "execution_count": 3,
   "id": "ef65c1c0",
   "metadata": {},
   "outputs": [
    {
     "name": "stdout",
     "output_type": "stream",
     "text": [
      "最短路径 0 -> 0: [0]\n",
      "最短路径 0 -> 1: [0, 1]\n",
      "最短路径 0 -> 2: [0, 2]\n",
      "最短路径 0 -> 4: [0, 2, 3, 4]\n",
      "最短路径 0 -> 6: [0, 6]\n",
      "最短路径 0 -> 7: [0, 6, 7]\n",
      "最短路径 0 -> 3: [0, 2, 3]\n",
      "最短路径 0 -> 5: [0, 2, 3, 5]\n",
      "最短路径 1 -> 1: [1]\n",
      "最短路径 1 -> 0: [1, 0]\n",
      "最短路径 1 -> 2: [1, 2]\n",
      "最短路径 1 -> 3: [1, 3]\n",
      "最短路径 1 -> 7: [1, 7]\n",
      "最短路径 1 -> 4: [1, 3, 4]\n",
      "最短路径 1 -> 6: [1, 0, 6]\n",
      "最短路径 1 -> 5: [1, 3, 5]\n",
      "最短路径 2 -> 2: [2]\n",
      "最短路径 2 -> 0: [2, 0]\n",
      "最短路径 2 -> 1: [2, 1]\n",
      "最短路径 2 -> 3: [2, 3]\n",
      "最短路径 2 -> 4: [2, 3, 4]\n",
      "最短路径 2 -> 5: [2, 3, 5]\n",
      "最短路径 2 -> 6: [2, 0, 6]\n",
      "最短路径 2 -> 7: [2, 0, 6, 7]\n",
      "最短路径 3 -> 3: [3]\n",
      "最短路径 3 -> 1: [3, 1]\n",
      "最短路径 3 -> 2: [3, 2]\n",
      "最短路径 3 -> 4: [3, 4]\n",
      "最短路径 3 -> 5: [3, 5]\n",
      "最短路径 3 -> 0: [3, 2, 0]\n",
      "最短路径 3 -> 7: [3, 4, 6, 7]\n",
      "最短路径 3 -> 6: [3, 4, 6]\n",
      "最短路径 4 -> 4: [4]\n",
      "最短路径 4 -> 0: [4, 3, 2, 0]\n",
      "最短路径 4 -> 2: [4, 3, 2]\n",
      "最短路径 4 -> 3: [4, 3]\n",
      "最短路径 4 -> 5: [4, 5]\n",
      "最短路径 4 -> 6: [4, 6]\n",
      "最短路径 4 -> 1: [4, 3, 1]\n",
      "最短路径 4 -> 7: [4, 6, 7]\n",
      "最短路径 5 -> 5: [5]\n",
      "最短路径 5 -> 3: [5, 3]\n",
      "最短路径 5 -> 4: [5, 4]\n",
      "最短路径 5 -> 6: [5, 6]\n",
      "最短路径 5 -> 7: [5, 7]\n",
      "最短路径 5 -> 0: [5, 3, 2, 0]\n",
      "最短路径 5 -> 2: [5, 3, 2]\n",
      "最短路径 5 -> 1: [5, 3, 1]\n",
      "最短路径 6 -> 6: [6]\n",
      "最短路径 6 -> 0: [6, 0]\n",
      "最短路径 6 -> 4: [6, 4]\n",
      "最短路径 6 -> 5: [6, 5]\n",
      "最短路径 6 -> 7: [6, 7]\n",
      "最短路径 6 -> 1: [6, 0, 1]\n",
      "最短路径 6 -> 2: [6, 0, 2]\n",
      "最短路径 6 -> 3: [6, 4, 3]\n",
      "最短路径 7 -> 7: [7]\n",
      "最短路径 7 -> 0: [7, 6, 0]\n",
      "最短路径 7 -> 1: [7, 1]\n",
      "最短路径 7 -> 5: [7, 5]\n",
      "最短路径 7 -> 6: [7, 6]\n",
      "最短路径 7 -> 4: [7, 6, 4]\n",
      "最短路径 7 -> 3: [7, 6, 4, 3]\n",
      "最短路径 7 -> 2: [7, 6, 0, 2]\n",
      "顶点对之间的距离为: {0: {0: 0, 1: 1.0, 2: 2.0, 3: 3.0, 6: 4.0, 4: 6.0, 7: 6.0, 5: 9.0}, 1: {1: 0, 0: 1.0, 2: 2.0, 3: 3.0, 6: 5.0, 4: 6.0, 7: 7.0, 5: 9.0}, 2: {2: 0, 3: 1.0, 0: 2.0, 1: 2.0, 4: 4.0, 6: 6.0, 5: 7.0, 7: 8.0}, 3: {3: 0, 2: 1.0, 1: 3.0, 4: 3.0, 0: 3.0, 5: 6.0, 6: 6.0, 7: 8.0}, 4: {4: 0, 3: 3.0, 6: 3.0, 5: 4.0, 2: 4.0, 7: 5.0, 1: 6.0, 0: 6.0}, 5: {5: 0, 4: 4.0, 7: 4.0, 3: 6.0, 6: 6.0, 2: 7.0, 1: 9.0, 0: 9.0}, 6: {6: 0, 7: 2.0, 4: 3.0, 0: 4.0, 1: 5.0, 5: 6.0, 3: 6.0, 2: 6.0}, 7: {7: 0, 6: 2.0, 5: 4.0, 4: 5.0, 0: 6.0, 1: 7.0, 3: 8.0, 2: 8.0}}\n",
      "顶点3到顶点7的最短距离为: 8.0\n",
      "顶点对之间最短距离的数组表示为:\n",
      " [[0. 1. 2. 3. 6. 9. 4. 6.]\n",
      " [1. 0. 2. 3. 6. 9. 5. 7.]\n",
      " [2. 2. 0. 1. 4. 7. 6. 8.]\n",
      " [3. 3. 1. 0. 3. 6. 6. 8.]\n",
      " [6. 6. 4. 3. 0. 4. 3. 5.]\n",
      " [9. 9. 7. 6. 4. 0. 6. 4.]\n",
      " [4. 5. 6. 6. 3. 6. 0. 2.]\n",
      " [6. 7. 8. 8. 5. 4. 2. 0.]]\n"
     ]
    }
   ],
   "source": [
    "import numpy as np\n",
    "import networkx as nx\n",
    "\n",
    "a = np.loadtxt('Pdata_A.txt')\n",
    "# print(a)\n",
    "G = nx.Graph(a)  #利用邻接矩阵构造赋权无向图\n",
    "# p_array = nx.shortest_path(G,weight='weight')\n",
    "p_dict = dict(nx.shortest_path(G, weight='weight'))  # 先转为字典\n",
    "# 打印所有最短路径\n",
    "for source in p_dict:\n",
    "    for target in p_dict[source]:\n",
    "        path = p_dict[source][target]\n",
    "        print(f\"最短路径 {source} -> {target}: {path}\")\n",
    "d = nx.shortest_path_length(G,weight='weight')  #返回值是生成器，需转化为字典进行操作\n",
    "d_dict = dict(d) \n",
    "print('顶点对之间的距离为:', d_dict)  #显示所有顶点对之间的距离\n",
    "print('顶点3到顶点7的最短距离为:', d_dict[3][7])  #显示一对顶点之间的距离\n",
    "\n",
    "m,n = a.shape; dd = np.zeros((m,n))\n",
    "for i in range(m):\n",
    "    for j in range(n):\n",
    "        dd[i,j] = d_dict[i][j]\n",
    "# dd = nx.floyd_warshall_numpy(G, weight='weight')\n",
    "print('顶点对之间最短距离的数组表示为:\\n', dd)"
   ]
  }
 ],
 "metadata": {
  "kernelspec": {
   "display_name": "Python 3",
   "language": "python",
   "name": "python3"
  },
  "language_info": {
   "codemirror_mode": {
    "name": "ipython",
    "version": 3
   },
   "file_extension": ".py",
   "mimetype": "text/x-python",
   "name": "python",
   "nbconvert_exporter": "python",
   "pygments_lexer": "ipython3",
   "version": "3.11.9"
  }
 },
 "nbformat": 4,
 "nbformat_minor": 5
}
