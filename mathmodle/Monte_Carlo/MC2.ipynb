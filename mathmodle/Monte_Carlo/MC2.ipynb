{
 "cells": [
  {
   "cell_type": "markdown",
   "id": "d204d22c",
   "metadata": {},
   "source": [
    "蒙特卡洛法——解决三门问题"
   ]
  },
  {
   "cell_type": "code",
   "execution_count": 1,
   "id": "b8eddf20",
   "metadata": {},
   "outputs": [
    {
     "name": "stdout",
     "output_type": "stream",
     "text": [
      "蒙特卡罗方法得到的不改变主意时的获奖概率为： 0.33302\n",
      "蒙特卡罗方法得到的改变主意时的获奖概率为： 0.66698\n"
     ]
    }
   ],
   "source": [
    "import numpy as np\n",
    "\n",
    "#在成功的条件下的概率\n",
    "n = 100000  #蒙特卡洛重复的次数\n",
    "a = 0  #a表示不改变主意时能赢\n",
    "b = 0  #b表示改变主意时能赢\n",
    "for i in range(n):\n",
    "    x = np.random.randint(1,4)  #随机生成一个1-3之间的整数x表示汽车出现在第x扇门后\n",
    "    y = np.random.randint(1,4)  #随机生成一个1-3之间的整数y表示自己选的门\n",
    "    if x == y:\n",
    "        a += 1  #不改变主意时才能获奖\n",
    "    else:\n",
    "        b += 1  #改变主意时才能获奖\n",
    "print('蒙特卡罗方法得到的不改变主意时的获奖概率为：',a/n)\n",
    "print('蒙特卡罗方法得到的改变主意时的获奖概率为：',b/n)"
   ]
  },
  {
   "cell_type": "code",
   "execution_count": 2,
   "id": "7d585bbe",
   "metadata": {},
   "outputs": [
    {
     "name": "stdout",
     "output_type": "stream",
     "text": [
      "蒙特卡罗方法得到的不改变主意时的获奖概率为： 0.16567\n",
      "蒙特卡罗方法得到的改变主意时的获奖概率为： 0.33138\n",
      "蒙特卡罗方法得到的没有获奖概率为： 0.50295\n"
     ]
    }
   ],
   "source": [
    "#考虑失败的情况下（无条件概率）\n",
    "n = 100000  #蒙特卡洛重复的次数\n",
    "a = 0  #a表示不改变主意时能赢\n",
    "b = 0  #b表示改变主意时能赢\n",
    "c = 0\n",
    "for i in range(n):\n",
    "    x = np.random.randint(1,4)  #随机生成一个1-3之间的整数x表示汽车出现在第x扇门后\n",
    "    y = np.random.randint(1,4)  #随机生成一个1-3之间的整数y表示自己选的门\n",
    "    change = np.random.randint(0,2)  #change为0时不改变主意，为1时改变主意\n",
    "    if x == y:\n",
    "        if change == 0:\n",
    "            a += 1\n",
    "        else:\n",
    "            c += 1\n",
    "    else:\n",
    "        if change == 0:\n",
    "            c += 1\n",
    "        else:\n",
    "            b += 1\n",
    "print('蒙特卡罗方法得到的不改变主意时的获奖概率为：',a/n)\n",
    "print('蒙特卡罗方法得到的改变主意时的获奖概率为：',b/n)\n",
    "print('蒙特卡罗方法得到的没有获奖概率为：',c/n)"
   ]
  }
 ],
 "metadata": {
  "kernelspec": {
   "display_name": "Python 3",
   "language": "python",
   "name": "python3"
  },
  "language_info": {
   "codemirror_mode": {
    "name": "ipython",
    "version": 3
   },
   "file_extension": ".py",
   "mimetype": "text/x-python",
   "name": "python",
   "nbconvert_exporter": "python",
   "pygments_lexer": "ipython3",
   "version": "3.11.9"
  }
 },
 "nbformat": 4,
 "nbformat_minor": 5
}
