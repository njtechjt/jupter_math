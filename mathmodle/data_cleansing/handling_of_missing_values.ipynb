{
 "cells": [
  {
   "cell_type": "markdown",
   "id": "eee0df31",
   "metadata": {},
   "source": [
    "# 缺失值处理\n",
    "    Pandas使用浮点值NaN表示浮点或者非浮点数组中的缺失数据，Python内置的None值也会被当作缺失值处理\n",
    "    Pandas使用方法isnull检测是否为缺失值，检测对象的每个元素返回一个bool值"
   ]
  },
  {
   "cell_type": "markdown",
   "id": "c2582f87",
   "metadata": {},
   "source": [
    "1. 缺失值检测"
   ]
  },
  {
   "cell_type": "code",
   "execution_count": null,
   "id": "07b12a0d",
   "metadata": {},
   "outputs": [
    {
     "name": "stdout",
     "output_type": "stream",
     "text": [
      "0    False\n",
      "1     True\n",
      "2    False\n",
      "3     True\n",
      "4    False\n",
      "dtype: bool\n",
      "是否存在缺失值: True\n"
     ]
    }
   ],
   "source": [
    "from numpy import nan\n",
    "from pandas import Series\n",
    "\n",
    "data = Series([10.0, None, 20, nan, 30])\n",
    "print(data.isnull())  #输出每个元素的检测结果\n",
    "print('是否存在缺失值:', data.isnull().any())"
   ]
  },
  {
   "cell_type": "markdown",
   "id": "89f27f23",
   "metadata": {},
   "source": [
    "# 缺失值的处理方法\n",
    "    过滤法、填充法、插值法\n",
    "1. 过滤法又称删除法，当缺失的观测比例非常低时(如5%以内)，直接删除存在缺失的观测；或者当某些变量的缺失比例非常高时(如85%以上)，直接删除这些缺失的变量\n",
    "2. 填充法又称替换法，用某种常数直接替换那些缺失值，例如，对连续变量而言，可以使用均值或中位数替换；对于离散变量，可以使用众数替换\n",
    "3. 插值法，是根据其他非缺失的变量或观测来预测缺失值，常见的插值法有线性插值法、K近邻插值法、Lagrange插值法"
   ]
  },
  {
   "cell_type": "markdown",
   "id": "b3e7afeb",
   "metadata": {},
   "source": [
    "2. 1.数据过滤\n",
    "#\n",
    "    dropna方法的语法格式\n",
    "    dropna(axis=0, how='any', thresh=None)\n",
    "    其中：\n",
    "        1. axis=0表示删除行(记录)；axis=1表示删除列(变量)。\n",
    "        2. how参数可选值为:any 或 all，'any'：行/列中有任何缺失值就删除（默认）；'all'：表示删除全部为NaN的行。\n",
    "        3. thresh为整数类型，表示删除的条件，如thresh=3，表示一行中至少有3个非NaN值时，才将其保留。\n",
    "    删除列的方式为drop"
   ]
  },
  {
   "cell_type": "code",
   "execution_count": 5,
   "id": "3e62dd43",
   "metadata": {},
   "outputs": [
    {
     "name": "stdout",
     "output_type": "stream",
     "text": [
      "      用户A     用户B      用户C\n",
      "0  235.83  324.03  478.320\n",
      "1  236.27  325.63  515.450\n",
      "2  238.05  328.08  517.090\n",
      "6  237.41  391.26  516.230\n",
      "8  237.61  388.02  435.350\n",
      "9  238.03  206.43  487.675 \n",
      "------------------\n",
      "       用户A     用户B\n",
      "0  235.83  324.03\n",
      "1  236.27  325.63\n",
      "2  238.05  328.08\n",
      "3  235.90     NaN\n",
      "4  236.76  268.82\n",
      "5     NaN  404.04\n",
      "6  237.41  391.26\n",
      "7  238.65  380.81\n",
      "8  237.61  388.02\n",
      "9  238.03  206.43 \n",
      "------------------\n",
      "       用户A      用户C\n",
      "0  235.83  478.320\n",
      "1  236.27  515.450\n",
      "2  238.05  517.090\n",
      "3  235.90  514.890\n",
      "4  236.76      NaN\n",
      "5     NaN  486.090\n",
      "6  237.41  516.230\n",
      "7  238.65      NaN\n",
      "8  237.61  435.350\n",
      "9  238.03  487.675\n"
     ]
    }
   ],
   "source": [
    "from pandas import read_excel\n",
    "\n",
    "a = read_excel('Pdata2_33.xlsx', usecols=range(1,4))\n",
    "b1 = a.dropna()  #删除所有的缺失值\n",
    "b2 = a.dropna(axis=1, thresh=9)  #删除有效数据个数小于9的列\n",
    "b3 = a.drop('用户B', axis=1)  #删除用户B的数据\n",
    "print(b1,'\\n------------------\\n', b2,'\\n------------------\\n',b3)"
   ]
  },
  {
   "cell_type": "markdown",
   "id": "1022a84b",
   "metadata": {},
   "source": [
    "2. 2.数据填充\n",
    "#\n",
    "    常用的方法是fillna\n",
    "    fillna(value=None, method=None, axis=None, inplace=False)"
   ]
  },
  {
   "cell_type": "code",
   "execution_count": null,
   "id": "b5d2a854",
   "metadata": {},
   "outputs": [],
   "source": [
    "from pandas import read_excel\n",
    "\n",
    "a = read_excel('Pdata4_29.xlsx')\n",
    "b1 = a.fillna(0)  #用0填补所有的缺失值\n",
    "b2 = a.ffill()  #等价于a.fillna(method='ffill)  用前一行的值填补缺失值\n",
    "b3 = a.bfill()  #等价于a.fillna(method='bfill)  用后一行的值填补缺失值，最后一行缺失值不处理\n",
    "b4 = a.fillna(value={'gender': a.gender.mode()[0],  #性别使用众数替换  [0] 表示获取第一个众数（当有多个众数时）。\n",
    "                     'age': a.age.mean(),  #年龄使用均值替换\n",
    "                     'income': a.income.median()})  #收入使用中位数替换"
   ]
  },
  {
   "cell_type": "markdown",
   "id": "089a271f",
   "metadata": {},
   "source": [
    "2. 3.插值法\n",
    "#\n",
    "    interpolate() 插值方法可以使用：'linear','nearest','zero','slinear','quadratic','cubic','spline','barycentric','polynomial'"
   ]
  },
  {
   "cell_type": "code",
   "execution_count": 14,
   "id": "e592b909",
   "metadata": {},
   "outputs": [],
   "source": [
    "from pandas import read_excel\n",
    "import numpy as np\n",
    "\n",
    "a = read_excel('Pdata4_29.xlsx')\n",
    "b = a.fillna(value={'gender': a.gender.mode()[0],  #性别使用众数替换\n",
    "                    'age': a.age.interpolate(method='polynomial',order=2),  #年龄使用二次多项式插值替换\n",
    "                    'income': a.income.interpolate()})  #收入使用线性插值替换"
   ]
  }
 ],
 "metadata": {
  "kernelspec": {
   "display_name": "Python 3",
   "language": "python",
   "name": "python3"
  },
  "language_info": {
   "codemirror_mode": {
    "name": "ipython",
    "version": 3
   },
   "file_extension": ".py",
   "mimetype": "text/x-python",
   "name": "python",
   "nbconvert_exporter": "python",
   "pygments_lexer": "ipython3",
   "version": "3.11.9"
  }
 },
 "nbformat": 4,
 "nbformat_minor": 5
}
