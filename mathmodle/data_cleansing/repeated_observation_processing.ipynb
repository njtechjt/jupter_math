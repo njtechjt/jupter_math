{
 "cells": [
  {
   "cell_type": "markdown",
   "id": "b5c88eeb",
   "metadata": {},
   "source": [
    "# 重复观测处理\n",
    "    重复观测是指观测行存在重复的现象，重复观测的存在会影响数据分析和挖掘结果的准确性，所以在数据分析和建模之前需要进行观测的重复性检验，如果存在重复观测还需进行重复项的删除\n",
    "Pandas可以对读入的数据进行重复项检查，以及如何删除数据中的重复项\n",
    "####\n",
    "    检测数据集的记录是否存在重复，Pandas中使用duplicated方法，该方法返回的是数据行每一行的检验结果，即每一行返回一个bool值。使用drop_duplicates方法移除重复值"
   ]
  },
  {
   "cell_type": "code",
   "execution_count": 4,
   "id": "44a0aa36",
   "metadata": {},
   "outputs": [
    {
     "name": "stdout",
     "output_type": "stream",
     "text": [
      "是否存在重复观测: True\n"
     ]
    }
   ],
   "source": [
    "import pandas as pd\n",
    "\n",
    "a = pd.read_excel('Pdata4_26_1.xlsx')\n",
    "print('是否存在重复观测:', any(a.duplicated()))  #等效于a.duplicated().any()  duplicated(): 返回布尔Series，标记重复元素（第一个出现的视为非重复）  any(): 如果存在任何True，则返回True\n",
    "if a.duplicated().any():\n",
    "    a.drop_duplicates(inplace=True)  #inplace=True时，直接删除a中的重复数据  inplace=True 参数表示直接修改原对象而不返回新对象。\n",
    "    \"\"\"\n",
    "    关键参数说明\n",
    "    参数\t            描述\n",
    "    inplace=True\t    直接修改原对象，不返回新对象\n",
    "    keep\t            控制保留哪个重复项：\n",
    "        'first'         (默认)保留第一个\n",
    "        'last'          保留最后一个\n",
    "        False           删除所有重复项\n",
    "    subset\t            只考虑指定列来判断重复\n",
    "    ignore_index\t    是否重置索引\n",
    "    \"\"\"\n",
    "# 创建示例DataFrame\n",
    "df = pd.DataFrame(a)\n",
    "# 保存到Excel文件\n",
    "df.to_excel('data2.xlsx', index=False)  # index=False表示不保存行索引"
   ]
  }
 ],
 "metadata": {
  "kernelspec": {
   "display_name": "Python 3",
   "language": "python",
   "name": "python3"
  },
  "language_info": {
   "codemirror_mode": {
    "name": "ipython",
    "version": 3
   },
   "file_extension": ".py",
   "mimetype": "text/x-python",
   "name": "python",
   "nbconvert_exporter": "python",
   "pygments_lexer": "ipython3",
   "version": "3.11.9"
  }
 },
 "nbformat": 4,
 "nbformat_minor": 5
}
