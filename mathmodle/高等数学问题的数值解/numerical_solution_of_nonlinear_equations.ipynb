{
 "cells": [
  {
   "cell_type": "markdown",
   "id": "fd2e25d7",
   "metadata": {},
   "source": [
    "# 非线性方程(组)数值解\n",
    "\n",
    "### 两种较为常用的方程数值解法\n",
    "1. 二分法\n",
    "2. 牛顿迭代法\n",
    "\n",
    "### 1.二分法求根（Bisection Method）\n",
    "\n",
    "#### 方法描述\n",
    "二分法是一种在连续函数区间内寻找根的迭代方法。基于**中间值定理**，若函数f(x)在区间[a,b]上连续且f(a)与f(b)异号，则区间内至少存在一个根。\n",
    "\n",
    "#### 算法步骤\n",
    "1. **初始化**：选择区间[a,b]，确保f(a)×f(b) < 0\n",
    "2. **迭代过程**：\n",
    "   - 计算中点 c = (a + b)/2\n",
    "   - 计算f(c)\n",
    "   - 若f(c)≈0（达到精度要求），返回c\n",
    "   - 若f(a)×f(c)<0，根在[a,c]中，令b=c\n",
    "   - 否则根在[c,b]中，令a=c\n",
    "3. **终止条件**：\n",
    "   - 区间长度|b-a|<ε（预设容差）\n",
    "   - 或达到最大迭代次数\n",
    "\n",
    "### 2.牛顿迭代法求根（Newton's Method）\n",
    "\n",
    "#### 方法描述\n",
    "牛顿迭代法（又称牛顿-拉弗森方法）是一种利用函数泰勒展开的线性近似来快速寻找根的迭代方法。其核心思想是通过**切线逼近**不断修正根的估计值。\n",
    "\n",
    "#### 数学原理\n",
    "基于一阶泰勒展开：\n",
    "\\[ f(x) \\approx f(x_n) + f'(x_n)(x - x_n) \\]\n",
    "令 \\( f(x)=0 \\)，得到迭代公式：\n",
    "\\[ x_{n+1} = x_n - \\frac{f(x_n)}{f'(x_n)} \\]\n",
    "\n",
    "#### 算法步骤\n",
    "1. **初始化**：\n",
    "   - 选择初始猜测值 \\( x_0 \\)\n",
    "   - 设置容差 \\( \\epsilon \\) 和最大迭代次数 \\( N \\)\n",
    "2. **迭代过程**：\n",
    "   - 计算函数值 \\( f(x_n) \\) 和导数值 \\( f'(x_n) \\)\n",
    "   - 更新估计值：\\( x_{n+1} = x_n - f(x_n)/f'(x_n) \\)\n",
    "   - 检查终止条件：\n",
    "     - \\( |f(x_{n+1})| < \\epsilon \\)\n",
    "     - 或 \\( |x_{n+1} - x_n| < \\epsilon \\)\n",
    "     - 或达到最大迭代次数\n",
    "3. **输出**：返回最终的 \\( x_{n+1} \\)\n",
    "\n",
    "### 3.用SciPy工具库求解\n",
    "sol = fsolve(func, x0, args=(), fprime=None, full_output=0, col_deriv=0, xtol=1.49012e-08, maxfev=0, band=None, epsfcn=None, factor=100, diag=None)\n",
    "   参数\t               描述\n",
    "   func\t      要求解的函数，形式为 func(x, *args)\n",
    "   x0\t         初始猜测值（可以是标量或数组）\n",
    "   args\t      传递给函数的额外参数（元组形式）\n",
    "   fprime\t   函数的雅可比矩阵（可选）\n",
    "   xtol\t      解的容差（默认1.49e-08）\n",
    "   maxfev\t   最大函数调用次数（0表示自动确定）"
   ]
  },
  {
   "cell_type": "code",
   "execution_count": 2,
   "id": "f675952d",
   "metadata": {},
   "outputs": [
    {
     "name": "stdout",
     "output_type": "stream",
     "text": [
      "0.6706571578979492\n",
      "0.6706573107258097\n",
      "[0.67065731]\n"
     ]
    }
   ],
   "source": [
    "import numpy as np\n",
    "from scipy.optimize import fsolve\n",
    "\n",
    "def binary_search(f,eps,a,b):  #二分法函数\n",
    "    c = (a+b)/2\n",
    "    while np.abs(f(c))>eps:\n",
    "        if f(a)*f(c)<0:\n",
    "            b = c\n",
    "        else:\n",
    "            a = c\n",
    "        c = (a+b)/2\n",
    "    return c\n",
    "def newton_iter(f,eps,x0,dx=1E-8):  #牛顿迭代法函数\n",
    "    def diff(f, dx=dx):\n",
    "        return lambda x: (f(x+dx)-f(x-dx))/(2*dx)\n",
    "    df = diff(f,dx)\n",
    "    x1 = x0-f(x0)/df(x0)\n",
    "    while np.abs(x1-x0)>=eps:\n",
    "        x1,x0 = x1-f(x1)/df(x1), x1\n",
    "    return x1\n",
    "\n",
    "f = lambda x: x**3+1.1*x**2+0.9*x-1.4\n",
    "bin = binary_search(f, 1E-6, 0,1)\n",
    "newt = newton_iter(f, 1E-6,0)\n",
    "sc = fsolve(f,0)\n",
    "\n",
    "print(bin)\n",
    "print(newt)\n",
    "print(sc)"
   ]
  },
  {
   "cell_type": "markdown",
   "id": "9b690d23",
   "metadata": {},
   "source": [
    "用fsolve求解非线性方程组的数值解\n",
    "|- 5x2+3 = 0\n",
    "| 4x1^2-2sin(x2x3) = 0\n",
    "|- x2x3-1.5 = 0"
   ]
  },
  {
   "cell_type": "code",
   "execution_count": 4,
   "id": "2f2f5ae4",
   "metadata": {},
   "outputs": [
    {
     "name": "stdout",
     "output_type": "stream",
     "text": [
      "[-0.70622057 -0.6        -2.5       ]\n"
     ]
    }
   ],
   "source": [
    "from numpy import sin\n",
    "from scipy.optimize import fsolve\n",
    "\n",
    "f = lambda x: [5*x[1]+3, 4*x[0]**2-2*sin(x[1]*x[2]), x[1]*x[2]-1.5]\n",
    "fs = fsolve(f,[1.0, 1.0, 1.0])\n",
    "print(fs)"
   ]
  },
  {
   "cell_type": "code",
   "execution_count": 5,
   "id": "711aa57a",
   "metadata": {},
   "outputs": [
    {
     "name": "stdout",
     "output_type": "stream",
     "text": [
      "[-0.70622057 -0.6        -2.5       ]\n"
     ]
    }
   ],
   "source": [
    "from numpy import sin\n",
    "from scipy.optimize import fsolve\n",
    "\n",
    "def Pfun(x):\n",
    "    x1,x2,x3 = x.tolist()  #x转换成列表\n",
    "    return 5*x2+3, 4*x1**2-2*sin(x2*x3), x2*x3-1.5\n",
    "fs = fsolve(f,[1.0, 1.0, 1.0])\n",
    "print(fs)"
   ]
  }
 ],
 "metadata": {
  "kernelspec": {
   "display_name": "Python 3",
   "language": "python",
   "name": "python3"
  },
  "language_info": {
   "codemirror_mode": {
    "name": "ipython",
    "version": 3
   },
   "file_extension": ".py",
   "mimetype": "text/x-python",
   "name": "python",
   "nbconvert_exporter": "python",
   "pygments_lexer": "ipython3",
   "version": "3.11.9"
  }
 },
 "nbformat": 4,
 "nbformat_minor": 5
}
