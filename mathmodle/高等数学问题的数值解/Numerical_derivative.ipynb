{
 "cells": [
  {
   "cell_type": "markdown",
   "id": "ebe194a4",
   "metadata": {},
   "source": [
    "# 数值导数"
   ]
  }
 ],
 "metadata": {
  "language_info": {
   "name": "python"
  }
 },
 "nbformat": 4,
 "nbformat_minor": 5
}
