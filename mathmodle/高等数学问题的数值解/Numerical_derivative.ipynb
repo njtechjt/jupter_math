{
 "cells": [
  {
   "cell_type": "markdown",
   "id": "ebe194a4",
   "metadata": {},
   "source": [
    "# 数值导数\n",
    "利用泰勒级数可以给出近似记算函数导数的方法"
   ]
  },
  {
   "cell_type": "code",
   "execution_count": null,
   "id": "99abf1b9",
   "metadata": {
    "vscode": {
     "languageId": "plaintext"
    }
   },
   "outputs": [],
   "source": []
  }
 ],
 "metadata": {
  "language_info": {
   "name": "python"
  }
 },
 "nbformat": 4,
 "nbformat_minor": 5
}
