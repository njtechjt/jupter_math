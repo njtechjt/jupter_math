{
 "cells": [
  {
   "cell_type": "markdown",
   "id": "419bcedb",
   "metadata": {},
   "source": [
    "# 数值积分\n",
    "# 1.一重积分\n",
    "实际问题中，利用牛顿-莱布尼兹公式通过求原函数记算定积分是非常困难的。\n",
    "当一元函数f(x)在区间[a,b]上不变号时，其定积分的值恰好等于f(x)与直线x=a,x=b以及x轴所围成的曲边梯形的“有向面积”\n",
    "## 梯形法\n",
    "记算思想是把大的曲边梯形剖成多个小的曲边梯形，每个小曲边梯形的面积用一个梯形面积作近似，最后累加求和得到所求的定积分的数值解\n",
    "将积分区间 [a,b]分成 n 个等宽的小区间，每个小区间的宽度为 h = (b-a)/n\n",
    "然后，将每个小区间 [xi,xi+1] 上的函数曲线用直线连接 (xi,f(xi)) 和 (xi+1,f(xi+1)) 来近似，形成一个梯形。这个梯形的面积为：\n",
    "    S = (f(xi)+f(x+1))*h/2\n",
    "将所有梯形的面积相加，就得到整个积分的近似值：\n",
    "$$\n",
    "\\int_{a}^{b} f(x)dx \\approx \\frac{h}{2}\\left[f(x_0)+2\\sum_{i=1}^{n-1}f(x_i)+f(x_n)\\right]\n",
    "$$\n",
    "## 计算步骤\n",
    "1. **选择划分数** $n$（越大越精确）\n",
    "2. **计算步长** $h=\\frac{b-a}{n}$\n",
    "3. **生成节点** $x_i = a + ih$\n",
    "4. **计算函数值** $f(x_i)$\n",
    "5. **套用公式**求和\n",
    "\n",
    "# 辛普森公式（Simpson's Rule）详解\n",
    "\n",
    "## 1. 基本概念\n",
    "辛普森公式是比梯形公式更高精度的**数值积分方法**，通过用抛物线近似函数曲线来计算定积分：\n",
    "$$\n",
    "\\int_{a}^{b} f(x) \\, dx\n",
    "$$\n",
    "\n",
    "## 2. 公式推导\n",
    "### 基本形式（1/3法则）\n",
    "对区间 $[a,b]$ 采用二次多项式近似：\n",
    "$$\n",
    "\\int_{a}^{b} f(x)dx \\approx \\frac{h}{3}[f(a) + 4f(\\frac{a+b}{2}) + f(b)]\n",
    "$$\n",
    "其中 $h=\\frac{b-a}{2}$\n",
    "\n",
    "### 复合辛普森公式\n",
    "将区间分成 $n$（偶数）等份：\n",
    "$$\n",
    "\\int_{a}^{b} f(x)dx \\approx \\frac{h}{3}\\left[f(x_0) + 4\\sum_{\\text{奇}}f(x_i) + 2\\sum_{\\text{偶}}f(x_i) + f(x_n)\\right]\n",
    "$$\n",
    "- 步长 $h=\\frac{b-a}{n}$\n",
    "- 节点 $x_i=a+ih$\n",
    "\n",
    "## 3. 计算步骤\n",
    "1. 确保划分数 $n$ 为偶数\n",
    "2. 计算步长 $h=\\frac{b-a}{n}$\n",
    "3. 生成节点 $x_i = a + ih$\n",
    "4. 按模式计算加权和：\n",
    "   - 奇数项乘4\n",
    "   - 偶数项乘2（首尾除外）"
   ]
  },
  {
   "cell_type": "markdown",
   "id": "0412f282",
   "metadata": {},
   "source": [
    "利用梯形公式、辛普森公式和Scipy库中的函数quad求定积分\n",
    "$$\n",
    "I = \\int_{0}^{1} \\sin\\left(\\sqrt{\\cos(x) + x^2}\\right) \\, dx\n",
    "$$"
   ]
  },
  {
   "cell_type": "markdown",
   "id": "f46f3156",
   "metadata": {},
   "source": [
    "quad函数\n",
    "result, error = quad(f, a, b)\n",
    "    f：要积分的函数（接受一个输入变量，返回一个值）。\n",
    "    a：积分下限（float）。\n",
    "    b：积分上限（float）。\n",
    "    其他可选参数：如 epsabs（绝对误差容限）、epsrel（相对误差容限）等。"
   ]
  },
  {
   "cell_type": "code",
   "execution_count": 1,
   "id": "278653ba",
   "metadata": {},
   "outputs": [
    {
     "name": "stdout",
     "output_type": "stream",
     "text": [
      "梯形积分I1= 0.8803354297105352\n",
      "辛普森积分I2= 0.8803354170924643\n",
      "SciPy积分I3= (0.8803354170924643, 9.773686494490445e-15)\n"
     ]
    }
   ],
   "source": [
    "import numpy as np\n",
    "from scipy.integrate import quad\n",
    "\n",
    "def trapezoid(f,n,a,b):  #定义梯形公式的函数\n",
    "    xi = np.linspace(a,b,n)\n",
    "    h = (b-a)/(n-1)\n",
    "    return h*(np.sum(f(xi))-(f(a)+f(b))/2)\n",
    "def simpson(f,n,a,b):  #定义辛普森公式的函数\n",
    "    xi = np.linspace(a,b,2*n+1)\n",
    "    h = (b-a)/(2.0*n)\n",
    "    xe = [f(xi[i]) for i in range(len(xi)) if i%2==0]  #偶\n",
    "    xo = [f(xi[i]) for i in range(len(xi)) if i%2!=0]  #奇\n",
    "    return h*(2*np.sum(xe)+4*np.sum(xo)-f(a)-f(b))/3.0\n",
    "\n",
    "a = 0; b = 1; n = 1000\n",
    "f = lambda x: np.sin(np.sqrt(np.cos(x)+x**2))\n",
    "I1 = trapezoid(f,n,a,b)  #利用梯形公式记算定积分\n",
    "I2 = simpson(f,n,a,b)  #利用辛普森公式记算定积分\n",
    "I3 = quad(f,a,b)  #利用scipy.integrate中的quad记算定积分\n",
    "print('梯形积分I1=', I1)\n",
    "print('辛普森积分I2=', I2)\n",
    "print('SciPy积分I3=', I3)"
   ]
  },
  {
   "cell_type": "markdown",
   "id": "f3e92561",
   "metadata": {},
   "source": [
    "# 1.二重积分\n",
    "使用SciPy库中的函数 dblquad, tplquad 直接求数值解。\n",
    "dblquad的调用格式\n",
    "    result, error = dblquad(func, a, b, gfun, hfun, args=(), epsabs=1.49e-8, epsrel=1.49e-8)\n",
    "        参数说明：\n",
    "            func：被积函数，形式为 func(y, x)，其中：\n",
    "            x 是外层积分变量（从左到右积分）。\n",
    "            y 是内层积分变量（从下到上积分）。\n",
    "            注意顺序是 (y, x)，而不是 (x, y)。\n",
    "            a, b：外层变量 x 的积分下限和上限（常量）。\n",
    "            gfun, hfun：内层变量 y 的积分限函数（可以是常量或函数）：\n",
    "            gfun(x)：y 的下限（关于 x 的函数或常量）。\n",
    "            hfun(x)：y 的上限（关于 x 的函数或常量）。\n",
    "            args（可选）：传递给 func 的额外参数（元组形式）。\n",
    "            epsabs, epsrel（可选）：绝对和相对误差容限（默认 1.49e-8）。\n",
    "            返回值：\n",
    "            result：积分结果。\n",
    "            error：误差估计。"
   ]
  },
  {
   "cell_type": "markdown",
   "id": "fbbbb4be",
   "metadata": {},
   "source": [
    "求二重积分\n",
    "$$\n",
    "\\int_{0}^{2} \\int_{0}^{1} xy^2 \\, dy \\, dx\n",
    "$$\n",
    "和\n",
    "$$\n",
    "\\iint_D e^{-\\frac{x^2}{2}} \\sin(x^2 + y) \\, dx \\, dy\n",
    "$$\n",
    "其中积分区域 $D$ 为：\n",
    "$$\n",
    "x^2 + y^2 \\leq 1\n",
    "$$"
   ]
  },
  {
   "cell_type": "code",
   "execution_count": 7,
   "id": "281156d1",
   "metadata": {},
   "outputs": [
    {
     "name": "stdout",
     "output_type": "stream",
     "text": [
      "I1= (0.6666666666666667, 7.401486830834377e-15)\n",
      "I2= (0.5368603826989582, 3.696155159715886e-09)\n"
     ]
    }
   ],
   "source": [
    "import numpy as np\n",
    "from scipy.integrate import dblquad\n",
    "f1 = lambda y,x: x*y**2  #形式为 func(y, x)  注意顺序是 (y, x)，而不是 (x, y)。\n",
    "I1 = dblquad(f1,0,2,0,1)\n",
    "print('I1=', I1)\n",
    "\n",
    "f2 = lambda y,x: np.exp(-x**2/2)*np.sin(x**2+y)\n",
    "bd = lambda x: np.sqrt(1-x**2)\n",
    "I2 = dblquad(f2,-1,1, lambda x: -bd(x), bd)\n",
    "print('I2=', I2)"
   ]
  },
  {
   "cell_type": "markdown",
   "id": "37531d2b",
   "metadata": {},
   "source": [
    "示例 1：矩形区域积分\n",
    "$$\n",
    "\\int_{0}^{1} \\int_{0}^{2} (x^2 + y^2) \\, dy \\, dx\n",
    "$$"
   ]
  },
  {
   "cell_type": "code",
   "execution_count": 2,
   "id": "5bf4eee9",
   "metadata": {},
   "outputs": [
    {
     "name": "stdout",
     "output_type": "stream",
     "text": [
      "3.333333333333334\n"
     ]
    }
   ],
   "source": [
    "from scipy.integrate import dblquad\n",
    "\n",
    "def func(y, x):\n",
    "    return x**2 + y**2\n",
    "# y 的积分限是常量 0 和 2\n",
    "result, error = dblquad(func, 0, 1, lambda x: 0, lambda x: 2)\n",
    "print(result)  # 输出 3.333..."
   ]
  },
  {
   "cell_type": "markdown",
   "id": "49cb0983",
   "metadata": {},
   "source": [
    "示例 2：变限积分\n",
    "$$\n",
    "\\int_{0}^{1} \\int_{x}^{2x} (x + y) \\, dy \\, dx\n",
    "$$"
   ]
  },
  {
   "cell_type": "code",
   "execution_count": null,
   "id": "39d8aeb7",
   "metadata": {},
   "outputs": [
    {
     "name": "stdout",
     "output_type": "stream",
     "text": [
      "0.8333333333333333\n"
     ]
    }
   ],
   "source": [
    "from scipy.integrate import dblquad\n",
    "\n",
    "def func(y, x):\n",
    "    return x + y\n",
    "# y 的下限是 x，上限是 2x\n",
    "result, error = dblquad(func, 0, 1, lambda x: x, lambda x: 2*x)\n",
    "print(result)"
   ]
  },
  {
   "cell_type": "markdown",
   "id": "69cb01c5",
   "metadata": {},
   "source": [
    "# 2. 三重积分\n",
    "tplquad的调用格式\n",
    "tplquad 是 SciPy 中用于计算三重积分的函数，其调用格式如下：\n",
    "    result, error = tplquad(\n",
    "        func,                   # 被积函数 f(z, y, x)\n",
    "        a, b,                   # x 的积分限 [a, b]\n",
    "        gfun, hfun,             # y 的积分限 [gfun(x), hfun(x)]\n",
    "        qfun, rfun,             # z 的积分限 [qfun(x,y), rfun(x,y)]\n",
    "        args=(),                # 额外参数\n",
    "        epsabs=1.49e-8,         # 绝对误差容限\n",
    "        epsrel=1.49e-8          # 相对误差容限\n",
    "    )"
   ]
  },
  {
   "cell_type": "markdown",
   "id": "d5de289e",
   "metadata": {},
   "source": [
    "# 示例\n",
    "记算\n",
    "$$\n",
    "\\iiint_\\Omega z\\sqrt{x^2 + y^2 + 1} \\, dx \\, dy \\, dz\n",
    "$$\n",
    "其中积分区域 $\\Omega$ 由以下曲面围成：\n",
    "1. 柱面：$x^2 + y^2 - 2x = 0$\n",
    "2. 平面：$z = 0$ 和 $z = 6$"
   ]
  },
  {
   "cell_type": "code",
   "execution_count": 8,
   "id": "6882830a",
   "metadata": {},
   "outputs": [
    {
     "name": "stdout",
     "output_type": "stream",
     "text": [
      "I= (87.45019779526699, 8.742462398458883e-08)\n"
     ]
    }
   ],
   "source": [
    "import numpy as np\n",
    "from scipy.integrate import tplquad\n",
    "\n",
    "f = lambda z,y,x: z*np.sqrt(x**2+y**2+1)\n",
    "ybd = lambda x: np.sqrt(2*x-x**2)\n",
    "I = tplquad(f,0,2,lambda x: -ybd(x), ybd, 0,6)\n",
    "print('I=', I)"
   ]
  }
 ],
 "metadata": {
  "kernelspec": {
   "display_name": "Python 3",
   "language": "python",
   "name": "python3"
  },
  "language_info": {
   "codemirror_mode": {
    "name": "ipython",
    "version": 3
   },
   "file_extension": ".py",
   "mimetype": "text/x-python",
   "name": "python",
   "nbconvert_exporter": "python",
   "pygments_lexer": "ipython3",
   "version": "3.11.9"
  }
 },
 "nbformat": 4,
 "nbformat_minor": 5
}
