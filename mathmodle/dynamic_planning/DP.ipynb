{
 "cells": [
  {
   "cell_type": "markdown",
   "id": "3e0a950d",
   "metadata": {},
   "source": [
    "动态规划模型\n",
    "\n",
    "通常用来解决多决策过程最优化问题，其思想就是将原问题转化为一系列相互联系的子问题，然后通过逐层地推来求得最后的解\n",
    "\n",
    "动态规划组成部分\n",
    "1.确定状态：解动态规划的时候需要开一个数组，数组的每个元素需要明确代表什么\n",
    "            最后一步                子问题\n",
    "2.转移方程：把状态表达成方程\n",
    "3.初始条件和边界情况\n",
    "4.计算顺序"
   ]
  },
  {
   "cell_type": "code",
   "execution_count": 3,
   "id": "d749ff44",
   "metadata": {},
   "outputs": [
    {
     "name": "stdout",
     "output_type": "stream",
     "text": [
      "100\n",
      "15\n"
     ]
    }
   ],
   "source": [
    "def coinChange(n):\n",
    "    dp = [float('inf')]*(n+1)\n",
    "    dp[0] = 0  #金额为0时，需要0枚硬币\n",
    "    for i in range(1,n+1):\n",
    "        if i >= 2:\n",
    "            dp[i] = min(dp[i], dp[i-2]+1)\n",
    "        if i >= 5:\n",
    "            dp[i] = min(dp[i], dp[i-5]+1)\n",
    "        if i >= 7:\n",
    "            dp[i] = min(dp[i], dp[i-7]+1)\n",
    "    if dp[n] != float('inf'):\n",
    "        return dp[n]\n",
    "    else:\n",
    "        return -1\n",
    "    \n",
    "n = int(input('请输入要拼的金额:'))\n",
    "print(n)\n",
    "res = coinChange(n)\n",
    "print(res)"
   ]
  }
 ],
 "metadata": {
  "kernelspec": {
   "display_name": "Python 3",
   "language": "python",
   "name": "python3"
  },
  "language_info": {
   "codemirror_mode": {
    "name": "ipython",
    "version": 3
   },
   "file_extension": ".py",
   "mimetype": "text/x-python",
   "name": "python",
   "nbconvert_exporter": "python",
   "pygments_lexer": "ipython3",
   "version": "3.11.9"
  }
 },
 "nbformat": 4,
 "nbformat_minor": 5
}
