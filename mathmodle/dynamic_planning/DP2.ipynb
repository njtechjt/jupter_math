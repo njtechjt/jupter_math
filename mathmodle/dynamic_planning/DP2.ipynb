{
 "cells": [
  {
   "cell_type": "markdown",
   "id": "58335d6d",
   "metadata": {},
   "source": [
    "动态规划解决背包问题"
   ]
  },
  {
   "cell_type": "code",
   "execution_count": 4,
   "id": "8d3b5c0e",
   "metadata": {},
   "outputs": [
    {
     "name": "stdout",
     "output_type": "stream",
     "text": [
      "weight= [1, 2, 3]\n",
      "value= [4, 5, 6]\n",
      "c= 5\n",
      "最大价值: 11\n"
     ]
    }
   ],
   "source": [
    "def knapsack(weight, value, capacity):\n",
    "    \"\"\"\n",
    "    用于求解0-1背包问题的最大价值\n",
    "    weight:物品的重量列表\n",
    "    value:物品的价值列表\n",
    "    capacity:背包容量\n",
    "    返回值：最大价值\n",
    "    \"\"\"\n",
    "    n = len(weight)  #物品数量\n",
    "    dp = [[0 for j in range(capacity+1)] for i in range(n+1)]\n",
    "    \n",
    "    for i in range(1,n+1):  #遍历所有物品\n",
    "        for j in range(1,capacity+1):  #遍历所有背包空间情况\n",
    "            if j < weight[i-1]:\n",
    "                dp[i][j] = dp[i-1][j]  #背包容量不足，与上一次一样\n",
    "            else:\n",
    "                dp[i][j] = max(dp[i-1][j], dp[i-1][j-weight[i-1]]+value[i-1])  #上一次没装与上一次装了的最大值\n",
    "    return dp[n][capacity]\n",
    "\n",
    "w = input('请输入物品重量列表，用逗号分隔:')\n",
    "v = input('请输入物品价值列表，用逗号分隔:')\n",
    "c = int(input('请输入背包最大容量:'))\n",
    "weight = [int(x) for x in w.split(',')]  #将输入的字符串列表转化为证书列表\n",
    "value = [int(x) for x in v.split(',')]\n",
    "print('weight=',weight)\n",
    "print('value=',value)\n",
    "print('c=', c)\n",
    "res = knapsack(weight=weight,value=value,capacity=c)\n",
    "print('最大价值:', res)"
   ]
  }
 ],
 "metadata": {
  "kernelspec": {
   "display_name": "Python 3",
   "language": "python",
   "name": "python3"
  },
  "language_info": {
   "codemirror_mode": {
    "name": "ipython",
    "version": 3
   },
   "file_extension": ".py",
   "mimetype": "text/x-python",
   "name": "python",
   "nbconvert_exporter": "python",
   "pygments_lexer": "ipython3",
   "version": "3.11.9"
  }
 },
 "nbformat": 4,
 "nbformat_minor": 5
}
