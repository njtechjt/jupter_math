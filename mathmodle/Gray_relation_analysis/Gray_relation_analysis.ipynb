{
 "cells": [
  {
   "cell_type": "markdown",
   "id": "0d49f7a9",
   "metadata": {},
   "source": [
    "灰色关联分析"
   ]
  },
  {
   "cell_type": "code",
   "execution_count": 1,
   "id": "5e749243",
   "metadata": {},
   "outputs": [
    {
     "name": "stdout",
     "output_type": "stream",
     "text": [
      "预处理后的矩阵为：\n",
      "[[0.74576271 0.63157895 0.57142857]\n",
      " [0.88135593 1.         1.25714286]\n",
      " [1.01694915 1.05263158 1.02857143]\n",
      " [1.3559322  1.31578947 1.14285714]]\n"
     ]
    }
   ],
   "source": [
    "import numpy as np\n",
    "\n",
    "#初始矩阵：[[55,24,10],[65,38,22],[75,40,18],[100,50,20]]\n",
    "A = np.array(eval(input('请输入初始矩阵')))  #假设输入的形式是合法的python列表形式\n",
    "#求出每一列的均值以供后续的数据预处理\n",
    "Mean = np.mean(A, axis=0)\n",
    "#预处理\n",
    "A_norm = A / Mean\n",
    "print('预处理后的矩阵为：')\n",
    "print(A_norm)"
   ]
  },
  {
   "cell_type": "code",
   "execution_count": 2,
   "id": "bbf5b0ec",
   "metadata": {},
   "outputs": [
    {
     "name": "stdout",
     "output_type": "stream",
     "text": [
      "[0.74576271 0.88135593 1.01694915 1.3559322 ]\n",
      "子序列中各个指标的灰色关联度分别为：\n",
      "[0.76966578 0.60058464]\n"
     ]
    }
   ],
   "source": [
    "#母序列\n",
    "Y = A_norm[:,0]\n",
    "print(Y)\n",
    "#子序列\n",
    "X = A_norm[:,1:]\n",
    "absX0_Xi = np.abs(X - Y.reshape(-1,1))\n",
    "a = np.min(absX0_Xi)   #全局中找到最小值\n",
    "b = np.max(absX0_Xi)\n",
    "rho = 0.5  #分辨系数\n",
    "gamma = (a+rho*b)/(absX0_Xi + rho*b)\n",
    "print('子序列中各个指标的灰色关联度分别为：')\n",
    "print(np.mean(gamma,axis=0))"
   ]
  }
 ],
 "metadata": {
  "kernelspec": {
   "display_name": "Python 3",
   "language": "python",
   "name": "python3"
  },
  "language_info": {
   "codemirror_mode": {
    "name": "ipython",
    "version": 3
   },
   "file_extension": ".py",
   "mimetype": "text/x-python",
   "name": "python",
   "nbconvert_exporter": "python",
   "pygments_lexer": "ipython3",
   "version": "3.11.9"
  }
 },
 "nbformat": 4,
 "nbformat_minor": 5
}
