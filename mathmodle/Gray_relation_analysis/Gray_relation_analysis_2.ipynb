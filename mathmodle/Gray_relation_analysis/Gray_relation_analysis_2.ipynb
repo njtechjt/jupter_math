{
 "cells": [
  {
   "cell_type": "markdown",
   "id": "50fd9eda",
   "metadata": {},
   "source": [
    "灰色关联评价"
   ]
  },
  {
   "cell_type": "code",
   "execution_count": 1,
   "id": "1c8b11bb",
   "metadata": {},
   "outputs": [
    {
     "name": "stdout",
     "output_type": "stream",
     "text": [
      "请输入类型矩阵：1：极大型，2：极小型，3：中间型，4：区间型\n",
      "请输入矩阵：\n",
      "输入矩阵为：\n",
      "[[  9.  10. 175. 120.]\n",
      " [  8.   7. 164.  80.]\n",
      " [  6.   3. 157.  90.]]\n",
      "类型三：请输入最优值：\n",
      "类型四：请输入区间[a,b]值a：\n",
      "类型四：请输入区间[a,b]值b：\n",
      "统一指标后矩阵为：\n",
      "[[9.  0.  0.  0. ]\n",
      " [8.  3.  0.9 0.5]\n",
      " [6.  7.  0.2 1. ]]\n"
     ]
    }
   ],
   "source": [
    "import numpy as np\n",
    "\n",
    "#从用户输入中接受参评数目和指标数目，并将输入的字符串转换为数值\n",
    "n = int(input('请输入参评数目：'))\n",
    "m = int(input('请输入指标数目：'))\n",
    "# print(n,m)\n",
    "#接受用户输入的类型矩阵，该矩阵指示了每个指标的类型\n",
    "print('请输入类型矩阵：1：极大型，2：极小型，3：中间型，4：区间型')\n",
    "kind = input().split(' ')  #将输入的字符串按空格分割，形成列表\n",
    "\n",
    "#接收用户输入的矩阵并转化为numpy数组\n",
    "#A = [9,10,175,120;8,7,164,80;6,3,157,90]\n",
    "print('请输入矩阵：')\n",
    "A = np.zeros(shape=(n,m))  #初始化一个n行m列的全零矩阵A\n",
    "for i in range(n):\n",
    "    A[i] = input().split(\" \")  #接收每行输入的数据\n",
    "    A[i] = list(map(float,A[i]))  #将接收到的字符串列表转换为浮点数列表\n",
    "print('输入矩阵为：\\n{}'.format(A))\n",
    "\n",
    "#极小型指标转换为极大型指标\n",
    "def mintomax(x, maxx):\n",
    "    x = list(x)  #将输入的指标转化为列表\n",
    "    ans = [[(maxx-e)] for e in x]  #记算最大值与每个指标的差，并放入新列表中\n",
    "    return np.array(ans)  #将列表转化为np数组并返回\n",
    "#中间型指标转换为极大型指标\n",
    "def midtomax(bestx, x):\n",
    "    x = list(x)\n",
    "    h = [abs(e-bestx) for e in x]  #记算每个值与最优值之间的绝对差\n",
    "    M = max(h)  #找到最大的差值\n",
    "    if M == 0:\n",
    "        M = 1  #防止最大值为0\n",
    "    ans = [[(1-e/M)] for e in h]  #记算每个差值占最大差值的比例，并从1中减去\n",
    "    return np.array(ans)\n",
    "#区间型指标转换为极大型指标\n",
    "def regtomax(lowx, highx, x):\n",
    "    x = list(x)\n",
    "    M = max(lowx-min(x), max(x)-highx)  #记算指标值超出区间的最大距离\n",
    "    if M == 0:\n",
    "        M =1\n",
    "    ans = []\n",
    "    for i in range(len(x)):\n",
    "        if x[i]<lowx:\n",
    "            ans.append([(1-(lowx-x[i])/M)])\n",
    "        elif x[i] > highx:\n",
    "            ans.append([(1-(x[i]-highx)/M)])\n",
    "        else:\n",
    "            ans.append([1])\n",
    "    return np.array(ans)\n",
    "\n",
    "#统一指标类型\n",
    "X = np.zeros(shape=(n,1))\n",
    "for i in range(m):\n",
    "    if kind[i] == '1':\n",
    "        v = np.array(A[:,i])\n",
    "    elif kind[i] == '2':\n",
    "        maxA = max(A[:,i])\n",
    "        v = mintomax(A[:,i], maxA)\n",
    "    elif kind[i] == '3':\n",
    "        print('类型三：请输入最优值：')\n",
    "        bestA = eval(input())\n",
    "        v = midtomax(bestA, A[:, i])\n",
    "    elif kind[i] == '4':\n",
    "        print('类型四：请输入区间[a,b]值a：')\n",
    "        lowA = eval(input())\n",
    "        print('类型四：请输入区间[a,b]值b：')\n",
    "        highA = eval(input())\n",
    "        v = regtomax(lowA, highA, A[:, i])\n",
    "    if i == 0:\n",
    "        X = v.reshape(-1,1)  #如果是第一个指标，直接替换X数组  reshape(-1,*)表示自动识别行数\n",
    "    else:\n",
    "        X = np.hstack([X, v.reshape(-1,1)])  #如果不是第一个指标，则将新指标拼接在X数组上\n",
    "print('统一指标后矩阵为：\\n{}'.format(X))"
   ]
  },
  {
   "cell_type": "code",
   "execution_count": 2,
   "id": "8b300f6e",
   "metadata": {},
   "outputs": [
    {
     "name": "stdout",
     "output_type": "stream",
     "text": [
      "预处理后的矩阵：\n",
      "[[1.17391304 0.         0.         0.        ]\n",
      " [1.04347826 0.9        2.45454545 1.        ]\n",
      " [0.7826087  2.1        0.54545455 2.        ]]\n"
     ]
    }
   ],
   "source": [
    "#数据预处理\n",
    "Mean = np.mean(X,axis=0)\n",
    "Z = X / Mean\n",
    "print('预处理后的矩阵：')\n",
    "print(Z)"
   ]
  },
  {
   "cell_type": "code",
   "execution_count": 3,
   "id": "c72b6c36",
   "metadata": {},
   "outputs": [],
   "source": [
    "#母序列\n",
    "Y = np.max(Z,axis=1)  #母序列是虚拟的，用每一行的最大值构成的列向量表示母序列\n",
    "X = Z"
   ]
  },
  {
   "cell_type": "code",
   "execution_count": 4,
   "id": "5a6b4e88",
   "metadata": {},
   "outputs": [
    {
     "name": "stdout",
     "output_type": "stream",
     "text": [
      "归一化后的得分以及对应的索引：\n",
      "[0.45160804 0.44937917 0.0990128 ]\n",
      "[1 2 0]\n"
     ]
    }
   ],
   "source": [
    "#记算得分\n",
    "absX0_Xi = np.abs(X - Y.reshape(-1,1))\n",
    "a = np.min(absX0_Xi)\n",
    "b = np.max(absX0_Xi)\n",
    "rho = 0.5\n",
    "gramma = (a+rho*b)/(absX0_Xi + rho*b)  #记算子序列中各行指标与母序列的关联系数\n",
    "W = np.mean(gramma,axis=0) / np.sum(np.mean(gramma))  #记算各个指标的均值的权重\n",
    "score = np.sum(X * W,axis=1)\n",
    "stand_s = score / np.sum(score)  #归一化\n",
    "sorted_s = np.sort(stand_s)[::-1]  #[::-1] 表示将排序结果反转，得到降序排列。\n",
    "index = np.argsort(stand_s)[::-1]  #排序后的索引\n",
    "print('归一化后的得分以及对应的索引：')\n",
    "print(sorted_s)\n",
    "print(index)"
   ]
  }
 ],
 "metadata": {
  "kernelspec": {
   "display_name": "Python 3",
   "language": "python",
   "name": "python3"
  },
  "language_info": {
   "codemirror_mode": {
    "name": "ipython",
    "version": 3
   },
   "file_extension": ".py",
   "mimetype": "text/x-python",
   "name": "python",
   "nbconvert_exporter": "python",
   "pygments_lexer": "ipython3",
   "version": "3.11.9"
  }
 },
 "nbformat": 4,
 "nbformat_minor": 5
}
