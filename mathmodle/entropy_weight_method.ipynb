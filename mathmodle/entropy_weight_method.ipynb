{
 "cells": [
  {
   "cell_type": "markdown",
   "id": "8b3a52d3",
   "metadata": {},
   "source": [
    "熵权法求权重"
   ]
  },
  {
   "cell_type": "code",
   "execution_count": 6,
   "id": "04a90f2c",
   "metadata": {},
   "outputs": [
    {
     "name": "stdout",
     "output_type": "stream",
     "text": [
      "标准化矩阵Z=\n",
      "[[0.66896473 0.         0.         0.        ]\n",
      " [0.59463532 0.3939193  0.97618706 0.4472136 ]\n",
      " [0.44597649 0.91914503 0.21693046 0.89442719]]\n"
     ]
    }
   ],
   "source": [
    "import numpy as np\n",
    "\n",
    "#定义一个指标矩阵X\n",
    "X = np.array([[9,0,0,0],[8,3,0.9,0.5],[6,7,0.2,1]])\n",
    "#对指标矩阵进行标准化\n",
    "Z = X/np.sqrt(np.sum(X*X,axis=0))\n",
    "print('标准化矩阵Z=')\n",
    "print(Z)"
   ]
  },
  {
   "cell_type": "code",
   "execution_count": null,
   "id": "89805d17",
   "metadata": {},
   "outputs": [],
   "source": [
    "#初始化保存信息效用值的行向量\n",
    "n,m = np.shape(Z)  #获取标准化矩阵Z的行和列\n",
    "D = np.zeros(m)\n",
    "\n",
    "#自定义mylog()函数\n",
    "def mylog(p):\n",
    "    n = len(p)  #获取p的长度\n",
    "    lnp = np.zeros(n)\n",
    "    for i in range(n):\n",
    "        if p[i] == 0:\n",
    "            lnp[i] = 0\n",
    "        else:\n",
    "            lnp[i] = np.log(p[i])\n",
    "    return lnp\n",
    "#记算每个指标的信息效用值\n",
    "for i in range(m):  #遍历Z的每一列\n",
    "    x = Z[:,i]  #获取Z的第i列，即第i个指标的所有数据\n",
    "    p = x/np.sum(x)  #对每一列指标进行归一化处理，得到概率分布p\n",
    "    #注意，p可能为0，因此记算e的时候直接调用np.log()会返回-inf，所以我们自己定义一个函数\n",
    "    e = -np.sum(p*mylog(p))/np.log(n)   #根据熵的定义记算第i个指标的信息熵e\n",
    "    D[i] = 1-e   #根据信息效用值的定义记算D[i]"
   ]
  },
  {
   "cell_type": "code",
   "execution_count": 8,
   "id": "089457e2",
   "metadata": {},
   "outputs": [
    {
     "name": "stdout",
     "output_type": "stream",
     "text": [
      "权重W=\n",
      "[0.00856537 0.30716152 0.39326471 0.2910084 ]\n"
     ]
    }
   ],
   "source": [
    "#记算权重\n",
    "W = D/np.sum(D)  #将信息效用值归一化，得到各指标的权重W\n",
    "print('权重W=')\n",
    "print(W)"
   ]
  }
 ],
 "metadata": {
  "kernelspec": {
   "display_name": "Python 3",
   "language": "python",
   "name": "python3"
  },
  "language_info": {
   "codemirror_mode": {
    "name": "ipython",
    "version": 3
   },
   "file_extension": ".py",
   "mimetype": "text/x-python",
   "name": "python",
   "nbconvert_exporter": "python",
   "pygments_lexer": "ipython3",
   "version": "3.11.9"
  }
 },
 "nbformat": 4,
 "nbformat_minor": 5
}
