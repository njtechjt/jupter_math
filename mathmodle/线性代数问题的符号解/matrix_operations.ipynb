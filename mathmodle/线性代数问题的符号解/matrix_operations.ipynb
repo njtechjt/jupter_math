{
 "cells": [
  {
   "cell_type": "markdown",
   "id": "105a2620",
   "metadata": {},
   "source": [
    "# 矩阵的运算\n",
    "在符号矩阵运算中 * 表示矩阵乘法，** \n",
    "#### 基本运算\n",
    "    print(\"矩阵乘法:\", A * B)  # 符号矩阵乘法\n",
    "    print(\"行列式:\", B.det())  # 行列式\n",
    "    print(\"逆矩阵:\", A.inv())  # 逆矩阵\n",
    "    print(\"转置矩阵:\", A.T)    # 转置\n",
    "    print(\"特征值:\", A.eigenvals())  # 特征值"
   ]
  },
  {
   "cell_type": "code",
   "execution_count": null,
   "id": "a5ae31a3",
   "metadata": {},
   "outputs": [
    {
     "name": "stdout",
     "output_type": "stream",
     "text": [
      "A的模为: sqrt(14)\n",
      "A的模的浮点数为: 3.74165738677394\n",
      "A的转置矩阵为: Matrix([[1, 2, 3]])\n",
      "A和B的点乘为: 32\n",
      "A和B的叉乘为: Matrix([[-3], [6], [-3]])\n"
     ]
    }
   ],
   "source": [
    "from sympy import *\n",
    "\n",
    "# 创建符号矩阵\n",
    "A = Matrix([[1],[2],[3]])  #构造列向量，即3x1矩阵\n",
    "B = Matrix([[4],[5],[6]])\n",
    "mod = A.norm()\n",
    "f_mod = A.norm().evalf()\n",
    "chan = A.T\n",
    "dot_AB = A.dot(B)\n",
    "cross_AB = A.cross(B)\n",
    "\n",
    "print('A的模为:', mod)\n",
    "print('A的模的浮点数为:', f_mod)\n",
    "print('A的转置矩阵为:', chan)\n",
    "print('A和B的点乘为:', dot_AB)\n",
    "print('A和B的叉乘为:', cross_AB)"
   ]
  },
  {
   "cell_type": "code",
   "execution_count": 18,
   "id": "322b5de6",
   "metadata": {},
   "outputs": [
    {
     "name": "stdout",
     "output_type": "stream",
     "text": [
      "A的行列式为: 0\n",
      "A的秩为: 2\n",
      "A的转置矩阵为: Matrix([[1, 5, 9, 13], [2, 6, 10, 14], [3, 7, 11, 15], [4, 8, 12, 16]])\n",
      "所求的逆矩阵为: Matrix([[203/1800, 1/300, -11/1800, -7/450], [-1/200, 9/100, -3/200, -1/50], [-41/1800, -7/300, 137/1800, -11/450], [-73/1800, -11/300, -59/1800, 16/225]])\n",
      "A的平方为: Matrix([[90, 100, 110, 120], [202, 228, 254, 280], [314, 356, 398, 440], [426, 484, 542, 600]])\n",
      "A,B的乘积为: Matrix([[1, 2, 3, 4], [5, 6, 7, 8], [9, 10, 11, 12], [13, 14, 15, 16]])\n",
      "横连矩阵为: Matrix([[1, 2, 3, 4, 1, 0, 0, 0], [5, 6, 7, 8, 0, 1, 0, 0], [9, 10, 11, 12, 0, 0, 1, 0], [13, 14, 15, 16, 0, 0, 0, 1]])\n",
      "纵连矩阵为: Matrix([[1, 2, 3, 4], [5, 6, 7, 8], [9, 10, 11, 12], [13, 14, 15, 16], [1, 0, 0, 0], [0, 1, 0, 0], [0, 0, 1, 0], [0, 0, 0, 1]])\n",
      "提出A的左上角子块构成的矩阵为: Matrix([[1, 2], [5, 6]])\n",
      "删除A的第四行得到的矩阵为: Matrix([[1, 2, 3, 4], [5, 6, 7, 8], [9, 10, 11, 12]])\n"
     ]
    }
   ],
   "source": [
    "from sympy import *\n",
    "import numpy as np\n",
    "\n",
    "A = Matrix(np.arange(1,17).reshape(4,4))\n",
    "B = eye(4)  # Matrix([[1, 0, 0, 0], [0, 1, 0, 0], [0, 0, 1, 0], [0, 0, 0, 1]])\n",
    "print('A的行列式为:',det(A))\n",
    "print('A的秩为:', A.rank())\n",
    "print('A的转置矩阵为:', A.transpose())  #等价于 A.T\n",
    "print('所求的逆矩阵为:', (A+10*B).inv())\n",
    "print('A的平方为:', A**2)\n",
    "print('A,B的乘积为:', A*B)\n",
    "print('横连矩阵为:', A.row_join(B))\n",
    "print('纵连矩阵为:', A.col_join(B))\n",
    "print('提出A的左上角子块构成的矩阵为:', A[0:2,0:2])\n",
    "A2 = A.copy(); A2.row_del(3)\n",
    "print('删除A的第四行得到的矩阵为:', A2)"
   ]
  }
 ],
 "metadata": {
  "kernelspec": {
   "display_name": "Python 3",
   "language": "python",
   "name": "python3"
  },
  "language_info": {
   "codemirror_mode": {
    "name": "ipython",
    "version": 3
   },
   "file_extension": ".py",
   "mimetype": "text/x-python",
   "name": "python",
   "nbconvert_exporter": "python",
   "pygments_lexer": "ipython3",
   "version": "3.11.9"
  }
 },
 "nbformat": 4,
 "nbformat_minor": 5
}
