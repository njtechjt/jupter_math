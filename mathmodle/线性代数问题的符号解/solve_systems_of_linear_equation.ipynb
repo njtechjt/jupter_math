{
 "cells": [
  {
   "cell_type": "markdown",
   "id": "74966b93",
   "metadata": {},
   "source": [
    "# 解线性方程组"
   ]
  },
  {
   "cell_type": "markdown",
   "id": "49082596",
   "metadata": {},
   "source": [
    "例一："
   ]
  },
  {
   "cell_type": "code",
   "execution_count": null,
   "id": "0486bb82",
   "metadata": {},
   "outputs": [
    {
     "name": "stdout",
     "output_type": "stream",
     "text": [
      "系数矩阵A的秩为: 4\n",
      "线性方程组的唯一解为: Matrix([[4], [-14/9], [-2/9], [4/9]])\n"
     ]
    }
   ],
   "source": [
    "from sympy import *\n",
    "\n",
    "A = Matrix([[2,1,-5,1],[1,-3,0,-6],[0,2,-1,2],[1,4,-7,6]])\n",
    "b = Matrix([8,6,-2,2])  #创建的是列向量\n",
    "print('系数矩阵A的秩为:', A.rank())\n",
    "print('线性方程组的唯一解为:', A.inv()*b)"
   ]
  },
  {
   "cell_type": "markdown",
   "id": "c37eae40",
   "metadata": {},
   "source": [
    "在 SymPy 中，nullspace() 方法用于计算矩阵的零空间（核空间），即所有满足Ax=0 的解向量组成的空间。\n",
    "\n",
    "例二：求解齐次线性方程组的基础解系"
   ]
  },
  {
   "cell_type": "code",
   "execution_count": 5,
   "id": "664da8ba",
   "metadata": {},
   "outputs": [
    {
     "name": "stdout",
     "output_type": "stream",
     "text": [
      "A的零空间(即 基础解系)为: [Matrix([\n",
      "[-9/7],\n",
      "[ 1/7],\n",
      "[   1],\n",
      "[   0]]), Matrix([\n",
      "[ 1/2],\n",
      "[-1/2],\n",
      "[   0],\n",
      "[   1]])]\n"
     ]
    }
   ],
   "source": [
    "from sympy import *\n",
    "A = Matrix([[1,-5,2,-3],[5,3,6,-1],[2,4,2,1]])\n",
    "nulls = A.nullspace()\n",
    "print('A的零空间(即 基础解系)为:', nulls)"
   ]
  },
  {
   "cell_type": "markdown",
   "id": "a440fc7a",
   "metadata": {},
   "source": [
    "rref() 是 SymPy 中 Matrix 类的一个重要方法，用于计算矩阵的行最简形（Reduced Row Echelon Form），也称为 Gauss-Jordan 消元法的最终形式。\n",
    "\n",
    "##### rref() 返回一个元组 (rref_matrix, pivot_columns)：\n",
    "    \n",
    "    rref_matrix：行最简形矩阵\n",
    "    \n",
    "    pivot_columns：主元所在的列索引列表（从0开始）\n",
    "#### 主要特性\n",
    "    行最简形的特点：\n",
    "        每个非零行的第一个非零元素（主元）为1\n",
    "        主元所在列的其他元素全为0\n",
    "        全零行位于矩阵底部\n",
    "        每个主元位于前一行主元的右侧\n",
    "#### 应用场景：\n",
    "    求解线性方程组\n",
    "    计算矩阵的秩\n",
    "    判断线性相关性\n",
    "    求矩阵的逆\n",
    "\n",
    "例三：求解非齐次线性方程组的通解"
   ]
  },
  {
   "cell_type": "code",
   "execution_count": 8,
   "id": "e91d91ad",
   "metadata": {},
   "outputs": [
    {
     "name": "stdout",
     "output_type": "stream",
     "text": [
      "增广矩阵的行最简型为:\n",
      " (Matrix([\n",
      "[1, 0, -3/2,  3/4,  5/4],\n",
      "[0, 1, -3/2, -7/4, -1/4],\n",
      "[0, 0,    0,    0,    0]]), (0, 1))\n"
     ]
    }
   ],
   "source": [
    "import sympy as sp\n",
    "\n",
    "A = sp.Matrix([[1,1,-3,-1],[3,-1,-3,4],[1,5,-9,-8]])\n",
    "b = sp.Matrix([1,4,0])\n",
    "C = A.row_join(b)  #构造增广矩阵\n",
    "# print(C)\n",
    "print('增广矩阵的行最简型为:\\n', C.rref())"
   ]
  }
 ],
 "metadata": {
  "kernelspec": {
   "display_name": "Python 3",
   "language": "python",
   "name": "python3"
  },
  "language_info": {
   "codemirror_mode": {
    "name": "ipython",
    "version": 3
   },
   "file_extension": ".py",
   "mimetype": "text/x-python",
   "name": "python",
   "nbconvert_exporter": "python",
   "pygments_lexer": "ipython3",
   "version": "3.11.9"
  }
 },
 "nbformat": 4,
 "nbformat_minor": 5
}
