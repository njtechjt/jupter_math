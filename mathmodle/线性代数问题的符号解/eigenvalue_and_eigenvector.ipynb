{
 "cells": [
  {
   "cell_type": "markdown",
   "id": "7a6b9786",
   "metadata": {},
   "source": [
    "# 特征值与特征向量"
   ]
  },
  {
   "cell_type": "code",
   "execution_count": 3,
   "id": "c1593e17",
   "metadata": {},
   "outputs": [
    {
     "name": "stdout",
     "output_type": "stream",
     "text": [
      "A的特征值为: {-8: 1, 1: 2}\n",
      "A的特征向量为: [(-8, 1, [Matrix([\n",
      "[-1/2],\n",
      "[  -1],\n",
      "[   1]])]), (1, 2, [Matrix([\n",
      "[-2],\n",
      "[ 1],\n",
      "[ 0]]), Matrix([\n",
      "[2],\n",
      "[0],\n",
      "[1]])])]\n"
     ]
    }
   ],
   "source": [
    "import sympy as sp\n",
    "\n",
    "A = sp.Matrix([[0,-2,2],[-2,-3,4],[2,4,-3]])\n",
    "print('A的特征值为:', A.eigenvals())\n",
    "print('A的特征向量为:', A.eigenvects())"
   ]
  },
  {
   "cell_type": "markdown",
   "id": "3aca37e1",
   "metadata": {},
   "source": [
    "# 矩阵的相似对角化\n",
    "    即求可逆矩阵P，使得P^-1AP = D为对角矩阵"
   ]
  },
  {
   "cell_type": "code",
   "execution_count": 4,
   "id": "f0fbdf15",
   "metadata": {},
   "outputs": [
    {
     "name": "stdout",
     "output_type": "stream",
     "text": [
      "A的对角化矩阵为: (Matrix([\n",
      "[-1, -2, 2],\n",
      "[-2,  1, 0],\n",
      "[ 2,  0, 1]]), Matrix([\n",
      "[-8, 0, 0],\n",
      "[ 0, 1, 0],\n",
      "[ 0, 0, 1]]))\n"
     ]
    }
   ],
   "source": [
    "from sympy import Matrix, diag\n",
    "\n",
    "A = Matrix([[0,-2,2],[-2,-3,4],[2,4,-3]])\n",
    "#判断能否对角化\n",
    "if A.is_diagonalizable():\n",
    "    print('A的对角化矩阵为:', A.diagonalize())\n",
    "else:\n",
    "    print('A不能对角化')"
   ]
  }
 ],
 "metadata": {
  "kernelspec": {
   "display_name": "Python 3",
   "language": "python",
   "name": "python3"
  },
  "language_info": {
   "codemirror_mode": {
    "name": "ipython",
    "version": 3
   },
   "file_extension": ".py",
   "mimetype": "text/x-python",
   "name": "python",
   "nbconvert_exporter": "python",
   "pygments_lexer": "ipython3",
   "version": "3.11.9"
  }
 },
 "nbformat": 4,
 "nbformat_minor": 5
}
